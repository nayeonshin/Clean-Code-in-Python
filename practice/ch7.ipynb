{
 "cells": [
  {
   "cell_type": "markdown",
   "metadata": {},
   "source": [
    "# ch7. Generator"
   ]
  },
  {
   "cell_type": "markdown",
   "metadata": {},
   "source": [
    "## 0. Discriptor Review\n",
    "- refer link([blog1](https://m.blog.naver.com/PostView.naver?isHttpsRedirect=true&blogId=dudwo567890&logNo=130165713734))\n"
   ]
  },
  {
   "cell_type": "markdown",
   "metadata": {},
   "source": [
    "- 디스크립터를 활용함으로써 강력한 추상화 가능\n",
    "- 디스크립터는 재사용 가능한(반복 가능한) 프로퍼티 로직을 구할 때 좋음\n",
    "  - 캡슐화\n",
    "\n",
    "- 비즈니스 로직을 넣으면 안됨"
   ]
  },
  {
   "cell_type": "markdown",
   "metadata": {},
   "source": [
    "> garbage collection \n",
    "- 사용하지 않는 메모리를 반환\n",
    "\n",
    "### 참조(Reference)\n",
    "- 생성된 객체에 대해서 여러 다른 이름으로 참조 할 때 참조카운터가 증가함\n",
    "- 참조카운터가 0보다 큰 경우 가비지컬렉션이 일어나지 않음\n",
    "\n",
    "### 약한 참조(Weak reference)\n",
    "- 변수가 객체를 참조할 때, 참조카운터를 증가시키지 않음\n",
    "- `weakref` 모듈 사용"
   ]
  },
  {
   "cell_type": "code",
   "execution_count": 1,
   "metadata": {},
   "outputs": [
    {
     "data": {
      "text/plain": [
       "1"
      ]
     },
     "execution_count": 1,
     "metadata": {},
     "output_type": "execute_result"
    }
   ],
   "source": [
    "import weakref\n",
    "class C:\n",
    "    a = 1\n",
    "\n",
    "c = C()\n",
    "r = weakref.ref(c)\n",
    "r().a"
   ]
  },
  {
   "cell_type": "code",
   "execution_count": 2,
   "metadata": {},
   "outputs": [
    {
     "data": {
      "text/plain": [
       "1"
      ]
     },
     "execution_count": 2,
     "metadata": {},
     "output_type": "execute_result"
    }
   ],
   "source": [
    "p = weakref.proxy(c)\n",
    "p.a"
   ]
  },
  {
   "cell_type": "markdown",
   "metadata": {},
   "source": [
    "# 1. 제너레이터 만들기\n",
    "- 고성능이면서 메모리를 적게 사용하는 반복을 위한 방법\n",
    "- 이터러블을 생성해주는 객체(함수)\n",
    "- 주요 목적은 **메모리 절약**\n",
    "- 파이썬에서 어떤 함수라도 yield 키워드를 사용하면 제너레이터 함수가 됨\n",
    "- 이터러블을 사용하면 for 루프의 다형성을 보장하는 강력한 추상화 가능"
   ]
  },
  {
   "cell_type": "code",
   "execution_count": 5,
   "metadata": {},
   "outputs": [
    {
     "name": "stderr",
     "output_type": "stream",
     "text": [
      "Results: PurchasesStats(0.0, 999999.0, 499999.5)\n"
     ]
    }
   ],
   "source": [
    "\"\"\"Clean Code in Python - Chapter 7: Using Generators\n",
    "\n",
    "> Introduction to generators\n",
    "\n",
    "\"\"\"\n",
    "from _generate_data import PURCHASES_FILE, create_purchases_file\n",
    "from log import logger\n",
    "\n",
    "\n",
    "class PurchasesStats:\n",
    "    def __init__(self, purchases):\n",
    "        self.purchases = iter(purchases)\n",
    "        self.min_price: float = None\n",
    "        self.max_price: float = None\n",
    "        self._total_purchases_price: float = 0.0\n",
    "        self._total_purchases = 0\n",
    "        self._initialize()\n",
    "\n",
    "    def _initialize(self):\n",
    "        try:\n",
    "            first_value = next(self.purchases)\n",
    "        except StopIteration:\n",
    "            raise ValueError(\"no values provided\")\n",
    "\n",
    "        self.min_price = self.max_price = first_value\n",
    "        self._update_avg(first_value)\n",
    "\n",
    "    def process(self):\n",
    "        for purchase_value in self.purchases:\n",
    "            self._update_min(purchase_value)\n",
    "            self._update_max(purchase_value)\n",
    "            self._update_avg(purchase_value)\n",
    "        return self\n",
    "\n",
    "    def _update_min(self, new_value: float):\n",
    "        if new_value < self.min_price:\n",
    "            self.min_price = new_value\n",
    "\n",
    "    def _update_max(self, new_value: float):\n",
    "        if new_value > self.max_price:\n",
    "            self.max_price = new_value\n",
    "\n",
    "    @property\n",
    "    def avg_price(self):\n",
    "        return self._total_purchases_price / self._total_purchases\n",
    "\n",
    "    def _update_avg(self, new_value: float):\n",
    "        self._total_purchases_price += new_value\n",
    "        self._total_purchases += 1\n",
    "\n",
    "    def __str__(self):\n",
    "        return (\n",
    "            f\"{self.__class__.__name__}({self.min_price}, \"\n",
    "            f\"{self.max_price}, {self.avg_price})\"\n",
    "        )\n",
    "\n",
    "\n",
    "# def _load_purchases(filename):\n",
    "#     purchases = []\n",
    "#     with open(filename) as f:\n",
    "#         for line in f:\n",
    "#             *_, price_raw = line.partition(\",\")\n",
    "#             purchases.append(float(price_raw))\n",
    "\n",
    "#     return purchases\n",
    "\n",
    "\n",
    "def load_purchases(filename):\n",
    "    with open(filename) as f:\n",
    "        for line in f:\n",
    "            *_, price_raw = line.partition(\",\")\n",
    "            yield float(price_raw)\n",
    "\n",
    "\n",
    "def main():\n",
    "    create_purchases_file(PURCHASES_FILE)\n",
    "    purchases = load_purchases(PURCHASES_FILE)\n",
    "    stats = PurchasesStats(purchases).process()\n",
    "    logger.info(\"Results: %s\", stats)\n",
    "\n",
    "\n",
    "if __name__ == \"__main__\":\n",
    "    main()\n"
   ]
  },
  {
   "cell_type": "code",
   "execution_count": 6,
   "metadata": {},
   "outputs": [
    {
     "data": {
      "text/plain": [
       "<generator object load_purchases at 0x00000268CE9BA7B0>"
      ]
     },
     "execution_count": 6,
     "metadata": {},
     "output_type": "execute_result"
    }
   ],
   "source": [
    "load_purchases(\"file\")"
   ]
  },
  {
   "cell_type": "markdown",
   "metadata": {},
   "source": [
    "# 2. 이상적인 반복\n",
    "## 관용적인 반복 코드"
   ]
  },
  {
   "cell_type": "code",
   "execution_count": 8,
   "metadata": {},
   "outputs": [],
   "source": [
    "class NumberSequence:\n",
    "    def __init__(self, start=0):\n",
    "        self.current = start\n",
    "\n",
    "    def next(self):\n",
    "        current = self.current\n",
    "        self.current += 1\n",
    "        return current\n",
    "\n",
    "seq = NumberSequence()"
   ]
  },
  {
   "cell_type": "code",
   "execution_count": 10,
   "metadata": {},
   "outputs": [
    {
     "ename": "TypeError",
     "evalue": "'NumberSequence' object is not iterable",
     "output_type": "error",
     "traceback": [
      "\u001b[1;31m---------------------------------------------------------------------------\u001b[0m",
      "\u001b[1;31mTypeError\u001b[0m                                 Traceback (most recent call last)",
      "\u001b[1;32mC:\\Users\\SSAFY_~1\\AppData\\Local\\Temp/ipykernel_12904/4012924494.py\u001b[0m in \u001b[0;36m<module>\u001b[1;34m\u001b[0m\n\u001b[1;32m----> 1\u001b[1;33m \u001b[0mlist\u001b[0m\u001b[1;33m(\u001b[0m\u001b[0mzip\u001b[0m\u001b[1;33m(\u001b[0m\u001b[0mNumberSequence\u001b[0m\u001b[1;33m(\u001b[0m\u001b[1;33m)\u001b[0m\u001b[1;33m,\u001b[0m \u001b[1;34m\"abcdef\"\u001b[0m\u001b[1;33m)\u001b[0m\u001b[1;33m)\u001b[0m\u001b[1;33m\u001b[0m\u001b[1;33m\u001b[0m\u001b[0m\n\u001b[0m",
      "\u001b[1;31mTypeError\u001b[0m: 'NumberSequence' object is not iterable"
     ]
    }
   ],
   "source": [
    "list(zip(NumberSequence(), \"abcdef\"))"
   ]
  },
  {
   "cell_type": "markdown",
   "metadata": {},
   "source": [
    "- iter 을 구현해 객체를 반복가능하게 만듬"
   ]
  },
  {
   "cell_type": "code",
   "execution_count": 11,
   "metadata": {},
   "outputs": [
    {
     "data": {
      "text/plain": [
       "[(0, 'a'), (1, 'b'), (2, 'c'), (3, 'd'), (4, 'e'), (5, 'f')]"
      ]
     },
     "execution_count": 11,
     "metadata": {},
     "output_type": "execute_result"
    }
   ],
   "source": [
    "class SequenceOfNumbers:\n",
    "    def __init__(self, start=0):\n",
    "        self.current = start\n",
    "\n",
    "    def __next__(self):\n",
    "        current = self.current\n",
    "        self.current += 1\n",
    "        return current\n",
    "\n",
    "    def __iter__(self):\n",
    "        return self\n",
    "list(zip(SequenceOfNumbers(), \"abcdef\"))"
   ]
  },
  {
   "cell_type": "markdown",
   "metadata": {},
   "source": [
    "- 제너레이터 사용하기"
   ]
  },
  {
   "cell_type": "code",
   "execution_count": 12,
   "metadata": {},
   "outputs": [
    {
     "data": {
      "text/plain": [
       "[(0, 'a'), (1, 'b'), (2, 'c'), (3, 'd'), (4, 'e'), (5, 'f')]"
      ]
     },
     "execution_count": 12,
     "metadata": {},
     "output_type": "execute_result"
    }
   ],
   "source": [
    "def sequence(start=0):\n",
    "    while True:\n",
    "        yield start\n",
    "        start += 1\n",
    "\n",
    "list(zip(sequence(), \"abcdef\"))"
   ]
  },
  {
   "cell_type": "markdown",
   "metadata": {},
   "source": [
    "## 파이썬 이터레이터 패턴\n",
    "- `__iter__` 와 `__next__` 매직 메서드를 구현한 객체"
   ]
  },
  {
   "cell_type": "markdown",
   "metadata": {},
   "source": [
    "### 이터레이션 인터페이스\n",
    "- `__iter__` : 이터러블, 반복을 지원하는 객체, for 루프에서 사용 가능\n",
    "- `__next__`: 이터레이터 : 함수 호출 시 일련의 값에 대해 한 번에 하나씩만 어떻게 생성하는지 알고 있는 객체"
   ]
  },
  {
   "cell_type": "markdown",
   "metadata": {},
   "source": [
    "### 이터러블이 가능한 시퀀스 객체\n",
    "> 객체가 시퀀스여서 우연히 반복 가능할 수 있지만, 반복을 위한 객체를 디자인 할때는 iter 매직 메서드를 구현하라\n",
    "- iter가 없어도 `__getitem__` 과 `__len__` 이 있으면 반복 가능\n",
    "- INdexError 예외가 발생할 때까지 순서대로 값을 제공, 반복에 대한 중지를 알리는 역할"
   ]
  },
  {
   "cell_type": "markdown",
   "metadata": {},
   "source": []
  },
  {
   "cell_type": "code",
   "execution_count": 14,
   "metadata": {},
   "outputs": [],
   "source": [
    "class MappedRange:\n",
    "    \"\"\"Apply a transformation to a range of numbers.\"\"\"\n",
    "\n",
    "    def __init__(self, transformation, start, end):\n",
    "        self._transformation = transformation\n",
    "        self._wrapped = range(start, end)\n",
    "\n",
    "    def __getitem__(self, index):\n",
    "        value = self._wrapped.__getitem__(index)\n",
    "        result = self._transformation(value)\n",
    "        logger.debug(\"Index %d: %s\", index, result)\n",
    "        return result\n",
    "\n",
    "    def __len__(self):\n",
    "        return len(self._wrapped)\n",
    "\n",
    "mr = MappedRange(abs, -10, 5)"
   ]
  },
  {
   "cell_type": "code",
   "execution_count": 15,
   "metadata": {},
   "outputs": [
    {
     "data": {
      "text/plain": [
       "10"
      ]
     },
     "execution_count": 15,
     "metadata": {},
     "output_type": "execute_result"
    }
   ],
   "source": [
    "mr[0]"
   ]
  },
  {
   "cell_type": "code",
   "execution_count": 16,
   "metadata": {},
   "outputs": [
    {
     "data": {
      "text/plain": [
       "[10, 9, 8, 7, 6, 5, 4, 3, 2, 1, 0, 1, 2, 3, 4]"
      ]
     },
     "execution_count": 16,
     "metadata": {},
     "output_type": "execute_result"
    }
   ],
   "source": [
    "list(mr)"
   ]
  },
  {
   "cell_type": "markdown",
   "metadata": {},
   "source": [
    "# 3. 코루틴(coroutine)\n",
    "\n",
    "## 메인루틴과 서브 루틴 : 종속된  관계\n",
    "![기본 루틴 동작](https://dojang.io/pluginfile.php/13976/mod_page/content/3/041001.png)\n",
    "\n",
    "## 코루틴\n",
    "- 메인루틴과 서브루틴이 서로 대등한 관계\n",
    "- 진입점(entry point)가 여러개인 함수\n",
    "  - 진입점 : 함수의 코드를 실행하는 지점\n",
    "![코루틴 동작](https://dojang.io/pluginfile.php/13976/mod_page/content/3/041002.png)"
   ]
  },
  {
   "cell_type": "code",
   "execution_count": 17,
   "metadata": {},
   "outputs": [
    {
     "name": "stdout",
     "output_type": "stream",
     "text": [
      "1\n",
      "2\n",
      "3\n"
     ]
    }
   ],
   "source": [
    "def number_coroutine():\n",
    "    while True:        # 코루틴을 계속 유지하기 위해 무한 루프 사용\n",
    "        x = (yield)    # 코루틴 바깥에서 값을 받아옴, yield를 괄호로 묶어야 함\n",
    "        print(x)\n",
    " \n",
    "co = number_coroutine()\n",
    "next(co)      # 코루틴 안의 yield까지 코드 실행(최초 실행)\n",
    " \n",
    "co.send(1)    # 코루틴에 숫자 1을 보냄\n",
    "co.send(2)    # 코루틴에 숫자 2을 보냄\n",
    "co.send(3)    # 코루틴에 숫자 3을 보냄"
   ]
  },
  {
   "cell_type": "markdown",
   "metadata": {},
   "source": [
    "![동작 방식](https://dojang.io/pluginfile.php/13976/mod_page/content/3/041003.png)"
   ]
  },
  {
   "cell_type": "code",
   "execution_count": null,
   "metadata": {},
   "outputs": [],
   "source": []
  }
 ],
 "metadata": {
  "interpreter": {
   "hash": "09037bb3da3403e9ea7d45129c0b9a6b15d0ce6b6bb372b4204088a5f425237c"
  },
  "kernelspec": {
   "display_name": "Python 3.9.6 64-bit",
   "language": "python",
   "name": "python3"
  },
  "language_info": {
   "codemirror_mode": {
    "name": "ipython",
    "version": 3
   },
   "file_extension": ".py",
   "mimetype": "text/x-python",
   "name": "python",
   "nbconvert_exporter": "python",
   "pygments_lexer": "ipython3",
   "version": "3.9.6"
  },
  "orig_nbformat": 4
 },
 "nbformat": 4,
 "nbformat_minor": 2
}
