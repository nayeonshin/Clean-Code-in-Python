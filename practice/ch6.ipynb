{
 "cells": [
  {
   "cell_type": "markdown",
   "metadata": {},
   "source": [
    "# Ch6. Descritor 로 더 멋진 객체 만들기\n",
    "### Reference\n",
    "- [DOC](https://docs.python.org/ko/3/howto/descriptor.html)\n"
   ]
  },
  {
   "cell_type": "markdown",
   "metadata": {},
   "source": [
    "# 디스크립터 개요\n",
    "\n",
    "- 디스크립터(Descriptor)란 다음 매직 메서드 중에 최소 한 개 이상을 포함하는 객체\n",
    "    - `__get__`, `__set__` , `__delete__`, `__set_name__`\n",
    "- @property의 단점은 속성을 처리하는 메서드가 하위 클래스 사이에서만 공유될 수 있다는 것\n",
    "    - 서로 관련이 없는 클래스 사이에 같은 (프로퍼티 게터나 세터) 구현을 공유 할 수 없음\n",
    "- 디스크립터는 **재사용 가능한(반복 가능한) 프로퍼티 로직을 구현**할 때는 물론 다른 여러 용도에도 사용할 수 있음\n",
    "    - `__get__` 메서드 뒤쪽으로 모든 종류의 논리를 추상화할 수 있음\n",
    "    - 클라이언트에게 내용을 숨긴 채로 모든 유형의 변환을 투명하게 실행(캡슐화)\n",
    "\n",
    "- 디스크립터는 데코레이터가 클래스 메서드에서도 동작할 수 있도록 도와 더 나은 데코레이터를 만들 수 있게 해줌\n",
    "- 클라이언트가 새용하게 되는 내부 API에 대해서는 디스크립터를 사용하는 것이 좋음\n",
    "    - 라이브러리, 프레임워크에서의 기능 확장\n",
    "- 비즈니스 로직을 넣으면 안됨"
   ]
  },
  {
   "cell_type": "code",
   "execution_count": 2,
   "metadata": {},
   "outputs": [
    {
     "name": "stdout",
     "output_type": "stream",
     "text": [
      "<__main__.Attribute object at 0x000001DDCA992BE0>\n",
      "42\n"
     ]
    }
   ],
   "source": [
    "class Attribute:\n",
    "    value = 42\n",
    "\n",
    "class Client:\n",
    "    \"\"\"디스크립터 프로토콜 사용\"\"\"\n",
    "    attribute = Attribute()\n",
    "\n",
    "print(Client().attribute)\n",
    "print(Client().attribute.value)"
   ]
  },
  {
   "cell_type": "markdown",
   "metadata": {},
   "source": [
    "> 디스크립터 객체는 항상 클래스 속성으로 선언해야 한다!   \n",
    ">  >객체를 인스턴스 속성으로 생성하면 동작하지 않음\n"
   ]
  },
  {
   "cell_type": "code",
   "execution_count": 1,
   "metadata": {},
   "outputs": [],
   "source": [
    "import logging\n",
    "\n",
    "logging.basicConfig(level=logging.INFO)\n",
    "logger = logging.getLogger(__name__)\n",
    "\n",
    "\n",
    "class DescriptorClass:\n",
    "    \"\"\"\n",
    "    디스크립터로 인식, \n",
    "    객체 자체를 반환하는 것이 아니라\n",
    "    _get__ 매직 메서드의 결과를 반환\n",
    "    \"\"\"\n",
    "    def __get__(self, instance, owner):\n",
    "        if instance is None:\n",
    "            return self\n",
    "        logger.info(\n",
    "            \"Call: %s.__get__(%r, %r)\",\n",
    "            self.__class__.__name__,\n",
    "            instance,\n",
    "            owner,\n",
    "        )\n",
    "        return instance\n",
    "\n",
    "\n",
    "class ClientClass:\n",
    "    \"\"\"디스크립터 객체는 항상 클래스 속성으로 선언\"\"\"\n",
    "    descriptor = DescriptorClass()\n",
    "\n",
    "client = ClientClass()\n"
   ]
  },
  {
   "cell_type": "code",
   "execution_count": 2,
   "metadata": {},
   "outputs": [
    {
     "name": "stderr",
     "output_type": "stream",
     "text": [
      "INFO:__main__:Call: DescriptorClass.__get__(<__main__.ClientClass object at 0x000001563C0F46D0>, <class '__main__.ClientClass'>)\n"
     ]
    },
    {
     "data": {
      "text/plain": [
       "True"
      ]
     },
     "execution_count": 2,
     "metadata": {},
     "output_type": "execute_result"
    }
   ],
   "source": [
    "client = ClientClass()\n",
    "\n",
    "client.descriptor is client"
   ]
  },
  {
   "cell_type": "markdown",
   "metadata": {},
   "source": [
    "## 디스크립터 프로토콜의 메서드 탐색\n",
    "`descr.__get__(self, obj, type=None) -> value`   \n",
    "`descr.__set__(self, obj, value) -> None`   \n",
    "`descr.__delete__(self, obj) -> None`   \n",
    "이것이 전부입니다. 이러한 메서드 중 하나를 정의하십시오,    \n",
    "그러면 객체를 디스크립터로 간주하고 어트리뷰트로 조회될 때 기본 동작을 재정의할 수 있음"
   ]
  },
  {
   "cell_type": "markdown",
   "metadata": {},
   "source": [
    "### `__get__(self, instance, owner)`\n",
    "- self : 디스크립터 객체\n",
    "- instance : 클라이언트 객체, 디스크립터를 호출할 객체\n",
    "- owner : 해당 객체의 클래스, 바로 호출하기 위해 사용"
   ]
  },
  {
   "cell_type": "code",
   "execution_count": 3,
   "metadata": {},
   "outputs": [
    {
     "data": {
      "text/plain": [
       "'DescriptorClass.ClientClass'"
      ]
     },
     "execution_count": 3,
     "metadata": {},
     "output_type": "execute_result"
    }
   ],
   "source": [
    "class DescriptorClass:\n",
    "    def __get__(self, instance, owner):\n",
    "        if instance is None:\n",
    "            return f\"{self.__class__.__name__}.{owner.__name__}\"\n",
    "        return f\"value for {instance}\"\n",
    "\n",
    "\n",
    "class ClientClass:\n",
    "    descriptor = DescriptorClass()\n",
    "\n",
    "ClientClass.descriptor"
   ]
  },
  {
   "cell_type": "code",
   "execution_count": 4,
   "metadata": {},
   "outputs": [
    {
     "data": {
      "text/plain": [
       "'value for <__main__.ClientClass object at 0x000001563C030280>'"
      ]
     },
     "execution_count": 4,
     "metadata": {},
     "output_type": "execute_result"
    }
   ],
   "source": [
    "ClientClass().descriptor"
   ]
  },
  {
   "cell_type": "markdown",
   "metadata": {},
   "source": [
    "## 디스크립터 유형\n",
    "### non-data 디스크립터\n",
    "- get만 구현한 디스크립터\n",
    "- 객체의 사전보다 후순위로 적용\n",
    "- 즉, 객체의 사전에 디스크립터와 동일한 이름의 키가 있으면 객체의 사전 값만 적용"
   ]
  },
  {
   "cell_type": "markdown",
   "metadata": {},
   "source": [
    "### data 디스크립터\n",
    "- set, delete로 정의한 디스크립터\n",
    "- [doc](https://docs.python.org/ko/3/howto/descriptor.html#orm-example)\n",
    "- ORM \n",
    "  - 데이터를 외부 데이터베이스에 저장되게 함\n",
    "  - 파이썬 인스턴스는 데이터베이스 테이블에 대한 키만 보유\n",
    "  - 디스크립터가 조회, 갱신 처리"
   ]
  },
  {
   "cell_type": "markdown",
   "metadata": {},
   "source": [
    "# 디스크립터 실전\n",
    "## 다른 형태의 디스크립터"
   ]
  },
  {
   "cell_type": "markdown",
   "metadata": {},
   "source": [
    "### 전역 상태 공유(global shared state) 이슈\n",
    "- 디스크립터는 클래스 속성으로 설정해야함\n",
    "- 클래스 속성의 문제점은 해당 클래스의 모든 인스턴스에서 공유된다는 것\n",
    "\n",
    "### 객체의 사전에 접근하기\n",
    "- `__dcit__` 사전에 값을 설정하고 검색해야 함\n",
    "> 항상 인스턴스의 `__dict__`속성에서 데이터를 저장하고 반환하라"
   ]
  },
  {
   "cell_type": "markdown",
   "metadata": {},
   "source": []
  },
  {
   "cell_type": "code",
   "execution_count": 1,
   "metadata": {},
   "outputs": [],
   "source": [
    "class SharedDataDescriptor:\n",
    "    def __init__(self, initial_value):\n",
    "        self.value = initial_value\n",
    "\n",
    "    def __get__(self, instance, owner):\n",
    "        if instance is None:\n",
    "            return self\n",
    "        return self.value\n",
    "\n",
    "    def __set__(self, instance, value):\n",
    "        self.value = value\n",
    "\n",
    "\n",
    "class ClientClass:\n",
    "    descriptor = SharedDataDescriptor(\"first value\")"
   ]
  },
  {
   "cell_type": "code",
   "execution_count": 2,
   "metadata": {},
   "outputs": [
    {
     "data": {
      "text/plain": [
       "'value for client 2'"
      ]
     },
     "execution_count": 2,
     "metadata": {},
     "output_type": "execute_result"
    }
   ],
   "source": [
    "client1 = ClientClass()\n",
    "client2 = ClientClass()\n",
    "\n",
    "client2.descriptor = \"value for client 2\"\n",
    "client2.descriptor\n",
    "client1.descriptor"
   ]
  },
  {
   "cell_type": "markdown",
   "metadata": {},
   "source": [
    "- 인스턴스(client12)를 바꾸면 다른 인스턴스(clieet1)도 바뀜"
   ]
  },
  {
   "cell_type": "markdown",
   "metadata": {},
   "source": [
    "#### 약한 참조 사용\n",
    "- wekref 모듈 => 약한 키 생성\n",
    "> 주의사항\n",
    "- 인스턴스 객체는 더 이상 속성을 보유하지 않고 **디스크립터가 속성을 보유**\n",
    "- 객체는 `__hash__` 메서드를 구현하여 해시가 가능해야 함"
   ]
  },
  {
   "cell_type": "code",
   "execution_count": 4,
   "metadata": {},
   "outputs": [],
   "source": [
    "from weakref import WeakKeyDictionary\n",
    "\n",
    "\n",
    "class DescriptorClass:\n",
    "    def __init__(self, initial_value):\n",
    "        self.value = initial_value\n",
    "        self.mapping = WeakKeyDictionary()\n",
    "\n",
    "    def __get__(self, instance, owner):\n",
    "        if instance is None:\n",
    "            return self\n",
    "        return self.mapping.get(instance, self.value)\n",
    "\n",
    "    def __set__(self, instance, value):\n",
    "        self.mapping[instance] = value\n",
    "\n",
    "\n",
    "class ClientClass:\n",
    "    \"\"\"\n",
    "    >>> client1 = ClientClass()\n",
    "    >>> client2 = ClientClass()\n",
    "\n",
    "    >>> client1.descriptor = \"new value\"\n",
    "\n",
    "    client1 must have the new value, whilst client2 has to still be with the\n",
    "    default one:\n",
    "\n",
    "    >>> client1.descriptor\n",
    "    'new value'\n",
    "    >>> client2.descriptor\n",
    "    'default value'\n",
    "\n",
    "    Changing the value for client2 doesn't affect client1\n",
    "\n",
    "    >>> client2.descriptor = \"value for client2\"\n",
    "    >>> client2.descriptor\n",
    "    'value for client2'\n",
    "    >>> client2.descriptor != client1.descriptor\n",
    "    True\n",
    "    \"\"\"\n",
    "\n",
    "    descriptor = DescriptorClass(\"default value\")"
   ]
  },
  {
   "cell_type": "code",
   "execution_count": 9,
   "metadata": {},
   "outputs": [
    {
     "name": "stdout",
     "output_type": "stream",
     "text": [
      "new value\n",
      "default value\n"
     ]
    },
    {
     "data": {
      "text/plain": [
       "True"
      ]
     },
     "execution_count": 9,
     "metadata": {},
     "output_type": "execute_result"
    }
   ],
   "source": [
    "client1 = ClientClass()\n",
    "client2 = ClientClass()\n",
    "\n",
    "client1.descriptor = \"new value\"\n",
    "print(client1.descriptor)\n",
    "print(client2.descriptor)\n",
    "\n",
    "client2.descriptor = \"value for client2\"\n",
    "client2.descriptor != client1.descriptor"
   ]
  },
  {
   "cell_type": "markdown",
   "metadata": {},
   "source": [
    "# 디스크립터 분석\n",
    "## 파이썬 내부에서의 활용"
   ]
  },
  {
   "cell_type": "markdown",
   "metadata": {},
   "source": [
    "### 함수와 메서드\n",
    "- 함수는 `__get__` 메서드를 구현했기 때문에 클래스 안에서 메서드처럼 동작\n",
    "- 메서드는 추가 파라미터를 가진 함수\n",
    "- 즉, 메서드는 객체를 수정하는 또 다른 함수\n",
    "- 객체 안에서 정의되었기 때문에 객체에 binding 되어 있다고 말함"
   ]
  },
  {
   "cell_type": "code",
   "execution_count": null,
   "metadata": {},
   "outputs": [],
   "source": [
    "class MyClass:\n",
    "    def method(self, ...):\n",
    "        self.x = 1"
   ]
  },
  {
   "cell_type": "code",
   "execution_count": null,
   "metadata": {},
   "outputs": [],
   "source": [
    "class MyClass: pass\n",
    "\n",
    "def method(myclass_instance, ...):\n",
    "    myclass_instance.x = 1\n",
    "    \n",
    "method(MyClass())"
   ]
  },
  {
   "cell_type": "code",
   "execution_count": null,
   "metadata": {},
   "outputs": [],
   "source": [
    "instance = MyClass()\n",
    "instance.method(...)\n",
    "\n",
    "instance = MyClass()\n",
    "MyClass.method(instance, ...)"
   ]
  },
  {
   "cell_type": "markdown",
   "metadata": {},
   "source": [
    "#### 예제\n",
    "- 외부에서 호출 가능한 형태의 함수 또는 메서드를 클래스 내에 호출 가능한 객체로 정의하는 예제"
   ]
  },
  {
   "cell_type": "code",
   "execution_count": 16,
   "metadata": {},
   "outputs": [],
   "source": [
    "from types import MethodType\n",
    "\n",
    "\n",
    "class Method:\n",
    "    def __init__(self, name):\n",
    "        self.name = name\n",
    "\n",
    "    def __call__(self, instance, arg1, arg2):\n",
    "        print(f\"{self.name}: {instance} called with {arg1} and {arg2}\")\n",
    "\n",
    "\n",
    "class MyClass:\n",
    "    method = Method(\"Internal call\")"
   ]
  },
  {
   "cell_type": "code",
   "execution_count": 17,
   "metadata": {},
   "outputs": [
    {
     "name": "stdout",
     "output_type": "stream",
     "text": [
      "External call: <__main__.MyClass object at 0x0000029FEDB35C70> called with first and second\n"
     ]
    },
    {
     "ename": "TypeError",
     "evalue": "__call__() missing 1 required positional argument: 'arg2'",
     "output_type": "error",
     "traceback": [
      "\u001b[1;31m---------------------------------------------------------------------------\u001b[0m",
      "\u001b[1;31mTypeError\u001b[0m                                 Traceback (most recent call last)",
      "\u001b[1;32mC:\\Users\\SSAFY_~1\\AppData\\Local\\Temp/ipykernel_16536/1728767592.py\u001b[0m in \u001b[0;36m<module>\u001b[1;34m\u001b[0m\n\u001b[0;32m      1\u001b[0m \u001b[0minstance\u001b[0m \u001b[1;33m=\u001b[0m \u001b[0mMyClass\u001b[0m\u001b[1;33m(\u001b[0m\u001b[1;33m)\u001b[0m\u001b[1;33m\u001b[0m\u001b[1;33m\u001b[0m\u001b[0m\n\u001b[0;32m      2\u001b[0m \u001b[0mMethod\u001b[0m\u001b[1;33m(\u001b[0m\u001b[1;34m'External call'\u001b[0m\u001b[1;33m)\u001b[0m\u001b[1;33m(\u001b[0m\u001b[0minstance\u001b[0m\u001b[1;33m,\u001b[0m \u001b[1;34m\"first\"\u001b[0m\u001b[1;33m,\u001b[0m \u001b[1;34m\"second\"\u001b[0m\u001b[1;33m)\u001b[0m\u001b[1;33m\u001b[0m\u001b[1;33m\u001b[0m\u001b[0m\n\u001b[1;32m----> 3\u001b[1;33m \u001b[0minstance\u001b[0m\u001b[1;33m.\u001b[0m\u001b[0mmethod\u001b[0m\u001b[1;33m(\u001b[0m\u001b[1;34m\"first\"\u001b[0m\u001b[1;33m,\u001b[0m \u001b[1;34m\"second\"\u001b[0m\u001b[1;33m)\u001b[0m\u001b[1;33m\u001b[0m\u001b[1;33m\u001b[0m\u001b[0m\n\u001b[0m",
      "\u001b[1;31mTypeError\u001b[0m: __call__() missing 1 required positional argument: 'arg2'"
     ]
    }
   ],
   "source": [
    "instance = MyClass()\n",
    "Method('External call')(instance, \"first\", \"second\")\n",
    "instance.method(\"first\", \"second\")"
   ]
  },
  {
   "cell_type": "markdown",
   "metadata": {},
   "source": [
    "- 파라미터의 위치가 한 칸씩 밀린다.\n",
    "\n",
    "=> 디스크립터로 변경해서 instance.method 호출시 method.__get__ 메서드를 먼저 호출하게 함"
   ]
  },
  {
   "cell_type": "code",
   "execution_count": 20,
   "metadata": {},
   "outputs": [],
   "source": [
    "class NewMethod:\n",
    "    \"\"\"디스크립터로 변경\"\"\"\n",
    "    def __init__(self, name):\n",
    "        self.name = name\n",
    "\n",
    "    def __call__(self, instance, arg1, arg2):\n",
    "        print(f\"{self.name}: {instance} called with {arg1} and {arg2}\")\n",
    "\n",
    "    def __get__(self, instance, owner):\n",
    "        if instance is None:\n",
    "            return self\n",
    "        return MethodType(self, instance)\n",
    "\n",
    "\n",
    "class MyClass1:\n",
    "    method = NewMethod(\"Internal call\")"
   ]
  },
  {
   "cell_type": "code",
   "execution_count": 21,
   "metadata": {},
   "outputs": [
    {
     "name": "stdout",
     "output_type": "stream",
     "text": [
      "External call: <__main__.MyClass1 object at 0x0000029FEDB8BD90> called with first and second\n",
      "Internal call: <__main__.MyClass1 object at 0x0000029FEDB8BD90> called with first and second\n"
     ]
    }
   ],
   "source": [
    "instance = MyClass1()\n",
    "NewMethod('External call')(instance, \"first\", \"second\")\n",
    "instance.method(\"first\", \"second\")"
   ]
  },
  {
   "cell_type": "markdown",
   "metadata": {},
   "source": [
    "### 메서드를 위한 빌트인 데코레이터\n",
    "- @property, @classmethod, @staticmethod 데코레이터는 디스크립터\n",
    "- 메서드를 인스턴스가 아닌 클래스에서 직접 호출할 때는 관습적으로 디스크립터 자체를 반환한다. 프로퍼티를 클래스에서 직접 호출하면 계산할 속성이 없으므로 일종의 디스크립터인 프로퍼티 객체 자체를 반환한다.\n",
    "- @classmethod를 사용하면 디스크립터의 __get__ 함수가 메서드를 인스턴스에서 호출하든 클래스에서 호출하든 상관없이 데코레이팅 함수에 첫번째 파라미터로 메서드를 소유한 클래스를 넘겨준다.\n",
    "- @staticmethod를 사용하면 정의한 파라미터 이외의 파라미터를 넘기지 않도록 한다. 즉 __get__메서드에서 첫번째 파라미터에 self를 바인딩하는 작업을 취소한다."
   ]
  },
  {
   "cell_type": "markdown",
   "metadata": {},
   "source": [
    "#### 슬롯(slot)"
   ]
  },
  {
   "cell_type": "markdown",
   "metadata": {},
   "source": [
    "- 클래스에 __slot__ 속성을 정의하면 클래스가 기대하는 특정 속성만 정의하고 다른 것은 제한할 수 있다.\n",
    "- `__slot__`에 정의되지 않은 속성을 동적으로 추가하려고 할 경우 AttributeError가 발생한다.    \n",
    "이 경우 클래스는 `__dict__` 속성을 갖지 않는다.\n",
    "- 이 때 객체의 사전이 없어도 속성을 가져올 수 있도록 디스크립터를 사용할 수 있다.\n",
    "- 흥미로운 기능이지만, 파이썬의 동적인 특성을 없애기 때문에 신중히 사용하자.\n",
    "- 메모리를 덜 사용한다는 점이 장점이다."
   ]
  },
  {
   "cell_type": "markdown",
   "metadata": {},
   "source": [
    "## 데코레이터를 디스크립터로 구현하기\n",
    "- `__get__` 메서드를 구현하고 types.MethodType 을 사용해 데코레이터 자체를 객체에 바인딩된 메서드로 만드는 것\n",
    "- 데코레이터를 객체로 구현해야함 \n",
    "  - 함수로 구현하면 `__get__()` 메서드가 이미 존재해서 오류 발생할 수 있음"
   ]
  },
  {
   "cell_type": "markdown",
   "metadata": {},
   "source": [
    "# 요약\n",
    "- 파이썬의 경계를 metaprogramming에 가깝게 해주는 고급 기능\n",
    "- 경락한 추상화를 통해 깔끔하고 컴팩트한 클래스를 만들 수 있음\n",
    "\n",
    "- 오버 엔지니어링 주의 \n",
    "  - 내부 API 개발, 라이브러리, 프레임워크 디자인 등에 권장\n",
    "- 비즈니스 로직을 구현한 컴포넌트에서 사용하기 위한 기술적인 기능 구현만을 포함하고   \n",
    "비즈니스 로직 자체를 포함하면 안됨\n"
   ]
  },
  {
   "cell_type": "markdown",
   "metadata": {},
   "source": []
  }
 ],
 "metadata": {
  "interpreter": {
   "hash": "fee75d4a118b37ac771e554bf37b66bb9d3f6150afd9a40aa97b32861ad93f28"
  },
  "kernelspec": {
   "display_name": "Python 3.9.7 64-bit",
   "language": "python",
   "name": "python3"
  },
  "language_info": {
   "codemirror_mode": {
    "name": "ipython",
    "version": 3
   },
   "file_extension": ".py",
   "mimetype": "text/x-python",
   "name": "python",
   "nbconvert_exporter": "python",
   "pygments_lexer": "ipython3",
   "version": "3.9.7"
  },
  "orig_nbformat": 4
 },
 "nbformat": 4,
 "nbformat_minor": 2
}
