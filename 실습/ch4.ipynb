{
 "cells": [
  {
   "cell_type": "markdown",
   "metadata": {},
   "source": [
    "# Ch4. SOLID 원칙\n",
    "- 참고 블로그: [잔재미코딩](https://www.fun-coding.org/PL&OOP2-1.html)\n",
    "- 참고 블로그: [doorbw](https://doorbw.tistory.com/240)\n",
    "- [SOLID Design Principles with Python Examples](https://www.linkedin.com/pulse/solid-design-principles-python-examples-hiral-amodia)\n",
    "\n",
    "## 1. SRP"
   ]
  },
  {
   "cell_type": "markdown",
   "metadata": {},
   "source": [
    "### 예제1\n",
    "- 책임 분산"
   ]
  },
  {
   "cell_type": "code",
   "execution_count": 16,
   "metadata": {},
   "outputs": [],
   "source": [
    "class ScoreAndCourse(object):\n",
    "    \"\"\"2개 이상의 책임을 가진 클래스\"\"\"\n",
    "\n",
    "    def __init__(self):\n",
    "        scores = {}\n",
    "        courses = {}\n",
    "\n",
    "    def get_score(self, student_name, course):\n",
    "        \"\"\"학생 성적 관리\"\"\"\n",
    "        pass\n",
    "\n",
    "    def get_courses(self, student_name):\n",
    "        \"\"\" 학생이 수강하는 강의 관리\"\"\"\n",
    "        pass"
   ]
  },
  {
   "cell_type": "markdown",
   "metadata": {},
   "source": [
    "- 하나의 클래스에 너무 많은 책임이 있다."
   ]
  },
  {
   "cell_type": "code",
   "execution_count": 17,
   "metadata": {},
   "outputs": [],
   "source": [
    "class ScoreManager(object):\n",
    "    \"\"\"SRP원칙이 적용된 클래스\"\"\"\n",
    "\n",
    "    def __init__(self):\n",
    "        scores = {}\n",
    "\n",
    "    def get_score(self, student_name, course):\n",
    "        \"\"\"학생 성적 관리\"\"\"\n",
    "        pass\n",
    "\n",
    "class CourseManager(object):\n",
    "    \"\"\"SRP원칙이 적용된 클래스\"\"\"\n",
    "\n",
    "    def __init__(self):\n",
    "        courses = {}\n",
    "\n",
    "    def get_courses(self, student_name):\n",
    "        \"\"\" 학생이 수강하는 강의 관리\"\"\"\n",
    "        pass"
   ]
  },
  {
   "cell_type": "markdown",
   "metadata": {},
   "source": [
    "## 2. OPC\n",
    "- 개방폐쇄원칙\n",
    "\n",
    "### 예제\n",
    "- 여러 도형에 대한(확장) 넓이 구하기"
   ]
  },
  {
   "cell_type": "code",
   "execution_count": 18,
   "metadata": {},
   "outputs": [],
   "source": [
    "class AreaCalculator(object):\n",
    "    \"\"\"OPC를 적용하지 않은 클래스\"\"\"\n",
    "    def __init__(self, shapes):\n",
    "        self.shapes = shapes\n",
    "\n",
    "    def total_area(self):\n",
    "        total = 0\n",
    "        for shape in self.shapes:\n",
    "            total += shape.width * shape.height \n",
    "        return total\n",
    "\n",
    "class Rectangle:\n",
    "    def __init__(self, width, height):\n",
    "        self.width = width\n",
    "        self.height = height\n",
    "\n",
    "class Circle:\n",
    "    def __init__(self, radius):\n",
    "        self.radius = radius"
   ]
  },
  {
   "cell_type": "code",
   "execution_count": 19,
   "metadata": {},
   "outputs": [
    {
     "name": "stdout",
     "output_type": "stream",
     "text": [
      "18\n"
     ]
    }
   ],
   "source": [
    "shapes = [Rectangle(3, 4), Rectangle(1,6)]\n",
    "calculator = AreaCalculator(shapes)\n",
    "\n",
    "print(calculator.total_area())"
   ]
  },
  {
   "cell_type": "markdown",
   "metadata": {},
   "source": [
    "> 다른 넓이 계산 방식의 도형에 대한 확장이 어렵고 AreaCalculator() 클래스를 수정해야 함"
   ]
  },
  {
   "cell_type": "code",
   "execution_count": 20,
   "metadata": {},
   "outputs": [],
   "source": [
    "class AreaCalculator(object):\n",
    "    \"\"\"OPC가 적용되어 수정이 필요없는 클래스\"\"\"\n",
    "    def __init__(self, shapes):\n",
    "        self.shapes = shapes\n",
    "\n",
    "    def total_area(self):\n",
    "        total = 0\n",
    "        for shape in self.shapes:\n",
    "            total += shape.area()\n",
    "        return total\n",
    "\n",
    "class Rectangle:\n",
    "    def __init__(self, width, height):\n",
    "        self.width = width\n",
    "        self.height = height\n",
    "    \n",
    "    def area(self):\n",
    "        return self.width * self.height\n",
    "\n",
    "class Circle:\n",
    "    def __init__(self, radius):\n",
    "        self.radius = radius\n",
    "    \n",
    "    def area(self):\n",
    "        return 3.14 * self.radius ** 2\n",
    "\n",
    "\n",
    "class Triangle:\n",
    "    \"\"\" 확장이 쉬운 클래스\"\"\"\n",
    "    def __init__(self, width, height):\n",
    "        self.width = width\n",
    "        self.height = height\n",
    "    \n",
    "    def area(self):\n",
    "        return self.width * self.height * 1/2"
   ]
  },
  {
   "cell_type": "code",
   "execution_count": 21,
   "metadata": {},
   "outputs": [
    {
     "name": "stdout",
     "output_type": "stream",
     "text": [
      "100.5\n"
     ]
    }
   ],
   "source": [
    "shapes = [Rectangle(3, 4), Rectangle(1,6) ,Circle(5), Triangle(2, 4)]\n",
    "calculator = AreaCalculator(shapes)\n",
    "\n",
    "print(calculator.total_area())"
   ]
  },
  {
   "cell_type": "markdown",
   "metadata": {},
   "source": [
    "## 3. LSP\n",
    "- 리스코프 치환 법칙\n",
    "\n",
    "### 예제1\n",
    "- 재정의한 메서드가 다른 타입을 사용"
   ]
  },
  {
   "cell_type": "code",
   "execution_count": 22,
   "metadata": {},
   "outputs": [],
   "source": [
    "class Event:\n",
    "    \"\"\"LSP가 지켜지지 않은 클래스\"\"\"\n",
    "\n",
    "    def meets_condition(self, event_data: dict) -> bool:\n",
    "        return False\n",
    "\n",
    "\n",
    "class LoginEvent(Event):\n",
    "    \"\"\" 재정의한 클래스 타입 : LIST\"\"\"\n",
    "    def meets_condition(self, event_data: list) -> bool:\n",
    "        return bool(event_data)"
   ]
  },
  {
   "cell_type": "code",
   "execution_count": 23,
   "metadata": {},
   "outputs": [],
   "source": [
    "class Event:\n",
    "    \"\"\"Super class: Event class\"\"\"\n",
    "    def __init__(self, event_data: dict):\n",
    "        self.event_data = event_data\n",
    "        \n",
    "    def meet_condition(self, event_data: dict) -> bool:\n",
    "        return False\n",
    "    \n",
    "class LoginEvent(Event):\n",
    "    \"\"\"Sub class: LoginEvent class\"\"\"\n",
    "    def meet_condition(self, event_data: dict) -> bool:\n",
    "        return event_data['before'][\"session\"] == 0 and event_data['after'][\"session\"] == 1"
   ]
  },
  {
   "cell_type": "code",
   "execution_count": 24,
   "metadata": {},
   "outputs": [],
   "source": [
    "class Event:\n",
    "    def __init__(self, raw_data):\n",
    "        self.raw_data = raw_data\n",
    "\n",
    "    @staticmethod\n",
    "    def meets_condition(event_data: dict):\n",
    "        return False\n",
    "\n",
    "    @staticmethod\n",
    "    def meets_condition_pre(event_data: dict):\n",
    "        \"\"\"Precondition of the contract of this interface.\n",
    "\n",
    "        Validate that the ``event_data`` parameter is properly formed.\n",
    "        \"\"\"\n",
    "        assert isinstance(event_data, dict), f\"{event_data!r} is not a dict\"\n",
    "        for moment in (\"before\", \"after\"):\n",
    "            assert moment in event_data, f\"{moment} not in {event_data}\"\n",
    "            assert isinstance(event_data[moment], dict)\n",
    "            \n",
    "class LoginEvent(Event):\n",
    "    \"\"\"Sub class: LoginEvent class\"\"\"\n",
    "    @staticmethod\n",
    "    def meets_condition(event_data: dict) -> bool:\n",
    "#         assert \"session\" in event_data[\"before\"] and \"session\" in event_data[\"after\"]\n",
    "        return event_data['before'][\"session\"] == 0 and event_data['after'][\"session\"] == 1\n",
    " \n",
    "        \n",
    "class UnknownEvent(Event):\n",
    "    def meet_condition(self, event_data: dict) -> bool:\n",
    "        return True\n",
    "    \n",
    "class TransactionEvent(Event):\n",
    "    \"\"\"Represents a transaction that has just occurred on the system.\"\"\"\n",
    "\n",
    "    @staticmethod\n",
    "    def meets_condition(event_data: dict):\n",
    "        return event_data[\"after\"].get(\"transaction\") is not None\n",
    "\n",
    "class SystemMonitor:\n",
    "    \"\"\"Identify events that occurred in the system\"\"\"\n",
    "    def __init__(self, event_data):\n",
    "        self.event_data = event_data\n",
    "\n",
    "    def identify_event(self):\n",
    "        Event.meets_condition_pre(self.event_data)\n",
    "        event_cls = next(\n",
    "            (\n",
    "                event_cls\n",
    "                for event_cls in Event.__subclasses__()\n",
    "                if event_cls.meets_condition(self.event_data)\n",
    "            ),\n",
    "            UnknownEvent,\n",
    "        )\n",
    "        return event_cls(self.event_data)\n"
   ]
  },
  {
   "cell_type": "code",
   "execution_count": 25,
   "metadata": {},
   "outputs": [
    {
     "ename": "KeyError",
     "evalue": "'session'",
     "output_type": "error",
     "traceback": [
      "\u001b[1;31m---------------------------------------------------------------------------\u001b[0m",
      "\u001b[1;31mKeyError\u001b[0m                                  Traceback (most recent call last)",
      "\u001b[1;32mC:\\Users\\SSAFY_~1\\AppData\\Local\\Temp/ipykernel_14568/1272175831.py\u001b[0m in \u001b[0;36m<module>\u001b[1;34m\u001b[0m\n\u001b[0;32m     12\u001b[0m \u001b[1;33m\u001b[0m\u001b[0m\n\u001b[0;32m     13\u001b[0m \u001b[0ml4\u001b[0m \u001b[1;33m=\u001b[0m \u001b[0mSystemMonitor\u001b[0m\u001b[1;33m(\u001b[0m\u001b[1;33m{\u001b[0m\u001b[1;34m\"before\"\u001b[0m\u001b[1;33m:\u001b[0m \u001b[1;33m{\u001b[0m\u001b[1;33m}\u001b[0m\u001b[1;33m,\u001b[0m \u001b[1;34m\"after\"\u001b[0m\u001b[1;33m:\u001b[0m \u001b[1;33m{\u001b[0m\u001b[1;34m\"transaction\"\u001b[0m\u001b[1;33m:\u001b[0m \u001b[1;34m\"Tx001\"\u001b[0m\u001b[1;33m}\u001b[0m\u001b[1;33m}\u001b[0m\u001b[1;33m)\u001b[0m\u001b[1;33m\u001b[0m\u001b[1;33m\u001b[0m\u001b[0m\n\u001b[1;32m---> 14\u001b[1;33m \u001b[0ml4\u001b[0m\u001b[1;33m.\u001b[0m\u001b[0midentify_event\u001b[0m\u001b[1;33m(\u001b[0m\u001b[1;33m)\u001b[0m\u001b[1;33m.\u001b[0m\u001b[0m__class__\u001b[0m\u001b[1;33m.\u001b[0m\u001b[0m__name__\u001b[0m\u001b[1;33m\u001b[0m\u001b[1;33m\u001b[0m\u001b[0m\n\u001b[0m\u001b[0;32m     15\u001b[0m     \u001b[1;31m# 'TransactionEvent'\u001b[0m\u001b[1;33m\u001b[0m\u001b[1;33m\u001b[0m\u001b[0m\n",
      "\u001b[1;32mC:\\Users\\SSAFY_~1\\AppData\\Local\\Temp/ipykernel_14568/556083664.py\u001b[0m in \u001b[0;36midentify_event\u001b[1;34m(self)\u001b[0m\n\u001b[0;32m     44\u001b[0m     \u001b[1;32mdef\u001b[0m \u001b[0midentify_event\u001b[0m\u001b[1;33m(\u001b[0m\u001b[0mself\u001b[0m\u001b[1;33m)\u001b[0m\u001b[1;33m:\u001b[0m\u001b[1;33m\u001b[0m\u001b[1;33m\u001b[0m\u001b[0m\n\u001b[0;32m     45\u001b[0m         \u001b[0mEvent\u001b[0m\u001b[1;33m.\u001b[0m\u001b[0mmeets_condition_pre\u001b[0m\u001b[1;33m(\u001b[0m\u001b[0mself\u001b[0m\u001b[1;33m.\u001b[0m\u001b[0mevent_data\u001b[0m\u001b[1;33m)\u001b[0m\u001b[1;33m\u001b[0m\u001b[1;33m\u001b[0m\u001b[0m\n\u001b[1;32m---> 46\u001b[1;33m         event_cls = next(\n\u001b[0m\u001b[0;32m     47\u001b[0m             (\n\u001b[0;32m     48\u001b[0m                 \u001b[0mevent_cls\u001b[0m\u001b[1;33m\u001b[0m\u001b[1;33m\u001b[0m\u001b[0m\n",
      "\u001b[1;32mC:\\Users\\SSAFY_~1\\AppData\\Local\\Temp/ipykernel_14568/556083664.py\u001b[0m in \u001b[0;36m<genexpr>\u001b[1;34m(.0)\u001b[0m\n\u001b[0;32m     48\u001b[0m                 \u001b[0mevent_cls\u001b[0m\u001b[1;33m\u001b[0m\u001b[1;33m\u001b[0m\u001b[0m\n\u001b[0;32m     49\u001b[0m                 \u001b[1;32mfor\u001b[0m \u001b[0mevent_cls\u001b[0m \u001b[1;32min\u001b[0m \u001b[0mEvent\u001b[0m\u001b[1;33m.\u001b[0m\u001b[0m__subclasses__\u001b[0m\u001b[1;33m(\u001b[0m\u001b[1;33m)\u001b[0m\u001b[1;33m\u001b[0m\u001b[1;33m\u001b[0m\u001b[0m\n\u001b[1;32m---> 50\u001b[1;33m                 \u001b[1;32mif\u001b[0m \u001b[0mevent_cls\u001b[0m\u001b[1;33m.\u001b[0m\u001b[0mmeets_condition\u001b[0m\u001b[1;33m(\u001b[0m\u001b[0mself\u001b[0m\u001b[1;33m.\u001b[0m\u001b[0mevent_data\u001b[0m\u001b[1;33m)\u001b[0m\u001b[1;33m\u001b[0m\u001b[1;33m\u001b[0m\u001b[0m\n\u001b[0m\u001b[0;32m     51\u001b[0m             ),\n\u001b[0;32m     52\u001b[0m             \u001b[0mUnknownEvent\u001b[0m\u001b[1;33m,\u001b[0m\u001b[1;33m\u001b[0m\u001b[1;33m\u001b[0m\u001b[0m\n",
      "\u001b[1;32mC:\\Users\\SSAFY_~1\\AppData\\Local\\Temp/ipykernel_14568/556083664.py\u001b[0m in \u001b[0;36mmeets_condition\u001b[1;34m(event_data)\u001b[0m\n\u001b[0;32m     23\u001b[0m     \u001b[1;32mdef\u001b[0m \u001b[0mmeets_condition\u001b[0m\u001b[1;33m(\u001b[0m\u001b[0mevent_data\u001b[0m\u001b[1;33m:\u001b[0m \u001b[0mdict\u001b[0m\u001b[1;33m)\u001b[0m \u001b[1;33m->\u001b[0m \u001b[0mbool\u001b[0m\u001b[1;33m:\u001b[0m\u001b[1;33m\u001b[0m\u001b[1;33m\u001b[0m\u001b[0m\n\u001b[0;32m     24\u001b[0m \u001b[1;31m#         assert \"session\" in event_data[\"before\"] and \"session\" in event_data[\"after\"]\u001b[0m\u001b[1;33m\u001b[0m\u001b[1;33m\u001b[0m\u001b[0m\n\u001b[1;32m---> 25\u001b[1;33m         \u001b[1;32mreturn\u001b[0m \u001b[0mevent_data\u001b[0m\u001b[1;33m[\u001b[0m\u001b[1;34m'before'\u001b[0m\u001b[1;33m]\u001b[0m\u001b[1;33m[\u001b[0m\u001b[1;34m\"session\"\u001b[0m\u001b[1;33m]\u001b[0m \u001b[1;33m==\u001b[0m \u001b[1;36m0\u001b[0m \u001b[1;32mand\u001b[0m \u001b[0mevent_data\u001b[0m\u001b[1;33m[\u001b[0m\u001b[1;34m'after'\u001b[0m\u001b[1;33m]\u001b[0m\u001b[1;33m[\u001b[0m\u001b[1;34m\"session\"\u001b[0m\u001b[1;33m]\u001b[0m \u001b[1;33m==\u001b[0m \u001b[1;36m1\u001b[0m\u001b[1;33m\u001b[0m\u001b[1;33m\u001b[0m\u001b[0m\n\u001b[0m\u001b[0;32m     26\u001b[0m \u001b[1;33m\u001b[0m\u001b[0m\n\u001b[0;32m     27\u001b[0m \u001b[1;33m\u001b[0m\u001b[0m\n",
      "\u001b[1;31mKeyError\u001b[0m: 'session'"
     ]
    }
   ],
   "source": [
    "l1 = SystemMonitor({\"before\": {\"session\": 0}, \"after\": {\"session\": 1}})\n",
    "l1.identify_event().__class__.__name__\n",
    "    # 'LoginEvent'\n",
    "\n",
    "l2 = SystemMonitor({\"before\": {\"session\": 1}, \"after\": {\"session\": 0}})\n",
    "l2.identify_event().__class__.__name__\n",
    "    # 'LogoutEvent'\n",
    "\n",
    "l3 = SystemMonitor({\"before\": {\"session\": 1}, \"after\": {\"session\": 1}})\n",
    "l3.identify_event().__class__.__name__\n",
    "    # 'UnknownEvent'\n",
    "\n",
    "l4 = SystemMonitor({\"before\": {}, \"after\": {\"transaction\": \"Tx001\"}})\n",
    "l4.identify_event().__class__.__name__\n",
    "    # 'TransactionEvent'"
   ]
  },
  {
   "cell_type": "markdown",
   "metadata": {},
   "source": [
    "### 예제2"
   ]
  },
  {
   "cell_type": "code",
   "execution_count": 26,
   "metadata": {},
   "outputs": [
    {
     "ename": "TypeError",
     "evalue": "tuple indices must be integers or slices, not str",
     "output_type": "error",
     "traceback": [
      "\u001b[1;31m---------------------------------------------------------------------------\u001b[0m",
      "\u001b[1;31mTypeError\u001b[0m                                 Traceback (most recent call last)",
      "\u001b[1;32mC:\\Users\\SSAFY_~1\\AppData\\Local\\Temp/ipykernel_14568/974453258.py\u001b[0m in \u001b[0;36m<module>\u001b[1;34m\u001b[0m\n\u001b[0;32m     25\u001b[0m     \u001b[0mprint\u001b[0m\u001b[1;33m(\u001b[0m\u001b[1;34mf'Number of Red Cars = {red_cars}'\u001b[0m\u001b[1;33m)\u001b[0m\u001b[1;33m\u001b[0m\u001b[1;33m\u001b[0m\u001b[0m\n\u001b[0;32m     26\u001b[0m \u001b[1;33m\u001b[0m\u001b[0m\n\u001b[1;32m---> 27\u001b[1;33m \u001b[0mfind_red_cars\u001b[0m\u001b[1;33m(\u001b[0m\u001b[0mcars\u001b[0m\u001b[1;33m)\u001b[0m\u001b[1;33m\u001b[0m\u001b[1;33m\u001b[0m\u001b[0m\n\u001b[0m",
      "\u001b[1;32mC:\\Users\\SSAFY_~1\\AppData\\Local\\Temp/ipykernel_14568/974453258.py\u001b[0m in \u001b[0;36mfind_red_cars\u001b[1;34m(cars)\u001b[0m\n\u001b[0;32m     20\u001b[0m     \u001b[0mred_cars\u001b[0m \u001b[1;33m=\u001b[0m \u001b[1;36m0\u001b[0m\u001b[1;33m\u001b[0m\u001b[1;33m\u001b[0m\u001b[0m\n\u001b[0;32m     21\u001b[0m     \u001b[1;32mfor\u001b[0m \u001b[0mcar\u001b[0m \u001b[1;32min\u001b[0m \u001b[0mcars\u001b[0m\u001b[1;33m:\u001b[0m\u001b[1;33m\u001b[0m\u001b[1;33m\u001b[0m\u001b[0m\n\u001b[1;32m---> 22\u001b[1;33m         \u001b[1;32mif\u001b[0m \u001b[0mcar\u001b[0m\u001b[1;33m.\u001b[0m\u001b[0mproperties\u001b[0m\u001b[1;33m[\u001b[0m\u001b[1;34m'Color'\u001b[0m\u001b[1;33m]\u001b[0m \u001b[1;33m==\u001b[0m \u001b[1;34m\"Red\"\u001b[0m\u001b[1;33m:\u001b[0m\u001b[1;33m\u001b[0m\u001b[1;33m\u001b[0m\u001b[0m\n\u001b[0m\u001b[0;32m     23\u001b[0m             \u001b[0mred_cars\u001b[0m \u001b[1;33m+=\u001b[0m \u001b[1;36m1\u001b[0m\u001b[1;33m\u001b[0m\u001b[1;33m\u001b[0m\u001b[0m\n\u001b[0;32m     24\u001b[0m \u001b[1;33m\u001b[0m\u001b[0m\n",
      "\u001b[1;31mTypeError\u001b[0m: tuple indices must be integers or slices, not str"
     ]
    }
   ],
   "source": [
    "class Car():\n",
    "    \"\"\" super type class\"\"\"\n",
    "    def __init__(self, type):\n",
    "        self.type = type\n",
    "\n",
    "class PetrolCar(Car):\n",
    "    \"\"\"sub type class\"\"\"\n",
    "    def __init__(self, type):\n",
    "        self.type = type\n",
    "\n",
    "car = Car('SUV')\n",
    "car.properties = {\"Color\": \"Red\", \"Gear\": \"Auto\", \"Capacity\": 6}\n",
    "\n",
    "petrol_car = PetrolCar(\"Sedan\")\n",
    "petrol_car.properties = (\"Blue\", \"Manual\", 4)\n",
    "\n",
    "cars = [car, petrol_car]\n",
    "\n",
    "def find_red_cars(cars):\n",
    "    red_cars = 0\n",
    "    for car in cars:\n",
    "        if car.properties['Color'] == \"Red\":\n",
    "            red_cars += 1\n",
    "\n",
    "    print(f'Number of Red Cars = {red_cars}')\n",
    "\n",
    "find_red_cars(cars)"
   ]
  },
  {
   "cell_type": "code",
   "execution_count": 27,
   "metadata": {},
   "outputs": [
    {
     "name": "stdout",
     "output_type": "stream",
     "text": [
      "Number of Red Cars = 1\n"
     ]
    }
   ],
   "source": [
    "class Car():\n",
    "  def __init__(self, type):\n",
    "    self.type = type\n",
    "    self.car_properties = {}\n",
    "  \n",
    "  def set_properties(self, color, gear, capacity):\n",
    "    self.car_properties = {\"Color\": color, \"Gear\": gear, \"Capacity\": capacity}\n",
    "\n",
    "  def get_properties(self):\n",
    "    return self.car_properties\n",
    "\n",
    "class PetrolCar(Car):\n",
    "  def __init__(self, type):\n",
    "    self.type = type\n",
    "    self.car_properties = {}\n",
    "\n",
    "car = Car(\"SUV\")\n",
    "car.set_properties(\"Red\", \"Auto\", 6)\n",
    "\n",
    "petrol_car = PetrolCar(\"Sedan\")\n",
    "petrol_car.set_properties(\"Blue\", \"Manual\", 4)\n",
    "\n",
    "cars = [car, petrol_car]\n",
    "\n",
    "def find_red_cars(cars):\n",
    "  red_cars = 0\n",
    "  for car in cars:\n",
    "    if car.get_properties()['Color'] == \"Red\":\n",
    "      red_cars += 1\n",
    "  print(f'Number of Red Cars = {red_cars}')\n",
    "\n",
    "find_red_cars(cars)"
   ]
  },
  {
   "cell_type": "markdown",
   "metadata": {},
   "source": [
    "## 4. ISP\n",
    "- 인터페이스 분리 원칙\n",
    "\n",
    "### 예제1\n",
    "- 포유류\n",
    "  - 사람\n",
    "  - 고래\n",
    "\n",
    "- 하나의 추상화 클래스(Mammals)에 2가지의 메서드가 존재"
   ]
  },
  {
   "cell_type": "code",
   "execution_count": 28,
   "metadata": {},
   "outputs": [],
   "source": [
    "from abc import ABC, abstractmethod\n",
    "\n",
    "class Mammals(ABC):\n",
    "    \"\"\"LSP가 적용안된 클래스\"\"\"\n",
    "    @abstractmethod\n",
    "    def swim() -> bool:\n",
    "        print(\"Can Swim\") \n",
    "\n",
    "    @abstractmethod\n",
    "    def walk() -> bool:\n",
    "        print(\"Can Walk\") \n",
    "\n",
    "class Human(Mammals):\n",
    "    def swim():\n",
    "        return print(\"Humans can swim\") \n",
    "\n",
    "    def walk():\n",
    "        return print(\"Humans can walk\") \n",
    "\n",
    "class Whale(Mammals):\n",
    "    def swim():\n",
    "        return print(\"Whales can swim\") "
   ]
  },
  {
   "cell_type": "code",
   "execution_count": 29,
   "metadata": {},
   "outputs": [
    {
     "name": "stdout",
     "output_type": "stream",
     "text": [
      "Humans can swim\n",
      "Humans can walk\n",
      "Whales can swim\n",
      "Can Walk\n"
     ]
    }
   ],
   "source": [
    "Human.swim()\n",
    "Human.walk()\n",
    "\n",
    "Whale.swim()\n",
    "Whale.walk() # 잘못된 예"
   ]
  },
  {
   "cell_type": "markdown",
   "metadata": {},
   "source": [
    "- 올바른 계층구조를 갖게 인터페이스 분리\n",
    "- 클라이언트는 특별한 주의를 기울이지 않고도 하위 타입을 사용할 수 있음"
   ]
  },
  {
   "cell_type": "code",
   "execution_count": 30,
   "metadata": {},
   "outputs": [
    {
     "name": "stdout",
     "output_type": "stream",
     "text": [
      "Humans can walk\n",
      "Humans can swim\n",
      "Whales can swim\n"
     ]
    },
    {
     "ename": "AttributeError",
     "evalue": "type object 'Whale' has no attribute 'walk'",
     "output_type": "error",
     "traceback": [
      "\u001b[1;31m---------------------------------------------------------------------------\u001b[0m",
      "\u001b[1;31mAttributeError\u001b[0m                            Traceback (most recent call last)",
      "\u001b[1;32mC:\\Users\\SSAFY_~1\\AppData\\Local\\Temp/ipykernel_14568/986758465.py\u001b[0m in \u001b[0;36m<module>\u001b[1;34m\u001b[0m\n\u001b[0;32m     24\u001b[0m \u001b[1;33m\u001b[0m\u001b[0m\n\u001b[0;32m     25\u001b[0m   \u001b[0mWhale\u001b[0m\u001b[1;33m.\u001b[0m\u001b[0mswim\u001b[0m\u001b[1;33m(\u001b[0m\u001b[1;33m)\u001b[0m\u001b[1;33m\u001b[0m\u001b[1;33m\u001b[0m\u001b[0m\n\u001b[1;32m---> 26\u001b[1;33m   \u001b[0mWhale\u001b[0m\u001b[1;33m.\u001b[0m\u001b[0mwalk\u001b[0m\u001b[1;33m(\u001b[0m\u001b[1;33m)\u001b[0m\u001b[1;33m\u001b[0m\u001b[1;33m\u001b[0m\u001b[0m\n\u001b[0m",
      "\u001b[1;31mAttributeError\u001b[0m: type object 'Whale' has no attribute 'walk'"
     ]
    }
   ],
   "source": [
    "class Walker(ABC):\n",
    "  @abstractmethod\n",
    "  def walk() -> bool:\n",
    "    return print(\"Can Walk\") \n",
    "\n",
    "class Swimmer(ABC):\n",
    "  @abstractmethod\n",
    "  def swim() -> bool:\n",
    "    return print(\"Can Swim\") \n",
    "\n",
    "class Human(Walker, Swimmer):\n",
    "  def walk():\n",
    "    return print(\"Humans can walk\") \n",
    "  def swim():\n",
    "    return print(\"Humans can swim\") \n",
    "\n",
    "class Whale(Swimmer):\n",
    "  def swim():\n",
    "    return print(\"Whales can swim\") \n",
    "\n",
    "if __name__ == \"__main__\":\n",
    "  Human.walk()\n",
    "  Human.swim()\n",
    "\n",
    "  Whale.swim()\n",
    "  Whale.walk()"
   ]
  },
  {
   "cell_type": "markdown",
   "metadata": {},
   "source": [
    "### 예제2\n",
    "- ISP를 지키지 못함\n",
    "  - 처리하는 데이터와 무관하게 두 가ㄷ지 함수를 모두 구현"
   ]
  },
  {
   "cell_type": "code",
   "execution_count": 31,
   "metadata": {},
   "outputs": [],
   "source": [
    "from abc import *\n",
    " \n",
    "class EventParser(metaclass=ABCMeta):\n",
    "    \"\"\"Interface: EventParser class\"\"\"\n",
    "    @abstractmethod\n",
    "    def from_json(self, event_data):\n",
    "        pass\n",
    "    \n",
    "    @abstractmethod\n",
    "    def from_xml(self, event_data):\n",
    "        pass    \n"
   ]
  },
  {
   "cell_type": "code",
   "execution_count": 32,
   "metadata": {},
   "outputs": [],
   "source": [
    "from abc import *\n",
    " \n",
    "class JsonEventParser(metaclass=ABCMeta):\n",
    "    \"\"\"Interface: JsonEventParser class\"\"\"\n",
    "    @abstractmethod\n",
    "    def from_json(self, event_data):\n",
    "        pass    \n",
    "    \n",
    "class XmlEventParser(metaclass=ABCMeta):\n",
    "    \"\"\"Interface: XmlEventParser class\"\"\"\n",
    "    @abstractmethod\n",
    "    def from_xml(self, event_data):\n",
    "        pass    \n"
   ]
  },
  {
   "cell_type": "markdown",
   "metadata": {},
   "source": [
    "## 5. DIP\n",
    "- 의존성 역전 법칙\n",
    "\n",
    "### 예제1\n",
    "- EventStreamer 가 syslog를 직접참조\n",
    "- syslog 의 메서드 send()가 변경되면 EventStreamer도 변경해야 할 가능성이 생김"
   ]
  },
  {
   "cell_type": "code",
   "execution_count": 33,
   "metadata": {},
   "outputs": [
    {
     "ename": "NameError",
     "evalue": "name 'Syslog' is not defined",
     "output_type": "error",
     "traceback": [
      "\u001b[1;31m---------------------------------------------------------------------------\u001b[0m",
      "\u001b[1;31mNameError\u001b[0m                                 Traceback (most recent call last)",
      "\u001b[1;32mC:\\Users\\SSAFY_~1\\AppData\\Local\\Temp/ipykernel_14568/2845456811.py\u001b[0m in \u001b[0;36m<module>\u001b[1;34m\u001b[0m\n\u001b[0;32m      1\u001b[0m \u001b[1;32mfrom\u001b[0m \u001b[0mabc\u001b[0m \u001b[1;32mimport\u001b[0m \u001b[1;33m*\u001b[0m\u001b[1;33m\u001b[0m\u001b[1;33m\u001b[0m\u001b[0m\n\u001b[0;32m      2\u001b[0m \u001b[1;33m\u001b[0m\u001b[0m\n\u001b[1;32m----> 3\u001b[1;33m \u001b[1;32mclass\u001b[0m \u001b[0mEventStreamer\u001b[0m\u001b[1;33m(\u001b[0m\u001b[1;33m)\u001b[0m\u001b[1;33m:\u001b[0m\u001b[1;33m\u001b[0m\u001b[1;33m\u001b[0m\u001b[0m\n\u001b[0m\u001b[0;32m      4\u001b[0m     \u001b[1;34m\"\"\" A: 고수준 모듈\"\"\"\u001b[0m\u001b[1;33m\u001b[0m\u001b[1;33m\u001b[0m\u001b[0m\n\u001b[0;32m      5\u001b[0m     \u001b[1;32mdef\u001b[0m \u001b[0m__init__\u001b[0m\u001b[1;33m(\u001b[0m\u001b[0mself\u001b[0m\u001b[1;33m,\u001b[0m \u001b[0mparsed_data\u001b[0m\u001b[1;33m:\u001b[0m \u001b[0mstr\u001b[0m\u001b[1;33m,\u001b[0m \u001b[0mclient\u001b[0m\u001b[1;33m:\u001b[0m \u001b[0mSyslog\u001b[0m\u001b[1;33m)\u001b[0m\u001b[1;33m:\u001b[0m\u001b[1;33m\u001b[0m\u001b[1;33m\u001b[0m\u001b[0m\n",
      "\u001b[1;32mC:\\Users\\SSAFY_~1\\AppData\\Local\\Temp/ipykernel_14568/2845456811.py\u001b[0m in \u001b[0;36mEventStreamer\u001b[1;34m()\u001b[0m\n\u001b[0;32m      3\u001b[0m \u001b[1;32mclass\u001b[0m \u001b[0mEventStreamer\u001b[0m\u001b[1;33m(\u001b[0m\u001b[1;33m)\u001b[0m\u001b[1;33m:\u001b[0m\u001b[1;33m\u001b[0m\u001b[1;33m\u001b[0m\u001b[0m\n\u001b[0;32m      4\u001b[0m     \u001b[1;34m\"\"\" A: 고수준 모듈\"\"\"\u001b[0m\u001b[1;33m\u001b[0m\u001b[1;33m\u001b[0m\u001b[0m\n\u001b[1;32m----> 5\u001b[1;33m     \u001b[1;32mdef\u001b[0m \u001b[0m__init__\u001b[0m\u001b[1;33m(\u001b[0m\u001b[0mself\u001b[0m\u001b[1;33m,\u001b[0m \u001b[0mparsed_data\u001b[0m\u001b[1;33m:\u001b[0m \u001b[0mstr\u001b[0m\u001b[1;33m,\u001b[0m \u001b[0mclient\u001b[0m\u001b[1;33m:\u001b[0m \u001b[0mSyslog\u001b[0m\u001b[1;33m)\u001b[0m\u001b[1;33m:\u001b[0m\u001b[1;33m\u001b[0m\u001b[1;33m\u001b[0m\u001b[0m\n\u001b[0m\u001b[0;32m      6\u001b[0m         \u001b[0mself\u001b[0m\u001b[1;33m.\u001b[0m\u001b[0mparsed_data\u001b[0m \u001b[1;33m=\u001b[0m \u001b[0mparsed_data\u001b[0m\u001b[1;33m\u001b[0m\u001b[1;33m\u001b[0m\u001b[0m\n\u001b[0;32m      7\u001b[0m         \u001b[1;32massert\u001b[0m \u001b[0mclient\u001b[0m \u001b[1;32mis\u001b[0m \u001b[0mSyslog\u001b[0m\u001b[1;33m,\u001b[0m \u001b[1;34m\"Client is not Syslog\"\u001b[0m\u001b[1;33m\u001b[0m\u001b[1;33m\u001b[0m\u001b[0m\n",
      "\u001b[1;31mNameError\u001b[0m: name 'Syslog' is not defined"
     ]
    }
   ],
   "source": [
    "from abc import *\n",
    " \n",
    "class EventStreamer():\n",
    "    \"\"\" A: 고수준 모듈\"\"\"\n",
    "    def __init__(self, parsed_data: str, client: Syslog):\n",
    "        self.parsed_data = parsed_data\n",
    "        assert client is Syslog, \"Client is not Syslog\"\n",
    "        self.client = client\n",
    "        \n",
    "    def stream(self):\n",
    "        self.client.send(self.parsed_data)    \n",
    "        \n",
    "class Syslog():\n",
    "    \"\"\" B: 저수준 모듈\"\"\"\n",
    "\n",
    "    def send(data: str):\n",
    "        print(f\"Syslog send: {data}\")\n",
    "        pass\n",
    "    \n",
    "class OtherClient():\n",
    "    def send(data: str):\n",
    "        print(f\"OtherClient send: {data}\")\n",
    "        pass\n",
    " \n",
    " \n",
    "streamer1 = EventStreamer(\"for Syslog data!\", Syslog)\n",
    "streamer1.stream()\n",
    "streamer2 = EventStreamer(\"for OtherClient data!\", OtherClient)\n",
    "streamer2.stream()"
   ]
  },
  {
   "cell_type": "markdown",
   "metadata": {},
   "source": [
    "- 새로운 인터페이스를 만들어 의존성을 역전시킴"
   ]
  },
  {
   "cell_type": "code",
   "execution_count": 34,
   "metadata": {},
   "outputs": [
    {
     "name": "stdout",
     "output_type": "stream",
     "text": [
      "Syslog send: for Syslog data!\n",
      "OtherClient send: for OtherClient data!\n"
     ]
    }
   ],
   "source": [
    "from abc import *\n",
    " \n",
    "class EventStreamer():\n",
    "    \"\"\" A: 고수준 모듈\"\"\"\n",
    "    def __init__(self, parsed_data: str, client):\n",
    "        self.parsed_data = parsed_data\n",
    "        assert client in DataTargetClient.__subclasses__(), \"Client is not DataTargetClient\"\n",
    "        self.client = client\n",
    "        \n",
    "    def stream(self):\n",
    "        self.client.send(self.parsed_data)\n",
    " \n",
    "class DataTargetClient(metaclass=ABCMeta):\n",
    "    \"\"\"Interface: DataTargetClient class\"\"\"\n",
    "    @abstractmethod\n",
    "    def send(self, data: str):\n",
    "        pass            \n",
    "        \n",
    "class Syslog(DataTargetClient):\n",
    "    \"\"\" B: 저수준 모듈\"\"\"\n",
    "    def send(data: str):\n",
    "        print(f\"Syslog send: {data}\")\n",
    "        pass\n",
    "    \n",
    "class OtherClient(DataTargetClient):\n",
    "    def send(data: str):\n",
    "        print(f\"OtherClient send: {data}\")\n",
    "        pass\n",
    " \n",
    " \n",
    "streamer1 = EventStreamer(\"for Syslog data!\", Syslog)\n",
    "streamer1.stream()\n",
    "streamer2 = EventStreamer(\"for OtherClient data!\", OtherClient)\n",
    "streamer2.stream()"
   ]
  },
  {
   "cell_type": "code",
   "execution_count": 3,
   "metadata": {},
   "outputs": [
    {
     "name": "stdout",
     "output_type": "stream",
     "text": [
      "True\n",
      "False\n"
     ]
    }
   ],
   "source": [
    "from collections.abc import Sequence\n",
    "my_dict = {'a': 1}\n",
    "print(isinstance(\"abc\", Sequence))\n",
    "print(isinstance(my_dict, Sequence))"
   ]
  },
  {
   "cell_type": "code",
   "execution_count": null,
   "metadata": {},
   "outputs": [],
   "source": []
  }
 ],
 "metadata": {
  "interpreter": {
   "hash": "fee75d4a118b37ac771e554bf37b66bb9d3f6150afd9a40aa97b32861ad93f28"
  },
  "kernelspec": {
   "display_name": "Python 3.9.7 64-bit",
   "name": "python3"
  },
  "language_info": {
   "codemirror_mode": {
    "name": "ipython",
    "version": 3
   },
   "file_extension": ".py",
   "mimetype": "text/x-python",
   "name": "python",
   "nbconvert_exporter": "python",
   "pygments_lexer": "ipython3",
   "version": "3.9.7"
  },
  "orig_nbformat": 4
 },
 "nbformat": 4,
 "nbformat_minor": 2
}
