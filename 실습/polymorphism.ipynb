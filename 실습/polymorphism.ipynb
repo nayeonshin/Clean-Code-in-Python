{
 "cells": [
  {
   "cell_type": "markdown",
   "metadata": {},
   "source": [
    "# 다형성(Polymorphism)"
   ]
  },
  {
   "cell_type": "markdown",
   "metadata": {},
   "source": [
    "> *다형성이란 프로그램 언어 각 요소들(상수, 변수, 식, 객체, 메소드 등)이 다양한 자료형(type)에 속하는 것이 허가되는 성질을 가리킨다. - 위키피디아 중 -*\n",
    "\n",
    "- 같은 모양의 코드가 다른 동작을 하는 것"
   ]
  },
  {
   "cell_type": "markdown",
   "metadata": {},
   "source": [
    "- reference\n",
    "  - [blog1](https://datastory1.blogspot.com/2020/03/python-polymorphism.html)"
   ]
  },
  {
   "cell_type": "markdown",
   "metadata": {},
   "source": [
    "## 1) str, int"
   ]
  },
  {
   "cell_type": "code",
   "execution_count": 1,
   "metadata": {},
   "outputs": [
    {
     "name": "stdout",
     "output_type": "stream",
     "text": [
      "숫자의 합:  5\n",
      "문자열의 합:  pythonpolymorphism\n"
     ]
    }
   ],
   "source": [
    "x, y = 2, 3\n",
    "print(\"숫자의 합: \", x + y)\n",
    "\n",
    "str1, str2 = \"python\", \"polymorphism\"\n",
    "print(\"문자열의 합: \", str1 + str2)"
   ]
  },
  {
   "cell_type": "markdown",
   "metadata": {},
   "source": [
    "### 2) len()"
   ]
  },
  {
   "cell_type": "code",
   "execution_count": 2,
   "metadata": {},
   "outputs": [
    {
     "name": "stdout",
     "output_type": "stream",
     "text": [
      "11\n",
      "4\n",
      "2\n"
     ]
    }
   ],
   "source": [
    "#문자열을 구성하는 문자의 수를 반환\n",
    "x=\"Hello World\" \n",
    "print(len(x))\n",
    "\n",
    "#리스트를 구성하는 원소 수를 반환\n",
    "y=[1, 2,\"apple\", \"computer\"] \n",
    "print(len(y))\n",
    "\n",
    "#사전 형식의 key:value의 pair의 수를 반환\n",
    "z={\"computer\": 2, \"apple\":1} \n",
    "print(len(z))\n"
   ]
  },
  {
   "cell_type": "markdown",
   "metadata": {},
   "source": [
    "### 3) class\n",
    "- 튜플 형식으로 다른 조건에서 다른 형태로 사용"
   ]
  },
  {
   "cell_type": "code",
   "execution_count": 5,
   "metadata": {},
   "outputs": [
    {
     "name": "stdout",
     "output_type": "stream",
     "text": [
      "성명: 홍길동\n",
      "나이: 27\n",
      "수준: 3\n",
      "\n",
      "성명: 홍동길\n",
      "나이: 49\n",
      "수준: 1\n",
      "\n"
     ]
    }
   ],
   "source": [
    "class Person1:\n",
    "    def __init__(self, name, age, grade):\n",
    "        self.name=name\n",
    "        self.age=age\n",
    "        self.grade=grade\n",
    "    def info(self):\n",
    "        print(f\"성명: {self.name}\")\n",
    "        print(f\"나이: {self.age}\")\n",
    "        print(f\"수준: {self.grade}\")     \n",
    "\n",
    "class Person2:\n",
    "    def __init__(self, name, age, grade):\n",
    "        self.name=name\n",
    "        self.age=age\n",
    "        self.grade=grade\n",
    "    def info(self):\n",
    "        print(f\"성명: {self.name}\")\n",
    "        print(f\"나이: {self.age}\")\n",
    "        print(f\"수준: {self.grade}\") \n",
    "\n",
    "x=Person1(\"홍길동\", 27, 3)\n",
    "y=Person2(\"홍동길\", 49, 1)\n",
    "\n",
    "for i in (x, y):\n",
    "    i.info()\n",
    "    print()"
   ]
  },
  {
   "cell_type": "markdown",
   "metadata": {},
   "source": [
    "### 4) 재정의(Overriding)\n",
    "- 상위클래스의 메서드를 하위 클래스에서 재정의"
   ]
  },
  {
   "cell_type": "code",
   "execution_count": 10,
   "metadata": {},
   "outputs": [
    {
     "name": "stdout",
     "output_type": "stream",
     "text": [
      "Square Circle\n",
      "20 62.83185307179586\n",
      "25 314.1592653589793\n",
      "정사각형은 4변이 같고 각 변의 사잇각은 90도 입니다.\n",
      "반지름 10인 원입니다.\n"
     ]
    }
   ],
   "source": [
    "from math import pi\n",
    "\n",
    "class Shape:\n",
    "    def __init__(self, name):\n",
    "        self.name=name\n",
    "    def totLength(self):\n",
    "        pass\n",
    "    def area(self):\n",
    "        pass\n",
    "    def fact(self):\n",
    "        return(\"2차원 도형을 나타냅니다.\")\n",
    "    def __str__(self):  #자료형에 연산을 실시하기 위한 형식: __메소드__\n",
    "        return (self.name) \n",
    "\n",
    "class Square(Shape):\n",
    "    \"\"\"super()는 수퍼클래스를 의미하는 것으로 \n",
    "    상속하는 클래스의 변수의 초기값을 설정.\"\"\"    \n",
    "    def __init__(self, length):\n",
    "        super().__init__(\"Square\")\n",
    "        self.length=length\n",
    "    def totLength(self):\n",
    "        return (4*self.length)\n",
    "    def area(self):\n",
    "        return (self.length**2)\n",
    "    def fact(self):\n",
    "        return \"정사각형은 4변이 같고 각 변의 사잇각은 90도 입니다.\"\n",
    "\n",
    "class Circle(Shape):\n",
    "    def __init__(self, radius):\n",
    "        super().__init__(\"Circle\")\n",
    "        self.radius=radius\n",
    "    def totLength(self):\n",
    "        return (2*pi*self.radius)\n",
    "    def area(self):\n",
    "        return(pi*self.radius**2)\n",
    "    def fact(self):\n",
    "        return(f\"반지름 {self.radius}인 원입니다.\") \n",
    "\n",
    "a=Square(5)\n",
    "b=Circle(10)\n",
    "print(a, b)\n",
    "\n",
    "\n",
    "print(a.totLength(), b.totLength())\n",
    "print(a.area(), b.area())\n",
    "print(a.fact())\n",
    "print(b.fact())"
   ]
  },
  {
   "cell_type": "code",
   "execution_count": null,
   "metadata": {},
   "outputs": [],
   "source": []
  }
 ],
 "metadata": {
  "interpreter": {
   "hash": "fee75d4a118b37ac771e554bf37b66bb9d3f6150afd9a40aa97b32861ad93f28"
  },
  "kernelspec": {
   "display_name": "Python 3.9.7 64-bit",
   "name": "python3"
  },
  "language_info": {
   "codemirror_mode": {
    "name": "ipython",
    "version": 3
   },
   "file_extension": ".py",
   "mimetype": "text/x-python",
   "name": "python",
   "nbconvert_exporter": "python",
   "pygments_lexer": "ipython3",
   "version": "3.9.7"
  },
  "orig_nbformat": 4
 },
 "nbformat": 4,
 "nbformat_minor": 2
}
