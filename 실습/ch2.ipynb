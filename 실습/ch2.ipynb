{
 "cells": [
  {
   "cell_type": "markdown",
   "metadata": {},
   "source": [
    "# CH2 실습"
   ]
  },
  {
   "cell_type": "markdown",
   "metadata": {},
   "source": [
    "## 1. 인덱스와 슬라이스\n",
    "### 1-2. 자체 시퀀스 생성"
   ]
  },
  {
   "cell_type": "code",
   "execution_count": 1,
   "metadata": {},
   "outputs": [],
   "source": [
    "class Items:\n",
    "    def __init__(self, *values):\n",
    "        self._values = list(values)\n",
    "\n",
    "    def __len__(self):\n",
    "        return len(self._values)\n",
    "\n",
    "    def __getitem__(self, item):\n",
    "        return self._values.__getitem__(item)"
   ]
  },
  {
   "cell_type": "code",
   "execution_count": 4,
   "metadata": {},
   "outputs": [
    {
     "data": {
      "text/plain": [
       "2"
      ]
     },
     "execution_count": 4,
     "metadata": {},
     "output_type": "execute_result"
    }
   ],
   "source": [
    "item = Items(1,2,3)\n",
    "len(item)\n",
    "item.__getitem__(1)"
   ]
  },
  {
   "cell_type": "markdown",
   "metadata": {},
   "source": [
    "## 2. 컨텍스트 관리자"
   ]
  },
  {
   "cell_type": "code",
   "execution_count": 9,
   "metadata": {},
   "outputs": [
    {
     "name": "stdout",
     "output_type": "stream",
     "text": [
      "systemctl stop postgresql.service\n",
      "pg_dump database\n",
      "systemctl start postgresql.service\n"
     ]
    }
   ],
   "source": [
    "run = print\n",
    "\n",
    "def stop_database():\n",
    "    run(\"systemctl stop postgresql.service\")\n",
    "\n",
    "def start_database():\n",
    "    run(\"systemctl start postgresql.service\")\n",
    "\n",
    "class DBHandler:\n",
    "    def __enter__(self):\n",
    "        stop_database()\n",
    "        return self\n",
    "    \n",
    "    def __exit__(self, exc_type, ex_value, ex_traceback):\n",
    "        start_database()\n",
    "\n",
    "def db_backup():\n",
    "    run(\"pg_dump database\")\n",
    "\n",
    "def main():\n",
    "    with DBHandler():\n",
    "        db_backup()\n",
    "        \n",
    "if __name__ == \"__main__\":\n",
    "    main()"
   ]
  },
  {
   "cell_type": "code",
   "execution_count": 8,
   "metadata": {},
   "outputs": [
    {
     "name": "stdout",
     "output_type": "stream",
     "text": [
      "systemctl stop postgresql.service\n",
      "pg_dump database\n",
      "systemctl start postgresql.service\n"
     ]
    }
   ],
   "source": [
    "import contextlib\n",
    "@contextlib.contextmanager\n",
    "def db_handler():\n",
    "    stop_database()\n",
    "    yield\n",
    "    start_database()\n",
    "\n",
    "with db_handler():\n",
    "    db_backup()"
   ]
  },
  {
   "cell_type": "code",
   "execution_count": 12,
   "metadata": {},
   "outputs": [
    {
     "name": "stdout",
     "output_type": "stream",
     "text": [
      "systemctl stop postgresql.service\n",
      "pg_dump database\n",
      "systemctl start postgresql.service\n"
     ]
    }
   ],
   "source": [
    "class dbhandler_decorator(contextlib.ContextDecorator):\n",
    "    def __enter__(self):\n",
    "        stop_database()\n",
    "\n",
    "    def __exit__(self, ext_type, ex_value, ex_traceback):\n",
    "        start_database()\n",
    "\n",
    "@dbhandler_decorator()\n",
    "def offline_backup():\n",
    "    run(\"pg_dump database\")\n",
    "\n",
    "offline_backup()"
   ]
  },
  {
   "cell_type": "code",
   "execution_count": null,
   "metadata": {},
   "outputs": [],
   "source": []
  }
 ],
 "metadata": {
  "interpreter": {
   "hash": "09037bb3da3403e9ea7d45129c0b9a6b15d0ce6b6bb372b4204088a5f425237c"
  },
  "kernelspec": {
   "display_name": "Python 3.9.6 64-bit",
   "name": "python3"
  },
  "language_info": {
   "codemirror_mode": {
    "name": "ipython",
    "version": 3
   },
   "file_extension": ".py",
   "mimetype": "text/x-python",
   "name": "python",
   "nbconvert_exporter": "python",
   "pygments_lexer": "ipython3",
   "version": "3.9.6"
  },
  "orig_nbformat": 4
 },
 "nbformat": 4,
 "nbformat_minor": 2
}
