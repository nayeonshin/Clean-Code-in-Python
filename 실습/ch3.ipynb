{
 "cells": [
  {
   "cell_type": "markdown",
   "metadata": {},
   "source": [
    "### 2-1 에러 핸들링"
   ]
  },
  {
   "cell_type": "markdown",
   "metadata": {},
   "source": [
    "1. 값 대체"
   ]
  },
  {
   "cell_type": "code",
   "execution_count": 14,
   "metadata": {},
   "outputs": [
    {
     "data": {
      "text/plain": [
       "5432"
      ]
     },
     "execution_count": 14,
     "metadata": {},
     "output_type": "execute_result"
    }
   ],
   "source": [
    "configuration = {\"dbport\": 5432}\n",
    "configuration.get(\"dbport\", \"localhost\")"
   ]
  },
  {
   "cell_type": "code",
   "execution_count": 15,
   "metadata": {},
   "outputs": [],
   "source": [
    "import os\n",
    "os.getenv(\"DBHOST\")"
   ]
  },
  {
   "cell_type": "code",
   "execution_count": 16,
   "metadata": {},
   "outputs": [
    {
     "data": {
      "text/plain": [
       "5432"
      ]
     },
     "execution_count": 16,
     "metadata": {},
     "output_type": "execute_result"
    }
   ],
   "source": [
    "os.getenv(\"DPORT\", 5432)"
   ]
  },
  {
   "cell_type": "markdown",
   "metadata": {},
   "source": [
    "### 2-2 예외처리 권장사항\n",
    "1. 올바른 수준의 추상화 단계에서 예외 처리"
   ]
  },
  {
   "cell_type": "markdown",
   "metadata": {},
   "source": [
    "- `deliver_evnet()` \n",
    "  - ConnectionError 과 ValueError의 관련성이 적다\n",
    "  - ConnectionError는 `connect` 메서드에서 처리되어야 한다. "
   ]
  },
  {
   "cell_type": "code",
   "execution_count": 17,
   "metadata": {},
   "outputs": [],
   "source": [
    "import logging\n",
    "import time\n",
    "\n",
    "logger = logging.getLogger(__name__)\n",
    "\n",
    "class DataTransport:\n",
    "    \"\"\"다른 레벨에서 예외를 처리하는 객체의 예\"\"\"\n",
    "\n",
    "    retry_threshold: int = 5\n",
    "    retry_n_times: int = 3\n",
    "\n",
    "    def __init__(self, connector):\n",
    "        self._connector = connector\n",
    "        self.connection = None\n",
    "\n",
    "    def deliver_event(self, event):\n",
    "        try:\n",
    "            self.connect()\n",
    "            data = event.decode()\n",
    "            self.send(data)\n",
    "        except ConnectionError as e:\n",
    "            logger.info(\"connection error detected: %s\", e)\n",
    "            raise\n",
    "        except ValueError as e:\n",
    "            logger.error(\"%r contains incorrect data: %s\", event, e)\n",
    "            raise\n",
    "\n",
    "    def connect(self):\n",
    "        for _ in range(self.retry_n_times):\n",
    "            try:\n",
    "                self.connection = self._connector.connect()\n",
    "            except ConnectionError as e:\n",
    "                logger.info(\n",
    "                    \"%s: attempting new connection in %is\",\n",
    "                    e,\n",
    "                    self.retry_threshold,\n",
    "                )\n",
    "                time.sleep(self.retry_threshold)\n",
    "            else:\n",
    "                return self.connection\n",
    "        raise ConnectionError(\n",
    "            f\"Couldn't connect after {self.retry_n_times} times\"\n",
    "        )\n",
    "\n",
    "    def send(self, data):\n",
    "        return self.connection.send(data)"
   ]
  },
  {
   "cell_type": "markdown",
   "metadata": {},
   "source": [
    "- 수정\n",
    "  - 다른 메서드나 함수로 분리\n",
    "  - 연결 관리(ConnectionError)는 작은 함수로 나눔"
   ]
  },
  {
   "cell_type": "code",
   "execution_count": 18,
   "metadata": {},
   "outputs": [],
   "source": [
    "def connect_with_retry(connector, retry_n_times, retry_threshold=5):\n",
    "    \"\"\"Tries to establish the connection of <connector> retrying\n",
    "    <retry_n_times>.\n",
    "\n",
    "    If it can connect, returns the connection object.\n",
    "    If it's not possible after the retries, raises ConnectionError\n",
    "\n",
    "    :param connector:           An object with a `.connect()` method.\n",
    "    :param retry_n_times int:   The number of times to try to call\n",
    "                                ``connector.connect()``.\n",
    "    :param retry_threshold int: The time lapse between retry calls.\n",
    "\n",
    "    \"\"\"\n",
    "    for _ in range(retry_n_times):\n",
    "        try:\n",
    "            return connector.connect()\n",
    "        except ConnectionError as e:\n",
    "            logger.info(\n",
    "                \"%s: attempting new connection in %is\", e, retry_threshold\n",
    "            )\n",
    "            time.sleep(retry_threshold)\n",
    "    exc = ConnectionError(f\"Couldn't connect after {retry_n_times} times\")\n",
    "    logger.exception(exc)\n",
    "    raise exc\n",
    "\n",
    "class DataTransport:\n",
    "    \"\"\"An example of an object that separates the exception handling by\n",
    "    abstraction levels.\n",
    "    \"\"\"\n",
    "\n",
    "    retry_threshold: int = 5\n",
    "    retry_n_times: int = 3\n",
    "\n",
    "    def __init__(self, connector):\n",
    "        self._connector = connector\n",
    "        self.connection = None\n",
    "\n",
    "    def deliver_event(self, event):\n",
    "        self.connection = connect_with_retry(\n",
    "            self._connector, self.retry_n_times, self.retry_threshold\n",
    "        )\n",
    "        self.send(event)\n",
    "\n",
    "    def send(self, event):\n",
    "        try:\n",
    "            return self.connection.send(event.decode())\n",
    "        except ValueError as e:\n",
    "            logger.error(\"%r contains incorrect data: %s\", event, e)\n",
    "            raise"
   ]
  },
  {
   "cell_type": "markdown",
   "metadata": {},
   "source": [
    "3. 원본 예외 포함\n",
    "  - `raise <e> from <original_exception>` 구문 사용"
   ]
  },
  {
   "cell_type": "code",
   "execution_count": 19,
   "metadata": {},
   "outputs": [],
   "source": [
    "class InternalDataError(Exception):\n",
    "    \"\"\"An exception with the data of our domain problem.\"\"\"\n",
    "\n",
    "\n",
    "def process(data_dictionary, record_id):\n",
    "    try:\n",
    "        return data_dictionary[record_id]\n",
    "    except KeyError as e:\n",
    "        raise InternalDataError(\"Record not present\") from e"
   ]
  },
  {
   "cell_type": "markdown",
   "metadata": {},
   "source": [
    "## 4. 개발 지침 약어"
   ]
  },
  {
   "cell_type": "markdown",
   "metadata": {},
   "source": [
    "### 4-3. KIS"
   ]
  },
  {
   "cell_type": "code",
   "execution_count": 20,
   "metadata": {},
   "outputs": [],
   "source": [
    "class ComplicatedNamespace:\n",
    "    \"\"\"An convoluted example of initializing an object with some properties.\n",
    "\n",
    "    >>> cn = ComplicatedNamespace.init_with_data(\n",
    "    ...    id_=42, user=\"root\", location=\"127.0.0.1\", extra=\"excluded\"\n",
    "    ... )\n",
    "    >>> cn.id_, cn.user, cn.location\n",
    "    (42, 'root', '127.0.0.1')\n",
    "\n",
    "    >>> hasattr(cn, \"extra\")\n",
    "    False\n",
    "\n",
    "    \"\"\"\n",
    "\n",
    "    ACCEPTED_VALUES = (\"id_\", \"user\", \"location\")\n",
    "\n",
    "    @classmethod\n",
    "    def init_with_data(cls, **data):\n",
    "        instance = cls()\n",
    "        for key, value in data.items():\n",
    "            if key in cls.ACCEPTED_VALUES:\n",
    "                setattr(instance, key, value)\n",
    "        return instance\n"
   ]
  },
  {
   "cell_type": "code",
   "execution_count": 21,
   "metadata": {},
   "outputs": [
    {
     "data": {
      "text/plain": [
       "(42, 'root', '127.0.0.1')"
      ]
     },
     "execution_count": 21,
     "metadata": {},
     "output_type": "execute_result"
    }
   ],
   "source": [
    "cn = ComplicatedNamespace.init_with_data(\n",
    "    id_=42, user=\"root\", location=\"127.0.0.1\", extra=\"excluded\"\n",
    ")\n",
    "cn.id_, cn.user, cn.location"
   ]
  },
  {
   "cell_type": "markdown",
   "metadata": {},
   "source": [
    "- 초기화를 위해 불필요한 과정이 필요\n",
    "- 파이썬에서 다른 객체를 초기화 할 때는 `__init__` 메서드 사용"
   ]
  },
  {
   "cell_type": "code",
   "execution_count": 22,
   "metadata": {},
   "outputs": [],
   "source": [
    "#클린코드\n",
    "class Namespace:\n",
    "    \"\"\"Create an object from keyword arguments.\"\"\"\n",
    "\n",
    "\n",
    "    ACCEPTED_VALUES = (\"id_\", \"user\", \"location\")\n",
    "\n",
    "    def __init__(self, **data):\n",
    "        accepted_data = {\n",
    "            k: v for k, v in data.items() if k in self.ACCEPTED_VALUES\n",
    "        }\n",
    "        self.__dict__.update(accepted_data)"
   ]
  },
  {
   "cell_type": "code",
   "execution_count": 23,
   "metadata": {},
   "outputs": [
    {
     "data": {
      "text/plain": [
       "(42, 'root', '127.0.0.1')"
      ]
     },
     "execution_count": 23,
     "metadata": {},
     "output_type": "execute_result"
    }
   ],
   "source": [
    "cn = Namespace(\n",
    "     id_=42, user=\"root\", location=\"127.0.0.1\", extra=\"excluded\"\n",
    ")\n",
    "cn.id_, cn.user, cn.location"
   ]
  },
  {
   "cell_type": "markdown",
   "metadata": {},
   "source": [
    "## 5. 컴포지션과 상속\n",
    "> 상속안티패턴"
   ]
  },
  {
   "cell_type": "markdown",
   "metadata": {},
   "source": [
    "- 안좋은 예\n",
    "  - 원하는 기능은 수행하지만 비용 측면에서는 나쁨\n",
    "  - 불필요한 수많은 메서드가 포함되어 있음\n",
    "\n",
    "- 계층 구조가 잘못됨\n",
    "  - class명만 가지고 사전타입인지 알 수 없음\n",
    "- 결합력\n",
    "  - 사전의 모든 메서드를 포함하지만 불필요 \n",
    "  - 결합력이 낮다."
   ]
  },
  {
   "cell_type": "code",
   "execution_count": 24,
   "metadata": {},
   "outputs": [],
   "source": [
    "import collections\n",
    "from datetime import datetime\n",
    "from unittest import TestCase, main\n",
    "\n",
    "class TransactionalPolicy(collections.UserDict):\n",
    "    \"\"\"Example of an incorrect use of inheritance.\"\"\"\n",
    "\n",
    "    def change_in_policy(self, customer_id, **new_policy_data):\n",
    "        self[customer_id].update(**new_policy_data)"
   ]
  },
  {
   "cell_type": "code",
   "execution_count": 25,
   "metadata": {},
   "outputs": [
    {
     "data": {
      "text/plain": [
       "{'fee': 1000.0, 'expiration_date': datetime.datetime(2020, 1, 3, 0, 0)}"
      ]
     },
     "execution_count": 25,
     "metadata": {},
     "output_type": "execute_result"
    }
   ],
   "source": [
    "policy = TransactionalPolicy({\n",
    "    \"client001\": {\n",
    "        \"fee\": 1000.0,\n",
    "        \"expiration_date\": datetime(2020, 1, 3),\n",
    "    }\n",
    "})\n",
    "policy[\"client001\"]\n"
   ]
  },
  {
   "cell_type": "code",
   "execution_count": 26,
   "metadata": {},
   "outputs": [
    {
     "data": {
      "text/plain": [
       "{'fee': 1000.0, 'expiration_date': datetime.datetime(2020, 1, 4, 0, 0)}"
      ]
     },
     "execution_count": 26,
     "metadata": {},
     "output_type": "execute_result"
    }
   ],
   "source": [
    "policy.change_in_policy(\"client001\", expiration_date=datetime(2020, 1, 4))\n",
    "policy[\"client001\"]"
   ]
  },
  {
   "cell_type": "code",
   "execution_count": 27,
   "metadata": {},
   "outputs": [
    {
     "data": {
      "text/plain": [
       "['_MutableMapping__marker',\n",
       " '__abstractmethods__',\n",
       " '__class__',\n",
       " '__class_getitem__',\n",
       " '__contains__',\n",
       " '__copy__',\n",
       " '__delattr__',\n",
       " '__delitem__',\n",
       " '__dict__',\n",
       " '__dir__',\n",
       " '__doc__',\n",
       " '__eq__',\n",
       " '__format__',\n",
       " '__ge__',\n",
       " '__getattribute__',\n",
       " '__getitem__',\n",
       " '__gt__',\n",
       " '__hash__',\n",
       " '__init__',\n",
       " '__init_subclass__',\n",
       " '__ior__',\n",
       " '__iter__',\n",
       " '__le__',\n",
       " '__len__',\n",
       " '__lt__',\n",
       " '__module__',\n",
       " '__ne__',\n",
       " '__new__',\n",
       " '__or__',\n",
       " '__reduce__',\n",
       " '__reduce_ex__',\n",
       " '__repr__',\n",
       " '__reversed__',\n",
       " '__ror__',\n",
       " '__setattr__',\n",
       " '__setitem__',\n",
       " '__sizeof__',\n",
       " '__slots__',\n",
       " '__str__',\n",
       " '__subclasshook__',\n",
       " '__weakref__',\n",
       " '_abc_impl',\n",
       " 'change_in_policy',\n",
       " 'clear',\n",
       " 'copy',\n",
       " 'data',\n",
       " 'fromkeys',\n",
       " 'get',\n",
       " 'items',\n",
       " 'keys',\n",
       " 'pop',\n",
       " 'popitem',\n",
       " 'setdefault',\n",
       " 'update',\n",
       " 'values']"
      ]
     },
     "execution_count": 27,
     "metadata": {},
     "output_type": "execute_result"
    }
   ],
   "source": [
    "dir(policy)"
   ]
  },
  {
   "cell_type": "markdown",
   "metadata": {},
   "source": [
    "- 리팩토링\n",
    "  - 컴포지션을 사용\n",
    "  - TransactionalPolicy 자체가 사전이 되는 것이 아니라 **사전을 활용**\n",
    "  "
   ]
  },
  {
   "cell_type": "code",
   "execution_count": 28,
   "metadata": {},
   "outputs": [],
   "source": [
    "from datetime import datetime\n",
    "from unittest import TestCase, main\n",
    "\n",
    "\n",
    "class TransactionalPolicy:\n",
    "    \"\"\"Example refactored to use composition.\"\"\"\n",
    "\n",
    "    def __init__(self, policy_data, **extra_data):\n",
    "        self._data = {**policy_data, **extra_data}\n",
    "\n",
    "    def change_in_policy(self, customer_id, **new_policy_data):\n",
    "        self._data[customer_id].update(**new_policy_data)\n",
    "\n",
    "    def __getitem__(self, customer_id):\n",
    "        return self._data[customer_id]\n",
    "\n",
    "    def __len__(self):\n",
    "        return len(self._data)"
   ]
  },
  {
   "cell_type": "markdown",
   "metadata": {},
   "source": [
    "### 5-3. 파이썬의 다중상속\n",
    "- 파이썬은 C3 linearization 또는 MRO 알고리즘을 사용하여\n",
    "충돌 문제를 해결"
   ]
  },
  {
   "cell_type": "code",
   "execution_count": 30,
   "metadata": {},
   "outputs": [],
   "source": [
    "class BaseModule:\n",
    "    module_name = \"top\"\n",
    "\n",
    "    def __init__(self, module_name):\n",
    "        self.name = module_name\n",
    "\n",
    "    def __str__(self):\n",
    "        return f\"{self.module_name}:{self.name}\"\n",
    "\n",
    "class BaseModule1(BaseModule):\n",
    "    module_name = \"module-1\"\n",
    "\n",
    "class BaseModule2(BaseModule):\n",
    "    module_name = \"module-2\"\n",
    "\n",
    "class BaseModule3(BaseModule):\n",
    "    module_name = \"module-3\"\n",
    "\n",
    "class ConcreteModuleA12(BaseModule1, BaseModule2):\n",
    "    \"\"\"Extend 1 & 2\n",
    "\n",
    "    >>> str(ConcreteModuleA12('name'))\n",
    "    'module-1:name'\n",
    "    \"\"\"\n",
    "\n",
    "class ConcreteModuleB23(BaseModule2, BaseModule3):\n",
    "    \"\"\"Extend 2 & 3\n",
    "\n",
    "    >>> str(ConcreteModuleB23(\"test\"))\n",
    "    'module-2:test'\n",
    "    \"\"\""
   ]
  },
  {
   "cell_type": "code",
   "execution_count": 31,
   "metadata": {},
   "outputs": [
    {
     "data": {
      "text/plain": [
       "'module-1:test'"
      ]
     },
     "execution_count": 31,
     "metadata": {},
     "output_type": "execute_result"
    }
   ],
   "source": [
    "str((ConcreteModuleA12(\"test\")))"
   ]
  },
  {
   "cell_type": "markdown",
   "metadata": {},
   "source": [
    "- 클래스의 결정 순서 출력"
   ]
  },
  {
   "cell_type": "code",
   "execution_count": 32,
   "metadata": {},
   "outputs": [
    {
     "data": {
      "text/plain": [
       "['ConcreteModuleA12', 'BaseModule1', 'BaseModule2', 'BaseModule', 'object']"
      ]
     },
     "execution_count": 32,
     "metadata": {},
     "output_type": "execute_result"
    }
   ],
   "source": [
    "[cls.__name__ for cls in ConcreteModuleA12.mro()]"
   ]
  },
  {
   "cell_type": "markdown",
   "metadata": {},
   "source": [
    "> 믹스인"
   ]
  },
  {
   "cell_type": "code",
   "execution_count": 35,
   "metadata": {},
   "outputs": [],
   "source": [
    "class BaseTokenizer:\n",
    "    \"\"\"\n",
    "    >>> tk = BaseTokenizer(\"28a2320b-fd3f-4627-9792-a2b38e3c46b0\")\n",
    "    >>> list(tk)\n",
    "    ['28a2320b', 'fd3f', '4627', '9792', 'a2b38e3c46b0']\n",
    "    \"\"\"\n",
    "\n",
    "    def __init__(self, str_token):\n",
    "        self.str_token = str_token\n",
    "\n",
    "    def __iter__(self):\n",
    "        yield from self.str_token.split(\"-\")"
   ]
  },
  {
   "cell_type": "code",
   "execution_count": 36,
   "metadata": {},
   "outputs": [
    {
     "data": {
      "text/plain": [
       "['28a2320b', 'fd3f', '4627', '9792', 'a2b38e3c46b0']"
      ]
     },
     "execution_count": 36,
     "metadata": {},
     "output_type": "execute_result"
    }
   ],
   "source": [
    "tk = BaseTokenizer(\"28a2320b-fd3f-4627-9792-a2b38e3c46b0\")\n",
    "list(tk)"
   ]
  },
  {
   "cell_type": "markdown",
   "metadata": {},
   "source": [
    "- mixin을 사용해 기본 클래스를 변경하지 않고 값을 대문자로 반환"
   ]
  },
  {
   "cell_type": "code",
   "execution_count": 38,
   "metadata": {},
   "outputs": [],
   "source": [
    "class UpperIterableMixin:\n",
    "    def __iter__(self):\n",
    "        return map(str.upper, super().__iter__())\n",
    "\n",
    "\n",
    "class Tokenizer(UpperIterableMixin, BaseTokenizer):\n",
    "    \"\"\"\n",
    "    >>> tk = Tokenizer(\"28a2320b-fd3f-4627-9792-a2b38e3c46b0\")\n",
    "    >>> list(tk)\n",
    "    ['28A2320B', 'FD3F', '4627', '9792', 'A2B38E3C46B0']\n",
    "    \"\"\"\n",
    "    pass\n"
   ]
  },
  {
   "cell_type": "code",
   "execution_count": 39,
   "metadata": {},
   "outputs": [
    {
     "data": {
      "text/plain": [
       "['28A2320B', 'FD3F', '4627', '9792', 'A2B38E3C46B0']"
      ]
     },
     "execution_count": 39,
     "metadata": {},
     "output_type": "execute_result"
    }
   ],
   "source": [
    "tk = Tokenizer(\"28a2320b-fd3f-4627-9792-a2b38e3c46b0\")\n",
    "list(tk)"
   ]
  },
  {
   "cell_type": "markdown",
   "metadata": {},
   "source": [
    "--- "
   ]
  },
  {
   "cell_type": "markdown",
   "metadata": {},
   "source": [
    "## 6. 함수와 메서드의 인자\n",
    "> 인자는 함수에 어떻게 복사되는가"
   ]
  },
  {
   "cell_type": "markdown",
   "metadata": {},
   "source": [
    "- list 와 같은 mutable 인자가 들어가면 값이 바뀔 수 있다.\n"
   ]
  },
  {
   "cell_type": "code",
   "execution_count": 41,
   "metadata": {},
   "outputs": [
    {
     "name": "stdout",
     "output_type": "stream",
     "text": [
      "hello in function\n",
      "['h', 'e', 'l', 'l', 'o']\n",
      "['h', 'e', 'l', 'l', 'o', ' ', 'i', 'n', ' ', 'f', 'u', 'n', 'c', 't', 'i', 'o', 'n']\n",
      "['h', 'e', 'l', 'l', 'o', ' ', 'i', 'n', ' ', 'f', 'u', 'n', 'c', 't', 'i', 'o', 'n']\n"
     ]
    }
   ],
   "source": [
    "def function(arg): \n",
    "    arg += \" in function\" \n",
    "    print(arg)\n",
    "\n",
    "immutable = \"hello\" \n",
    "function(immutable)\n",
    "\n",
    "mutable = list(\"hello\") \n",
    "print(mutable)\n",
    "function(mutable)\n",
    "print(mutable) "
   ]
  },
  {
   "cell_type": "markdown",
   "metadata": {},
   "source": [
    "> 가변인자"
   ]
  },
  {
   "cell_type": "markdown",
   "metadata": {},
   "source": [
    "- 언패킹 훈련"
   ]
  },
  {
   "cell_type": "code",
   "execution_count": 44,
   "metadata": {},
   "outputs": [],
   "source": [
    "def show(e, rest):\n",
    "    print(\"요소: {0} - 나머지: {1}\".format(e, rest))\n",
    "    "
   ]
  },
  {
   "cell_type": "code",
   "execution_count": 45,
   "metadata": {},
   "outputs": [
    {
     "name": "stdout",
     "output_type": "stream",
     "text": [
      "요소: 1 - 나머지: [2, 3, 4, 5]\n"
     ]
    }
   ],
   "source": [
    "first, *rest = [1, 2, 3, 4, 5]\n",
    "show(first, rest)"
   ]
  },
  {
   "cell_type": "markdown",
   "metadata": {},
   "source": [
    "\n",
    "- `bad_users_from_rows` 레코드의 각 칼럼에 해당하는 값을 받아서 사용자를 생성\n",
    "- `users_from_rows` 언패킹을 사용해 반복을 수행"
   ]
  },
  {
   "cell_type": "code",
   "execution_count": 43,
   "metadata": {},
   "outputs": [],
   "source": [
    "USERS = [(i, f\"first_name_{i}\", f\"last_name_{i}\") for i in range(1_000)]\n",
    "\n",
    "\n",
    "class User:\n",
    "    def __init__(self, user_id, first_name, last_name):\n",
    "        self.user_id = user_id\n",
    "        self.first_name = first_name\n",
    "        self.last_name = last_name\n",
    "\n",
    "    def __repr__(self):\n",
    "        return f\"{self.__class__.__name__}({self.user_id!r}, {self.first_name!r}, {self.last_name!r})\"\n",
    "\n",
    "\n",
    "def bad_users_from_rows(dbrows) -> list:\n",
    "    \"\"\"A bad case (non-pythonic) of creating ``User``s from DB rows.\"\"\"\n",
    "    return [User(row[0], row[1], row[2]) for row in dbrows]\n",
    "\n",
    "\n",
    "def users_from_rows(dbrows) -> list:\n",
    "    \"\"\"Create ``User``s from DB rows.\"\"\"\n",
    "    return [\n",
    "        User(user_id, first_name, last_name)\n",
    "        for (user_id, first_name, last_name) in dbrows\n",
    "    ]\n"
   ]
  },
  {
   "cell_type": "markdown",
   "metadata": {},
   "source": [
    "- 나쁜 코드인 이유\n",
    "  - row[0], row[1] 이 무엇을 뜻하는지 알 수 없다."
   ]
  },
  {
   "cell_type": "markdown",
   "metadata": {},
   "source": [
    "## 7. SW 디자인 우수 사례 결론\n",
    "### 7-1. 소프트웨어의 독립성\n",
    "- 아래의 함수들은 독립적이다\n",
    "- 다른 함수를 변경해도 나머지 함수가 그대로임"
   ]
  },
  {
   "cell_type": "code",
   "execution_count": 48,
   "metadata": {},
   "outputs": [],
   "source": [
    "def calculate_price(base_price: float, tax: float, discount: float) -> float:\n",
    "    \"\"\"\n",
    "    >>> calculate_price(10, 0.2, 0.5)\n",
    "    6.0\n",
    "    >>> calculate_price(10, 0.2, 0)\n",
    "    12.0\n",
    "    \"\"\"\n",
    "    return (base_price * (1 + tax)) * (1 - discount)\n",
    "\n",
    "def show_price(price: float) -> str:\n",
    "    \"\"\"\n",
    "    >>> show_price(1000)\n",
    "    '$ 1,000.00'\n",
    "\n",
    "    >>> show_price(1_250.75)\n",
    "    '$ 1,250.75'\n",
    "    \"\"\"\n",
    "    return \"$ {0:,.2f}\".format(price)\n",
    "\n",
    "def str_final_price(\n",
    "    base_price: float, tax: float, discount: float, fmt_function=str\n",
    ") -> str:\n",
    "    \"\"\"\n",
    "    >>> str_final_price(10, 0.2, 0.5)\n",
    "    '6.0'\n",
    "    >>> str_final_price(1000, 0.2, 0)\n",
    "    '1200.0'\n",
    "    >>> str_final_price(1000, 0.2, 0.1, fmt_function=show_price)\n",
    "    '$ 1,080.00'\n",
    "\n",
    "    \"\"\"\n",
    "    return fmt_function(calculate_price(base_price, tax, discount))"
   ]
  },
  {
   "cell_type": "code",
   "execution_count": 51,
   "metadata": {},
   "outputs": [
    {
     "name": "stdout",
     "output_type": "stream",
     "text": [
      "6.0\n",
      "1200.0\n",
      "$ 1,080.00\n"
     ]
    }
   ],
   "source": [
    "print(str_final_price(10, 0.2, 0.5))\n",
    "print(str_final_price(1000, 0.2, 0))\n",
    "print(str_final_price(1000, 0.2, 0.1, fmt_function=show_price))"
   ]
  },
  {
   "cell_type": "code",
   "execution_count": null,
   "metadata": {},
   "outputs": [],
   "source": []
  }
 ],
 "metadata": {
  "interpreter": {
   "hash": "09037bb3da3403e9ea7d45129c0b9a6b15d0ce6b6bb372b4204088a5f425237c"
  },
  "kernelspec": {
   "display_name": "Python 3.9.6 64-bit",
   "name": "python3"
  },
  "language_info": {
   "codemirror_mode": {
    "name": "ipython",
    "version": 3
   },
   "file_extension": ".py",
   "mimetype": "text/x-python",
   "name": "python",
   "nbconvert_exporter": "python",
   "pygments_lexer": "ipython3",
   "version": "3.9.6"
  },
  "orig_nbformat": 4
 },
 "nbformat": 4,
 "nbformat_minor": 2
}
