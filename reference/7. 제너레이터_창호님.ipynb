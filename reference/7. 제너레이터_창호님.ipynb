{
 "cells": [
  {
   "cell_type": "code",
   "execution_count": 179,
   "id": "017417d1",
   "metadata": {},
   "outputs": [],
   "source": [
    "from IPython.display import Image"
   ]
  },
  {
   "cell_type": "code",
   "execution_count": null,
   "id": "014bce60",
   "metadata": {},
   "outputs": [],
   "source": [
    "발표꼭지"
   ]
  },
  {
   "cell_type": "markdown",
   "id": "985c8856",
   "metadata": {},
   "source": [
    "\n",
    "### 1. 파이썬에서 어떤 함수라도 yield 키워드를 사용하면 \"제너레이터 함수\" generator factory가 된다    \n",
    "    i.e. yield 함수가 포함된 함수를 호출하면 제너레이터의 인스턴스를 만든다\n",
    "   \n",
    "### 2. \"제너레이터\"는 \"한 번에 하나씩 구성요소를 반환해주는 이터러블\" 을 생성해주는 객체이다.    \n",
    "    i.e. 제너레이터는 이터레이터이고(반대는 성립하지 않는다), 모든 제너레이터 객체는 이터러블이다\n",
    "\n",
    "### 3. 제너레이터를 사용하는 주 목적은 메모리 절약이다.\n",
    "    거대한 데이터 집합을 한꺼번에 메모리에 저장하는 대신 (시퀀스 객체를 쓰는 것처럼)\n",
    "    \"각 데이터 요소를 어떻게 만드는지 아는 객체\"를 만들어서 필요할 때마다 하나씩만 가져오는 것이다. \n",
    "    이 기능은 게으른 연산(lazy computation)을 통해 무거운 객체를 사용할 수 있도록한다. "
   ]
  },
  {
   "cell_type": "markdown",
   "id": "caee96e7",
   "metadata": {},
   "source": [
    "### 4. 제너레이터는 코루틴으로 활용할 수 있다"
   ]
  },
  {
   "cell_type": "code",
   "execution_count": 4,
   "id": "269c637c",
   "metadata": {},
   "outputs": [
    {
     "data": {
      "text/plain": [
       "['__add__',\n",
       " '__class__',\n",
       " '__class_getitem__',\n",
       " '__contains__',\n",
       " '__delattr__',\n",
       " '__delitem__',\n",
       " '__dir__',\n",
       " '__doc__',\n",
       " '__eq__',\n",
       " '__format__',\n",
       " '__ge__',\n",
       " '__getattribute__',\n",
       " '__getitem__',\n",
       " '__gt__',\n",
       " '__hash__',\n",
       " '__iadd__',\n",
       " '__imul__',\n",
       " '__init__',\n",
       " '__init_subclass__',\n",
       " '__iter__',\n",
       " '__le__',\n",
       " '__len__',\n",
       " '__lt__',\n",
       " '__mul__',\n",
       " '__ne__',\n",
       " '__new__',\n",
       " '__reduce__',\n",
       " '__reduce_ex__',\n",
       " '__repr__',\n",
       " '__reversed__',\n",
       " '__rmul__',\n",
       " '__setattr__',\n",
       " '__setitem__',\n",
       " '__sizeof__',\n",
       " '__str__',\n",
       " '__subclasshook__',\n",
       " 'append',\n",
       " 'clear',\n",
       " 'copy',\n",
       " 'count',\n",
       " 'extend',\n",
       " 'index',\n",
       " 'insert',\n",
       " 'pop',\n",
       " 'remove',\n",
       " 'reverse',\n",
       " 'sort']"
      ]
     },
     "execution_count": 4,
     "metadata": {},
     "output_type": "execute_result"
    }
   ],
   "source": [
    "x = [1, 2, 3]\n",
    "dir(list)"
   ]
  },
  {
   "cell_type": "code",
   "execution_count": 177,
   "id": "d134e8fd",
   "metadata": {},
   "outputs": [
    {
     "data": {
      "text/plain": [
       "<function __main__.generator_func()>"
      ]
     },
     "execution_count": 177,
     "metadata": {},
     "output_type": "execute_result"
    }
   ],
   "source": [
    "def generator_func():\n",
    "    yield 1\n",
    "    yield 2\n",
    "    yield 3\n",
    "\n",
    "generator_func"
   ]
  },
  {
   "cell_type": "code",
   "execution_count": 178,
   "id": "d2d777d2",
   "metadata": {},
   "outputs": [
    {
     "data": {
      "text/plain": [
       "<generator object generator_func at 0x000001FD09601B30>"
      ]
     },
     "execution_count": 178,
     "metadata": {},
     "output_type": "execute_result"
    }
   ],
   "source": [
    "generator_func()"
   ]
  },
  {
   "cell_type": "code",
   "execution_count": null,
   "id": "ba91b21b",
   "metadata": {},
   "outputs": [],
   "source": []
  },
  {
   "cell_type": "markdown",
   "id": "d0daaaff",
   "metadata": {},
   "source": [
    "제너레이터에 대해 보기 전에 먼저 이터러블, 이터레이터에 대해 알아보자"
   ]
  },
  {
   "cell_type": "code",
   "execution_count": null,
   "id": "02c7130b",
   "metadata": {},
   "outputs": [],
   "source": []
  },
  {
   "cell_type": "markdown",
   "id": "0107f992",
   "metadata": {},
   "source": [
    "# 이터레이션 , 이터러블 , 이터레이터"
   ]
  },
  {
   "cell_type": "markdown",
   "id": "a8c41b52",
   "metadata": {},
   "source": [
    "이터레이션(iteration) = 반복 \n",
    "\n",
    "    : 어떤 데이터 집합이 있다고 할 때 그 안의 요소들에 하나씩 접근하는 것 \n",
    "    StopIteration이 발생할 때까지 next() 메서드를 계속해서 호출하는 메커니즘\n"
   ]
  },
  {
   "cell_type": "code",
   "execution_count": 182,
   "id": "78832a4d",
   "metadata": {},
   "outputs": [
    {
     "data": {
      "image/png": "[encoded data removed]",
      "text/plain": [
       "<IPython.core.display.Image object>"
      ]
     },
     "execution_count": 182,
     "metadata": {
      "image/png": {
       "height": 800,
       "width": 1000
      }
     },
     "output_type": "execute_result"
    }
   ],
   "source": [
    "Image(\"g1.png\", height = 800, width = 1000)"
   ]
  },
  {
   "cell_type": "markdown",
   "id": "94f12868",
   "metadata": {},
   "source": [
    "### Containers"
   ]
  },
  {
   "cell_type": "code",
   "execution_count": null,
   "id": "ad41e9a0",
   "metadata": {},
   "outputs": [],
   "source": [
    "Containers are data structures holding elements, and that support membership tests. \n",
    "They are data structures that live in memory, and typically hold all their values in memory, too. \n",
    "\n",
    "In Python, some well known examples are:\n",
    "list, deque, …\n",
    "set, frozensets, …\n",
    "dict, defaultdict, OrderedDict, Counter, …\n",
    "tuple, namedtuple, …\n",
    "str\n",
    "\n",
    "Technically, an object is a container when it can be asked whether it contains a certain element. \n",
    "You can perform such membership tests on lists, sets, or tuples alike:"
   ]
  },
  {
   "cell_type": "code",
   "execution_count": 186,
   "id": "e8c86888",
   "metadata": {},
   "outputs": [],
   "source": [
    "s = 'foobar'\n",
    "assert 'foo' in s  # a string \"contains\" all its substrings"
   ]
  },
  {
   "cell_type": "code",
   "execution_count": 183,
   "id": "deb5e39c",
   "metadata": {},
   "outputs": [],
   "source": [
    "assert 1 in [1, 2, 3] # lists"
   ]
  },
  {
   "cell_type": "code",
   "execution_count": 184,
   "id": "91eff4a1",
   "metadata": {},
   "outputs": [],
   "source": [
    "assert 4 not in {1, 2, 3 } # sets"
   ]
  },
  {
   "cell_type": "code",
   "execution_count": 185,
   "id": "f7524566",
   "metadata": {},
   "outputs": [],
   "source": [
    "d = {1: 'foo', 2: 'bar', 3: 'qux'}  # Dict membership will check the keys:\n",
    "assert 'foo' not in d"
   ]
  },
  {
   "cell_type": "code",
   "execution_count": null,
   "id": "76c55646",
   "metadata": {},
   "outputs": [],
   "source": [
    "most containers provide a way to produce every element they contain, (i.e. most containers are also iterable.)\n",
    "that ability does not make them a container but an iterable.\n",
    "Not all containers are necessarily iterable.\n",
    "An example of this is a Bloom filter."
   ]
  },
  {
   "cell_type": "markdown",
   "id": "464a5f79",
   "metadata": {},
   "source": [
    "### Iterable"
   ]
  },
  {
   "cell_type": "code",
   "execution_count": null,
   "id": "68b4fb9c",
   "metadata": {},
   "outputs": [],
   "source": [
    "An iterable is any object, not necessarily a data structure, \n",
    "that can return an iterator (with the purpose of returning all of its elements). "
   ]
  },
  {
   "cell_type": "markdown",
   "id": "1b427ef2",
   "metadata": {},
   "source": [
    "이터러블(iterable) = 반복가능한 객체 \n",
    "\n",
    "    : 어떤 객체에 __iter__ 메서드가 있으면 이터러블 객체다 (리스트, 문자열, 딕셔너리, 집합)\n",
    "    \n",
    "    이터러블은 자기 안에 이터레이터를 가지고 있거나 (바꿔 말하면, __iter__()메서드는 반드시 이터레이터를 반환해야 한다)\n",
    "    자신이 시퀀스여야 한다\n",
    "    \n",
    "    cf) 파이썬의 내장함수 iter()는 그 함수의 인자로 쓴 이터러블의 __iter__() 메서드의 리턴값을 반환한다\n",
    "    만약 어떤 객체가 이터레이터의 모든 요건을 가지고 있다면 \n",
    "    __iter__() 메서드의 리턴값은 자기자신이 되도록 하는 것으로 충분해진다 ex) return self  (아래서 자세히 다루겠다)"
   ]
  },
  {
   "cell_type": "markdown",
   "id": "847b6d7a",
   "metadata": {},
   "source": [
    "예시"
   ]
  },
  {
   "cell_type": "code",
   "execution_count": 187,
   "id": "90669dbf",
   "metadata": {},
   "outputs": [],
   "source": [
    "x = [1, 2, 3]\n",
    "y = iter(x)"
   ]
  },
  {
   "cell_type": "code",
   "execution_count": 189,
   "id": "065a1925",
   "metadata": {},
   "outputs": [
    {
     "data": {
      "text/plain": [
       "1"
      ]
     },
     "execution_count": 189,
     "metadata": {},
     "output_type": "execute_result"
    }
   ],
   "source": [
    "next(y)"
   ]
  },
  {
   "cell_type": "code",
   "execution_count": 190,
   "id": "2d6d9c86",
   "metadata": {},
   "outputs": [
    {
     "name": "stdout",
     "output_type": "stream",
     "text": [
      "<class 'list'> <class 'list_iterator'>\n"
     ]
    }
   ],
   "source": [
    "print(type(x), type(y))"
   ]
  },
  {
   "cell_type": "code",
   "execution_count": null,
   "id": "cede54ba",
   "metadata": {},
   "outputs": [],
   "source": [
    "Here, x is the iterable, while y is a instance of an iterator, producing values from the iterable x\n",
    "y holds state,"
   ]
  },
  {
   "cell_type": "markdown",
   "id": "877bd553",
   "metadata": {},
   "source": [
    "### Iterator"
   ]
  },
  {
   "cell_type": "markdown",
   "id": "09de9150",
   "metadata": {},
   "source": [
    "이터레이터(iterator) = 반복가능하면서 값을 차례대로 꺼낼 수 있는 객체 \n",
    "\n",
    "    : 어떤 객체에 __next__ 매직메서드가 있으면 이터레이터다.\n",
    "    cf) next() 내장함수는 이터레이터의 __next__() 메서드를 호출한다\n",
    "       \n",
    "    next() 내장함수는 이터러블을 다음 요소로 이동시키고 기존의 값을 반환한다 (즉 __next__ 매직 메서드가 반복 로직이다)\n",
    "    이터레이터가 모두 소비되면(더 이상 반환할 값을 갖고 있지 않다면 Stopiteration 예외가 발생한다\n",
    "    \n",
    "    i.e. 보통 이터레이터는 일련의 연속적인 값 혹은 특정한 규칙을 가진 수열을 계산하는 값을 내부에 가지고 있고\n",
    "    이를 __next__()가 호출될 때마다 다음 값을 리턴할 수 있는 객체다"
   ]
  },
  {
   "cell_type": "markdown",
   "id": "4c42b809",
   "metadata": {},
   "source": [
    "이터레이터의 종류는 굉장히 많으며   \n",
    "예컨대 itertools에 있는 모든 함수는 이터레이터를 반환한다  #https://docs.python.org/ko/3/library/itertools.html"
   ]
  },
  {
   "cell_type": "markdown",
   "id": "bc447cd5",
   "metadata": {},
   "source": [
    "정리, 이터러블을 이터레이터로 바꿔주면    \n",
    "   \n",
    "   \n",
    "    __next__() 메서드를 사용하여 값을 차례대로 꺼낼수 있게 된다.\n",
    "    꺼낼 게 더이상 없으면 StopIteration 예외를 발생시켜 반복을 끝낸다"
   ]
  },
  {
   "cell_type": "markdown",
   "id": "9dc6462b",
   "metadata": {},
   "source": [
    "예시"
   ]
  },
  {
   "cell_type": "markdown",
   "id": "a75fdb80",
   "metadata": {},
   "source": [
    "먼저 클래스의 인스턴스 관점으로 보면,"
   ]
  },
  {
   "cell_type": "code",
   "execution_count": 59,
   "id": "7acbb8d7",
   "metadata": {},
   "outputs": [],
   "source": [
    "sample_list = [1, 2, 3]"
   ]
  },
  {
   "cell_type": "code",
   "execution_count": 60,
   "id": "814ee80b",
   "metadata": {},
   "outputs": [
    {
     "data": {
      "text/plain": [
       "['__add__',\n",
       " '__class__',\n",
       " '__contains__',\n",
       " '__delattr__',\n",
       " '__delitem__',\n",
       " '__dir__',\n",
       " '__doc__',\n",
       " '__eq__',\n",
       " '__format__',\n",
       " '__ge__',\n",
       " '__getattribute__',\n",
       " '__getitem__',\n",
       " '__gt__',\n",
       " '__hash__',\n",
       " '__iadd__',\n",
       " '__imul__',\n",
       " '__init__',\n",
       " '__init_subclass__',\n",
       " '__iter__',\n",
       " '__le__',\n",
       " '__len__',\n",
       " '__lt__',\n",
       " '__mul__',\n",
       " '__ne__',\n",
       " '__new__',\n",
       " '__reduce__',\n",
       " '__reduce_ex__',\n",
       " '__repr__',\n",
       " '__reversed__',\n",
       " '__rmul__',\n",
       " '__setattr__',\n",
       " '__setitem__',\n",
       " '__sizeof__',\n",
       " '__str__',\n",
       " '__subclasshook__',\n",
       " 'append',\n",
       " 'clear',\n",
       " 'copy',\n",
       " 'count',\n",
       " 'extend',\n",
       " 'index',\n",
       " 'insert',\n",
       " 'pop',\n",
       " 'remove',\n",
       " 'reverse',\n",
       " 'sort']"
      ]
     },
     "execution_count": 60,
     "metadata": {},
     "output_type": "execute_result"
    }
   ],
   "source": [
    "dir(sample_list)"
   ]
  },
  {
   "cell_type": "code",
   "execution_count": 61,
   "id": "6ad06718",
   "metadata": {},
   "outputs": [
    {
     "data": {
      "text/plain": [
       "['__class__',\n",
       " '__delattr__',\n",
       " '__dir__',\n",
       " '__doc__',\n",
       " '__eq__',\n",
       " '__format__',\n",
       " '__ge__',\n",
       " '__getattribute__',\n",
       " '__gt__',\n",
       " '__hash__',\n",
       " '__init__',\n",
       " '__init_subclass__',\n",
       " '__iter__',\n",
       " '__le__',\n",
       " '__length_hint__',\n",
       " '__lt__',\n",
       " '__ne__',\n",
       " '__new__',\n",
       " '__next__',\n",
       " '__reduce__',\n",
       " '__reduce_ex__',\n",
       " '__repr__',\n",
       " '__setattr__',\n",
       " '__setstate__',\n",
       " '__sizeof__',\n",
       " '__str__',\n",
       " '__subclasshook__']"
      ]
     },
     "execution_count": 61,
     "metadata": {},
     "output_type": "execute_result"
    }
   ],
   "source": [
    "sample_list = sample_list.__iter__()  # __next__ 매직메서드를 갖고 있는 인스턴스로 변하는 것을 아래에서 확인할 수 있다\n",
    "dir(sample_list) \n",
    "\n",
    "# 즉 리스트였던 sample_list 는 이제 이터레이터로 바뀌었다."
   ]
  },
  {
   "cell_type": "code",
   "execution_count": 62,
   "id": "99337835",
   "metadata": {},
   "outputs": [
    {
     "data": {
      "text/plain": [
       "<list_iterator at 0x20015a24640>"
      ]
     },
     "execution_count": 62,
     "metadata": {},
     "output_type": "execute_result"
    }
   ],
   "source": [
    "sample_list  "
   ]
  },
  {
   "cell_type": "code",
   "execution_count": 63,
   "id": "070cafaa",
   "metadata": {},
   "outputs": [
    {
     "data": {
      "text/plain": [
       "1"
      ]
     },
     "execution_count": 63,
     "metadata": {},
     "output_type": "execute_result"
    }
   ],
   "source": [
    "sample_list.__next__()"
   ]
  },
  {
   "cell_type": "code",
   "execution_count": 64,
   "id": "942433bc",
   "metadata": {},
   "outputs": [
    {
     "data": {
      "text/plain": [
       "2"
      ]
     },
     "execution_count": 64,
     "metadata": {},
     "output_type": "execute_result"
    }
   ],
   "source": [
    "sample_list.__next__()"
   ]
  },
  {
   "cell_type": "code",
   "execution_count": 65,
   "id": "d5bbdaef",
   "metadata": {},
   "outputs": [
    {
     "data": {
      "text/plain": [
       "3"
      ]
     },
     "execution_count": 65,
     "metadata": {},
     "output_type": "execute_result"
    }
   ],
   "source": [
    "sample_list.__next__()"
   ]
  },
  {
   "cell_type": "code",
   "execution_count": 66,
   "id": "827c1c89",
   "metadata": {},
   "outputs": [
    {
     "ename": "StopIteration",
     "evalue": "",
     "output_type": "error",
     "traceback": [
      "\u001b[1;31m---------------------------------------------------------------------------\u001b[0m",
      "\u001b[1;31mStopIteration\u001b[0m                             Traceback (most recent call last)",
      "\u001b[1;32m<ipython-input-66-a237677df141>\u001b[0m in \u001b[0;36m<module>\u001b[1;34m\u001b[0m\n\u001b[1;32m----> 1\u001b[1;33m \u001b[0msample_list\u001b[0m\u001b[1;33m.\u001b[0m\u001b[0m__next__\u001b[0m\u001b[1;33m(\u001b[0m\u001b[1;33m)\u001b[0m\u001b[1;33m\u001b[0m\u001b[1;33m\u001b[0m\u001b[0m\n\u001b[0m",
      "\u001b[1;31mStopIteration\u001b[0m: "
     ]
    }
   ],
   "source": [
    "sample_list.__next__()"
   ]
  },
  {
   "cell_type": "markdown",
   "id": "12c200dc",
   "metadata": {},
   "source": [
    "### 매직메서드 대신 내장함수 iter()를 써도 같은 결과를 얻는다"
   ]
  },
  {
   "cell_type": "markdown",
   "id": "9f508780",
   "metadata": {},
   "source": [
    "i.e. 내장함수의 인자로 클래스의 인스턴스를 주는 관점에서 보면"
   ]
  },
  {
   "cell_type": "code",
   "execution_count": 20,
   "id": "cbee98c1",
   "metadata": {},
   "outputs": [
    {
     "data": {
      "text/plain": [
       "['__class__',\n",
       " '__delattr__',\n",
       " '__dir__',\n",
       " '__doc__',\n",
       " '__eq__',\n",
       " '__format__',\n",
       " '__ge__',\n",
       " '__getattribute__',\n",
       " '__gt__',\n",
       " '__hash__',\n",
       " '__init__',\n",
       " '__init_subclass__',\n",
       " '__iter__',\n",
       " '__le__',\n",
       " '__length_hint__',\n",
       " '__lt__',\n",
       " '__ne__',\n",
       " '__new__',\n",
       " '__next__',\n",
       " '__reduce__',\n",
       " '__reduce_ex__',\n",
       " '__repr__',\n",
       " '__setattr__',\n",
       " '__setstate__',\n",
       " '__sizeof__',\n",
       " '__str__',\n",
       " '__subclasshook__']"
      ]
     },
     "execution_count": 20,
     "metadata": {},
     "output_type": "execute_result"
    }
   ],
   "source": [
    "sample_list2 = [\"a\", \"b\", \"c\", \"d\"]\n",
    "i = iter(sample_list2)\n",
    "dir(i)"
   ]
  },
  {
   "cell_type": "code",
   "execution_count": 68,
   "id": "d8be4f2d",
   "metadata": {},
   "outputs": [
    {
     "data": {
      "text/plain": [
       "<list_iterator at 0x2001584ba00>"
      ]
     },
     "execution_count": 68,
     "metadata": {},
     "output_type": "execute_result"
    }
   ],
   "source": [
    "i"
   ]
  },
  {
   "cell_type": "code",
   "execution_count": 69,
   "id": "0751f775",
   "metadata": {},
   "outputs": [
    {
     "name": "stdout",
     "output_type": "stream",
     "text": [
      "a\n",
      "b\n",
      "c\n",
      "d\n"
     ]
    }
   ],
   "source": [
    "while True:\n",
    "    try:\n",
    "        print(next(i))\n",
    "    except StopIteration:\n",
    "        break"
   ]
  },
  {
   "cell_type": "markdown",
   "id": "fb2223f4",
   "metadata": {},
   "source": [
    "### 두번째 인자로 특정 디폴트 조건을 주면 StopIteration 에러 대신 디폴트 값을 반환한다"
   ]
  },
  {
   "cell_type": "code",
   "execution_count": 120,
   "id": "74727e08",
   "metadata": {},
   "outputs": [
    {
     "name": "stdout",
     "output_type": "stream",
     "text": [
      "h\n",
      "e\n",
      "l\n",
      "l\n",
      "o\n"
     ]
    }
   ],
   "source": [
    "word = iter(\"hello\")\n",
    "for i in word:\n",
    "    print(i)\n"
   ]
  },
  {
   "cell_type": "code",
   "execution_count": 121,
   "id": "6c5874fe",
   "metadata": {},
   "outputs": [
    {
     "data": {
      "text/plain": [
       "'default value'"
      ]
     },
     "execution_count": 121,
     "metadata": {},
     "output_type": "execute_result"
    }
   ],
   "source": [
    "next(word, \"default value\")  "
   ]
  },
  {
   "cell_type": "markdown",
   "id": "ac75df51",
   "metadata": {},
   "source": [
    "### 질문\n",
    "그러면 처음부터 이터레이터로 객체를 만들지   \n",
    "   \n",
    "   \n",
    "왜 이터러블을 따로 이터레이터와 구분한걸까?\n"
   ]
  },
  {
   "cell_type": "markdown",
   "id": "56b5ec45",
   "metadata": {},
   "source": [
    "### 내가 생각한 답   \n",
    "1. 어떤 객체가 이터러블인지 아닌지를 파이썬 내부적으로 검사하기 위해 __iter__와 __next__를 구분한 것 같다    \n",
    "2. 시퀀스인 이터러블이 있을 수 있으므로, 그리고 이터러블이지만 이터레이터가 아닌 것도 있으므로\n",
    "   \n",
    "        시퀀스(sequence) : __len__ 과 __getitem__메서드가 있으면 시퀀스다.\n",
    "\n",
    "        (0번 인덱스부터 한번에 하나씩 차례로 가져올 수 있으면 반복이 가능하다)\n",
    "\n",
    "        리스트는 이터러블이지만 이터레이터가 아니다. __next__ 가 없으므로. \n",
    "        리스트는 시퀀스이기도 하다. __len__, __getitem__이 있으므로 "
   ]
  },
  {
   "cell_type": "markdown",
   "id": "bb2eeb40",
   "metadata": {},
   "source": [
    "\n",
    "    \n",
    "       어떤 객체를 반복하려고 할때 파이썬은 해당 객체의 iter() 함수를 호출한다.   \n",
    "       이 함수가 처음 하는 일은 해당 객체에 __iter__ 메서드가 있는지 확인하는 것이다.   \n",
    "       있으면 __iter__메서드를 실행한다(그 결과 이터레이터가 생성된다) \n",
    "       (없으면 __getitem__을 찾고 이 경우 인터프리터는 index error 예외가 발생할 떄까지 순서대로 값을 제공한다. \n",
    "       이것은 __iter__가 구현되지 않은 객체에서도 반복이 가능한 시퀀스 객체의 존재를 염두에 둔, 파이썬의 대비책이다. \n",
    "       __len__, __getitem__도 없으면 타입에러를 발생시킨다)   \n",
    "       이런 식으로 이터러블 객체는 이터레이터를 생성하고 이터레이터를 사용해 반복을 한다 "
   ]
  },
  {
   "cell_type": "markdown",
   "id": "039e79d0",
   "metadata": {},
   "source": [
    "정리, 시퀀스도 반복이 가능하지만"
   ]
  },
  {
   "cell_type": "markdown",
   "id": "6740d4fc",
   "metadata": {},
   "source": [
    "\n",
    "### 기본적으로 반복을 위한 객체를 디자인 할 때는 __iter__메서드를 구현해 정식 이터러블 객체를 만들어야 한다"
   ]
  },
  {
   "cell_type": "markdown",
   "id": "d16fbcb0",
   "metadata": {},
   "source": [
    "    결국 for문에 리스트(이터러블 객체)를 넣고 돌렸을 때 \n",
    "    for문이 하는 일은\n",
    "    iter() 함수를 써서 이터러블을 이터레이터로 바꿔준 다음 \n",
    "    next() 함수를 써서 이터레이터에서 값을 차례대로 꺼내 보여주고\n",
    "    마지막 값을 넘어서면 StopIteration 을 발생시켜 반복을 끝내는 것이다"
   ]
  },
  {
   "cell_type": "code",
   "execution_count": 193,
   "id": "48235d01",
   "metadata": {},
   "outputs": [
    {
     "data": {
      "image/png": "[encoded data removed]",
      "text/plain": [
       "<IPython.core.display.Image object>"
      ]
     },
     "execution_count": 193,
     "metadata": {
      "image/png": {
       "height": 400,
       "width": 800
      }
     },
     "output_type": "execute_result"
    }
   ],
   "source": [
    "Image(\"g2.png\", height = 400, width = 800)"
   ]
  },
  {
   "cell_type": "markdown",
   "id": "074ca373",
   "metadata": {},
   "source": [
    "\n",
    "\n",
    "    즉 반복연산의 핵심은 객체가 __iter__와 __next__를 가졌느냐에 있다.\n",
    "    이를 바꿔 말하면\n",
    "    그 객체는 파이썬의 \"이터레이터(이터러블) 프로토콜\"을 따른다고 말한다. \n",
    "    \n",
    "    객체를 반복할수 있는지 확인하기 위해\n",
    "    파이썬은 고수준에서 다음 두 가지를 차례로 검사한다. \n",
    "    \n",
    "    1. 객체가 __next__ 나 __iter__ 중 하나를 포함하는지 여부\n",
    "    2. 객체가 __len__ 과 __getitem__을 모두 가졌는지 여부 (시퀀스 인지 판단)\n",
    "\n",
    "\n"
   ]
  },
  {
   "cell_type": "code",
   "execution_count": 13,
   "id": "847d5699",
   "metadata": {},
   "outputs": [],
   "source": [
    "from datetime import timedelta\n",
    "from datetime import date\n",
    "\n",
    "class DateRangeIterable:\n",
    "    \"\"\"자체 이터러블 메서드를 가지고 있는 이터러블 객체다.\"\"\"\n",
    "\n",
    "    def __init__(self, start_date, end_date):\n",
    "        self.start_date = start_date\n",
    "        self.end_date = end_date\n",
    "        self._present_day = start_date\n",
    "\n",
    "    def __iter__(self):\n",
    "        return self                  # 여기서 __iter__메서드는 객체 자체를 반환한다. 즉 여기서 이터레이터는 객체 자기자신이란 소리다.\n",
    "                                     # 상기 이터러블의 정의에서 \"이터러블은 자기 안에 이터레이터를 가지고 있거나 자신이 시퀀스여야 한다\" 참고\n",
    "                                       \n",
    "    def __next__(self):\n",
    "        if self._present_day >= self.end_date:\n",
    "            raise StopIteration\n",
    "        today = self._present_day\n",
    "        self._present_day += timedelta(days=1)\n",
    "        return today"
   ]
  },
  {
   "cell_type": "code",
   "execution_count": 85,
   "id": "1aeb4e38",
   "metadata": {},
   "outputs": [
    {
     "data": {
      "text/plain": [
       "'2019-01-01,2019-01-02,2019-01-03,2019-01-04'"
      ]
     },
     "execution_count": 85,
     "metadata": {},
     "output_type": "execute_result"
    }
   ],
   "source": [
    "iter1 = DateRangeIterable(date(2019, 1, 1), date(2019, 1, 5)) # 이렇게 만든 이터레이터는 \n",
    "                                                             \n",
    "\",\".join(map(str, iter1))    # 자신이 다른 함수의 인자로 호출될 때마다 자신을 소모한다."
   ]
  },
  {
   "cell_type": "code",
   "execution_count": 86,
   "id": "352aef25",
   "metadata": {},
   "outputs": [
    {
     "ename": "ValueError",
     "evalue": "max() arg is an empty sequence",
     "output_type": "error",
     "traceback": [
      "\u001b[1;31m---------------------------------------------------------------------------\u001b[0m",
      "\u001b[1;31mValueError\u001b[0m                                Traceback (most recent call last)",
      "\u001b[1;32m<ipython-input-86-e668222a313f>\u001b[0m in \u001b[0;36m<module>\u001b[1;34m\u001b[0m\n\u001b[1;32m----> 1\u001b[1;33m \u001b[0mmax\u001b[0m\u001b[1;33m(\u001b[0m\u001b[0miter1\u001b[0m\u001b[1;33m)\u001b[0m  \u001b[1;31m# 반복이 끝나면 자신을 다 소모해버려서 더이상 처음부터 다시 반복할 수 없게 된다\u001b[0m\u001b[1;33m\u001b[0m\u001b[1;33m\u001b[0m\u001b[0m\n\u001b[0m",
      "\u001b[1;31mValueError\u001b[0m: max() arg is an empty sequence"
     ]
    }
   ],
   "source": [
    "max(iter1)  # 반복이 끝나면 자신을 다 소모해버려서 더이상 처음부터 다시 반복할 수 없게 된다 "
   ]
  },
  {
   "cell_type": "markdown",
   "id": "0bf82b38",
   "metadata": {},
   "source": [
    "여기서 우리가 캐치해야할 포인트는   \n",
    "\n",
    "    1. \n",
    "    이터레이터는 우리가 값을 요청할때까지 유휴상태인 게으른 팩토리처럼 보인다는 것이다.   \n",
    "    즉 next()로 호출하면 하나의 값을 생성한 후 유휴 상태가 되고   \n",
    "    다시 next()로 호출하면 다음 값을 생성한 후 다시 유휴 상태가 되는...\n",
    "    \n",
    "    2. next()를 통해 이터레이터가 자신을 다 소비해버리면 더이상 반복을 할 수 없다는 것"
   ]
  },
  {
   "cell_type": "code",
   "execution_count": null,
   "id": "53c15738",
   "metadata": {},
   "outputs": [],
   "source": []
  },
  {
   "cell_type": "markdown",
   "id": "76be09c7",
   "metadata": {},
   "source": [
    "따라서 같은 내용을 다시 반복하려면   \n",
    "반복할 이터러블 객체로부터 매번 새로운 인스턴스를 만들어 새로운 이터레이터를 만들면 된다"
   ]
  },
  {
   "cell_type": "code",
   "execution_count": null,
   "id": "e369cec2",
   "metadata": {},
   "outputs": [],
   "source": []
  },
  {
   "cell_type": "markdown",
   "id": "83aeeb9d",
   "metadata": {},
   "source": [
    "### 그런데 이렇게 하는 대신 __iter__에서 제너레이터를 사용할 수도 있다.\n",
    "이게 무슨 말이냐면"
   ]
  },
  {
   "cell_type": "code",
   "execution_count": null,
   "id": "9c254568",
   "metadata": {},
   "outputs": [],
   "source": [
    "위에서 itrable을 설명할 때   \n",
    "\"이터러블은 자기 안에 이터레이터를 가지고 있거나 (바꿔 말하면, __iter__()메서드는 반드시 이터레이터를 반환해야 한다) 자신이 시퀀스여야 한다\" \n",
    "고 말했다.\n",
    "\n",
    "제너레이터는 이터레이터이므로 \n",
    "어떤 객체의 __iter__() 가 제너레이터를 반환해도 (이터레이터를 반환하는 게 되므로)\n",
    "이터러블은 그대로 유지된다는 것이다\n",
    "\n",
    "바꿔 말하면\n",
    "이터레이터 프로토콜을 구현한 새로운 컨테이너 클래스를 제공하는 것이다\n",
    "\n",
    "아래 예시를 보자."
   ]
  },
  {
   "cell_type": "markdown",
   "id": "1ca40f0d",
   "metadata": {},
   "source": [
    "# 제너레이터 만들기"
   ]
  },
  {
   "cell_type": "markdown",
   "id": "6c52b874",
   "metadata": {},
   "source": [
    "# 제너레이터 개요\n",
    "# 제너레이터 표현식"
   ]
  },
  {
   "cell_type": "code",
   "execution_count": 217,
   "id": "8b26814c",
   "metadata": {},
   "outputs": [],
   "source": [
    "from datetime import timedelta\n",
    "from datetime import date\n",
    "\n",
    "class DateRangeContainerIterable:\n",
    "    \"\"\"An range that builds its iteration through a generator.\"\"\"\n",
    "\n",
    "    def __init__(self, start_date, end_date):\n",
    "        self.start_date = start_date\n",
    "        self.end_date = end_date\n",
    "\n",
    "    def __iter__(self):\n",
    "        current_day = self.start_date\n",
    "        while current_day < self.end_date:\n",
    "            yield current_day                # 앞서 제너레이터는 yield를 써서 만든다고 했다. __iter__가 제너레이터를 생성하고 있다. \n",
    "            current_day += timedelta(days=1)                                         # 다시 말해 여기서 __iter__는 제너레이터 함수다"
   ]
  },
  {
   "cell_type": "code",
   "execution_count": 218,
   "id": "923e8ed3",
   "metadata": {},
   "outputs": [
    {
     "data": {
      "text/plain": [
       "'2019-01-01,2019-01-02,2019-01-03,2019-01-04'"
      ]
     },
     "execution_count": 218,
     "metadata": {},
     "output_type": "execute_result"
    }
   ],
   "source": [
    "iter2 = DateRangeContainerIterable(date(2019, 1, 1), date(2019, 1, 5)) \n",
    "                                                             \n",
    "\",\".join(map(str, iter2))    # iter2 인스턴스를 map을 써서 반복할 때  __iter__가 호출되어 제너레이터를 생성한다. \n",
    "                                                                                   # (i.e. 이터레이터 객체를 만든다)\n",
    "                                                                              "
   ]
  },
  {
   "cell_type": "code",
   "execution_count": 219,
   "id": "d4790294",
   "metadata": {},
   "outputs": [
    {
     "data": {
      "text/plain": [
       "datetime.date(2019, 1, 4)"
      ]
     },
     "execution_count": 219,
     "metadata": {},
     "output_type": "execute_result"
    }
   ],
   "source": [
    "max(iter2)  # 우리는 제너레이터를 사용하고 있기 때문에 \n",
    "            # 또다른 반복을 해도 (여기선 max 함수가 다시 자신의 인자로 들어온 이터러블을 이터레이션한다) __iter__가 호출되어\n",
    "            # __iter__는 다시 제너레이터를 생성해 반복이 계속 가능해진다"
   ]
  },
  {
   "cell_type": "markdown",
   "id": "522e1158",
   "metadata": {},
   "source": [
    "### 즉 위 두 함수(map, max) 에서 생성된 두 이터레이터는 독립적으로 진행되고 소진되는 것이다!\n",
    "이 접근법의 유일한 단점은 입력 데이터를 여러 번 읽는다는 것이다"
   ]
  },
  {
   "cell_type": "code",
   "execution_count": null,
   "id": "a9947110",
   "metadata": {},
   "outputs": [],
   "source": []
  },
  {
   "cell_type": "markdown",
   "id": "623fbb6d",
   "metadata": {},
   "source": [
    "### 위와 형태의 객체를 컨테이너 이터러블이라고 한다   \n",
    "### 일반적으로 제너레이터를 사용할 때는 위와 같이 컨테이너 이터러블을 사용하면 유용하다.\n",
    "   \n",
    "\n",
    "      \n",
    "      \n",
    "그런데 단지 이터레이터로 제너레이터를 쓰기 때문에   \n",
    "반복이 계속 가능해서만 유용한건 아니다!"
   ]
  },
  {
   "cell_type": "markdown",
   "id": "c24363b6",
   "metadata": {},
   "source": [
    "먼저 이터러블과 시퀀스를 비교하여 이터레이터의 장점을 살펴보고,   \n",
    "이터레이터와 제너레이터를 비교하여 제너레이터의 장점을 살펴보자"
   ]
  },
  {
   "cell_type": "markdown",
   "id": "f130fd83",
   "metadata": {},
   "source": [
    "    우선 이터레이터의 장점은 메모리를 적게 사용한다는 것이다.\n",
    "    위의 DateRangeIterable 예에선 한번의 하나의 날짜만 보관하고\n",
    "    한번에 하나씩 날짜를 생성하기 때문이다. \n",
    "    그러나 n번째 요소에 도달하기 위해선 n번 반복해야 하므로 메모리와 CPU사이에 트레이드 오프가 있게 된다\n",
    "    반면 시퀀스를 사용하면 모든 걸 한번에 보관하므로 더 많은 메모리가 사용되지만 인덱싱의 시간복잡도는 상수시간에 가능해진다"
   ]
  },
  {
   "cell_type": "markdown",
   "id": "4f69f09b",
   "metadata": {},
   "source": [
    "    그런데   \n",
    "    이터레이터는 시퀀스처럼 모든 값을 한번에 저장하고 있진 않지만 \n",
    "    (다시 말해 원하는 값을 차례대로 만들어 낼 수 있는 개별적인 동작이라는 점에서 여전히 시퀀스보다 메모리에 이점이 있지만)\n",
    "    어쨌든 얻어낸 모든 값들을 메모리에 올릴 땐 한번에 적재 시켜야 한다."
   ]
  },
  {
   "cell_type": "markdown",
   "id": "5dc77a34",
   "metadata": {},
   "source": [
    "    반면\n",
    "    제너레이터는 yield가 한번 호출되면 (서브루틴인)함수가 잠시 대기 상태에 들어가고\n",
    "    (메인루틴으로)결과값을 반환한 후 \n",
    "    다시 함수로 돌아와 다시 yield를 만나면 함수가 다시 대기 상태에 들어가고\n",
    "    결과값을 반환한 후\n",
    "    다시 함수로 돌아오는 식으로 작동하므로   \n",
    "### 결과적으로 메모리에 값을 하나씩 적재하게 되어 시퀀스와 이터레이터의 메모리 이슈를 해결할 수 있다!!!  "
   ]
  },
  {
   "cell_type": "markdown",
   "id": "f9f76c1b",
   "metadata": {},
   "source": [
    "구체적인 예시는 다음과 같다"
   ]
  },
  {
   "cell_type": "code",
   "execution_count": 203,
   "id": "41ad07c9",
   "metadata": {},
   "outputs": [
    {
     "data": {
      "text/plain": [
       "generator"
      ]
     },
     "execution_count": 203,
     "metadata": {},
     "output_type": "execute_result"
    }
   ],
   "source": [
    "from itertools import islice\n",
    "\n",
    "def fib():\n",
    "     prev, curr = 0, 1\n",
    "     while True:\n",
    "         yield curr\n",
    "         prev, curr = curr, prev + curr\n",
    "\n",
    "f = fib()  # f가 호출될 때 제너레이터가 인스턴스화 되어 반환된다. \n",
    "           # 이 상태에선 아무런 코드도 실행되지 않는다. 즉 제너레이터는 초기에 유휴상태에서 시작한다.\n",
    "list(islice(f, 0, 10))             # 좀더 명확하게는 prev, curr = 0, 1 코드는 아직 실행되지 않은상태다.\n",
    "type(f)"
   ]
  },
  {
   "cell_type": "code",
   "execution_count": 204,
   "id": "565db40e",
   "metadata": {},
   "outputs": [
    {
     "data": {
      "text/plain": [
       "[1, 1, 2, 3, 5, 8, 13, 21, 34, 55]"
      ]
     },
     "execution_count": 204,
     "metadata": {},
     "output_type": "execute_result"
    }
   ],
   "source": [
    "list(islice(f, 0, 10))  # 여기서 f(제너레이터 인스턴스)는 islice로 래핑돼 있는데 islice 또한 이터레이터이므로 아직까지 유휴상태다.\n",
    "                        # 그리고 이들은 다시 리스트로 래핑돼있는데 바로 여기서부터 리스트 객체는 자신의 인자들(islice, f)을 모두 소비해 리스트를 만들어낸다\n",
    "                        # 구체적으로 말하면 리스트는 islice() 인스턴스에서 next()를 호출하기 시작하며\n",
    "                        # 또한 islice는 f 인스턴스에서 next()를 호출하는 것이다. "
   ]
  },
  {
   "cell_type": "markdown",
   "id": "3b4317e6",
   "metadata": {},
   "source": [
    "위 함수의 코드가 실행되는 매 스텝을 설명하면 다음과 같다.   \n",
    " \n",
    " 1.\n",
    " \n",
    "    첫번째 호출시 prev, curr = 0, 1이 실행되고, \n",
    "    while True 루프에 들어가 yield curr 구문을 만난다. 여기서 현재 curr 변수에 저장된 값을 생성하고 난 후 유휴상태로 들어간다. "
   ]
  },
  {
   "cell_type": "markdown",
   "id": "86beb075",
   "metadata": {},
   "source": [
    "2.\n",
    "\n",
    "    curr에 저장된 값은 islice() 래퍼에 전달되어 생성되고, 이제 리스트 객체는 값1을 리스트에 추가한다. \n",
    "    이제 다시 리스트는 다음 값을 islice()에 요청하고 islice()는 f에게 다음값을 요청한다\n"
   ]
  },
  {
   "cell_type": "markdown",
   "id": "8a4d2c97",
   "metadata": {},
   "source": [
    " 3.\n",
    " \n",
    " \n",
    "    이때 제너레이터 f의 유휴상태가 풀리면서 prev, curr = curr, prev + curr 코드를 실행한다. \n",
    "    그리고 다시 while loop에 재진입해 yield curr 구문을 만나 업데이트 된 값을 반환하고 다시 유휴상태로 들어간다.\n",
    "    \n",
    "    이 과정이 10번 반복되고나면 \n",
    "    리스트는 islice()에 11번째 값을 요청할 텐데\n",
    "    islice()는 StopIteration 예외를 발생시키고(인자로 끝 인덱스를 10으로 줬으므로)\n",
    "    리스트는 결과값을 반환한다."
   ]
  },
  {
   "cell_type": "markdown",
   "id": "a0f2980b",
   "metadata": {},
   "source": [
    "좀 더 구체적인 예시"
   ]
  },
  {
   "cell_type": "code",
   "execution_count": null,
   "id": "da904f33",
   "metadata": {},
   "outputs": [],
   "source": [
    "제너레이터의 타입은 두가지가 있다. 지금까지 살펴본 \"제너레이터 함수\" 와 \"제너레이터 표현식\" 이다\n",
    "제너레이터 함수는 yield 키워드를 포함한 모든 함수를 말한다고 했다\n",
    "제너레이터 표현식은 리스트 컴프리헨션과 동일한 제너레이터다.\n",
    "\n",
    "아래는 제너레이터 표현식을 써서 이터레이터와 제너레이터의 차이를 보여주는 코드 예시다.\n",
    "\n",
    "# cf) 제너레이터 표현식을 제너레이터 컴프리헨션으로 불러야한다는 주장도 있다 한다.\n",
    "# 제너레이터에 대해서만 유독 제너레이터 표현식이라 부른다고 한다"
   ]
  },
  {
   "cell_type": "code",
   "execution_count": 207,
   "id": "5468f1cf",
   "metadata": {},
   "outputs": [],
   "source": [
    "sample_list2 = [\"a\", \"b\", \"c\", \"d\"]"
   ]
  },
  {
   "cell_type": "code",
   "execution_count": 208,
   "id": "b276a075",
   "metadata": {},
   "outputs": [
    {
     "name": "stdout",
     "output_type": "stream",
     "text": [
      "일반 이터레이터 :\n",
      "sleep 1s\n",
      "sleep 1s\n",
      "sleep 1s\n",
      "sleep 1s\n",
      "a\n",
      "b\n",
      "c\n",
      "d\n",
      "제너레이터 :\n",
      "sleep 1s\n",
      "a\n",
      "sleep 1s\n",
      "b\n",
      "sleep 1s\n",
      "c\n",
      "sleep 1s\n",
      "d\n"
     ]
    }
   ],
   "source": [
    "import time\n",
    "\n",
    "def print_iter(iter):\n",
    "    for element in iter:\n",
    "        print(element)\n",
    "        \n",
    "def lazy_return(num):\n",
    "    print(\"sleep 1s\")\n",
    "    time.sleep(1)\n",
    "    return num\n",
    "\n",
    "print(\"일반 이터레이터 :\")\n",
    "list_comprehension = [lazy_return(i) for i in sample_list2]  # 13번 코드를 다 수행하고                 \n",
    "print_iter(list_comprehension)                               # 14번 코드를 수행한다. \n",
    "                                        # 바꿔 말하면 리스트를 먼저 다 생성한 다음 (생성과 동시에 메모리에 올라가며)\n",
    "                                        # 그리고 그 리스트를 출력한다 \n",
    "        \n",
    "\n",
    "print(\"제너레이터 :\")\n",
    "generator_expression = (lazy_return(i) for i in sample_list2)  # 20번 코드를 수행해서 서브루틴을 만들고\n",
    "print_iter(generator_expression)                               # 21번 코드를 수행해서 메인루틴을 만든다 \n",
    "                                                               # 20번, 21번 코드를 왔다갔다 수행한다.\n",
    "                                        # 바꿔 말하면 제너레이터 인스턴스가 만들어진 다음 sample_list2의 첫번째 원소가 yield되고 유휴상태에 들어가면\n",
    "                                        # print_iter는 첫번째 원소를 출력후 다음 원소를 요청하고 이 요청이 다시 제너레이터의 유휴상태를 풀어 \n",
    "                                        # 다음 두번째 원소를 반환하게 한 다음 이 과정이 반복."
   ]
  },
  {
   "cell_type": "code",
   "execution_count": 9,
   "id": "38d4d453",
   "metadata": {},
   "outputs": [
    {
     "name": "stdout",
     "output_type": "stream",
     "text": [
      "1\n",
      "2\n",
      "13\n"
     ]
    }
   ],
   "source": [
    "a = set()\n",
    "a.add(1)\n",
    "a.add(2)\n",
    "a.add(13)\n",
    "for i in a:\n",
    "    print(i)"
   ]
  },
  {
   "cell_type": "code",
   "execution_count": 13,
   "id": "da807d65",
   "metadata": {},
   "outputs": [
    {
     "data": {
      "text/plain": [
       "itertools.islice"
      ]
     },
     "execution_count": 13,
     "metadata": {},
     "output_type": "execute_result"
    }
   ],
   "source": [
    "from itertools import islice\n",
    "a = [1, 2, 3, 4]\n",
    "type(islice(a, 1, 2))\n"
   ]
  },
  {
   "cell_type": "code",
   "execution_count": 15,
   "id": "9c262fc6",
   "metadata": {},
   "outputs": [
    {
     "data": {
      "text/plain": [
       "[1, 2, 3, 4, 5, 6, 7, 8, 9]"
      ]
     },
     "execution_count": 15,
     "metadata": {},
     "output_type": "execute_result"
    }
   ],
   "source": [
    "a = (i for i in range(1, 10))\n",
    "list(a)"
   ]
  },
  {
   "cell_type": "code",
   "execution_count": 14,
   "id": "799f5a66",
   "metadata": {},
   "outputs": [
    {
     "data": {
      "text/plain": [
       "[1, 2, 3, 4, 5, 6, 7, 8, 9]"
      ]
     },
     "execution_count": 14,
     "metadata": {},
     "output_type": "execute_result"
    }
   ],
   "source": [
    "list(range(1, 10))"
   ]
  },
  {
   "cell_type": "code",
   "execution_count": 43,
   "id": "1268b845",
   "metadata": {},
   "outputs": [
    {
     "data": {
      "text/plain": [
       "['a', 'b', 'c', 'd']"
      ]
     },
     "execution_count": 43,
     "metadata": {},
     "output_type": "execute_result"
    }
   ],
   "source": [
    "list_comprehension"
   ]
  },
  {
   "cell_type": "code",
   "execution_count": 44,
   "id": "b39691ed",
   "metadata": {},
   "outputs": [
    {
     "data": {
      "text/plain": [
       "<generator object <genexpr> at 0x0000021219932EB0>"
      ]
     },
     "execution_count": 44,
     "metadata": {},
     "output_type": "execute_result"
    }
   ],
   "source": [
    "generator_expression  # 제너레이터 표현식은 즉시 이터레이터로 평가되어 next함수를 사용해 값을 얻어와야 한다"
   ]
  },
  {
   "cell_type": "markdown",
   "id": "a3774e88",
   "metadata": {},
   "source": [
    "### 제너레이터도 결국 이터레이터라는 것을 보여주는 예시"
   ]
  },
  {
   "cell_type": "markdown",
   "id": "8b06dcbe",
   "metadata": {},
   "source": [
    "제너레이터는 이터레이터이므로   \n",
    "이터레이터와 마찬가지로 __iter__() 와 __next__()를 구현한다   \n",
    "따라서 next() 함수를 제너레이터 객체에 사용하면 다음 요소로 반복 또는 이동이 가능해진다   \n",
    "   \n"
   ]
  },
  {
   "cell_type": "code",
   "execution_count": 46,
   "id": "66eefe3e",
   "metadata": {},
   "outputs": [],
   "source": [
    "generator_expression = (lazy_return(i) for i in sample_list2) "
   ]
  },
  {
   "cell_type": "code",
   "execution_count": 47,
   "id": "0efa8f83",
   "metadata": {},
   "outputs": [
    {
     "data": {
      "text/plain": [
       "generator"
      ]
     },
     "execution_count": 47,
     "metadata": {},
     "output_type": "execute_result"
    }
   ],
   "source": [
    "type(generator_expression)"
   ]
  },
  {
   "cell_type": "code",
   "execution_count": 70,
   "id": "372c08c3",
   "metadata": {},
   "outputs": [
    {
     "data": {
      "text/plain": [
       "['__class__',\n",
       " '__del__',\n",
       " '__delattr__',\n",
       " '__dir__',\n",
       " '__doc__',\n",
       " '__eq__',\n",
       " '__format__',\n",
       " '__ge__',\n",
       " '__getattribute__',\n",
       " '__gt__',\n",
       " '__hash__',\n",
       " '__init__',\n",
       " '__init_subclass__',\n",
       " '__iter__',\n",
       " '__le__',\n",
       " '__lt__',\n",
       " '__name__',\n",
       " '__ne__',\n",
       " '__new__',\n",
       " '__next__',\n",
       " '__qualname__',\n",
       " '__reduce__',\n",
       " '__reduce_ex__',\n",
       " '__repr__',\n",
       " '__setattr__',\n",
       " '__sizeof__',\n",
       " '__str__',\n",
       " '__subclasshook__',\n",
       " 'close',\n",
       " 'gi_code',\n",
       " 'gi_frame',\n",
       " 'gi_running',\n",
       " 'gi_yieldfrom',\n",
       " 'send',\n",
       " 'throw']"
      ]
     },
     "execution_count": 70,
     "metadata": {},
     "output_type": "execute_result"
    }
   ],
   "source": [
    "dir(generator_expression)  # __iter__, __next__ 가 있다."
   ]
  },
  {
   "cell_type": "code",
   "execution_count": 48,
   "id": "722fc64a",
   "metadata": {},
   "outputs": [
    {
     "name": "stdout",
     "output_type": "stream",
     "text": [
      "sleep 1s\n"
     ]
    },
    {
     "data": {
      "text/plain": [
       "'a'"
      ]
     },
     "execution_count": 48,
     "metadata": {},
     "output_type": "execute_result"
    }
   ],
   "source": [
    "next(generator_expression)"
   ]
  },
  {
   "cell_type": "code",
   "execution_count": 49,
   "id": "00e9912c",
   "metadata": {},
   "outputs": [
    {
     "name": "stdout",
     "output_type": "stream",
     "text": [
      "sleep 1s\n"
     ]
    },
    {
     "data": {
      "text/plain": [
       "'b'"
      ]
     },
     "execution_count": 49,
     "metadata": {},
     "output_type": "execute_result"
    }
   ],
   "source": [
    "next(generator_expression)"
   ]
  },
  {
   "cell_type": "code",
   "execution_count": 50,
   "id": "3e842ec2",
   "metadata": {},
   "outputs": [
    {
     "name": "stdout",
     "output_type": "stream",
     "text": [
      "sleep 1s\n"
     ]
    },
    {
     "data": {
      "text/plain": [
       "'c'"
      ]
     },
     "execution_count": 50,
     "metadata": {},
     "output_type": "execute_result"
    }
   ],
   "source": [
    "next(generator_expression)"
   ]
  },
  {
   "cell_type": "code",
   "execution_count": 51,
   "id": "a7eee7b0",
   "metadata": {},
   "outputs": [
    {
     "name": "stdout",
     "output_type": "stream",
     "text": [
      "sleep 1s\n"
     ]
    },
    {
     "data": {
      "text/plain": [
       "'d'"
      ]
     },
     "execution_count": 51,
     "metadata": {},
     "output_type": "execute_result"
    }
   ],
   "source": [
    "next(generator_expression)"
   ]
  },
  {
   "cell_type": "code",
   "execution_count": 52,
   "id": "f8fc014a",
   "metadata": {},
   "outputs": [
    {
     "ename": "StopIteration",
     "evalue": "",
     "output_type": "error",
     "traceback": [
      "\u001b[1;31m---------------------------------------------------------------------------\u001b[0m",
      "\u001b[1;31mStopIteration\u001b[0m                             Traceback (most recent call last)",
      "\u001b[1;32m<ipython-input-52-f41e49914669>\u001b[0m in \u001b[0;36m<module>\u001b[1;34m\u001b[0m\n\u001b[1;32m----> 1\u001b[1;33m \u001b[0mnext\u001b[0m\u001b[1;33m(\u001b[0m\u001b[0mgenerator_expression\u001b[0m\u001b[1;33m)\u001b[0m\u001b[1;33m\u001b[0m\u001b[1;33m\u001b[0m\u001b[0m\n\u001b[0m",
      "\u001b[1;31mStopIteration\u001b[0m: "
     ]
    }
   ],
   "source": [
    "next(generator_expression)"
   ]
  },
  {
   "cell_type": "markdown",
   "id": "07ce2ea3",
   "metadata": {},
   "source": [
    "    헷갈리지 말아야 할 것이 제너레이터는 \"이터레이터이기도 하기\" 때문에 next()로 값을 꺼낼 수 있는 것이고\n",
    "    원소를 모두 소비했을 때 StopIteration 예외가 일어나는 것이다.\n",
    "    제너레이터를 사용해 이터레이터 프로토콜을 따르는 이터러블 객체를 만들면 위 문제는 해소된다"
   ]
  },
  {
   "cell_type": "markdown",
   "id": "1c5f4e1c",
   "metadata": {},
   "source": [
    "정리,\n",
    "\n",
    "    제너레이터를 쓰면 입력길이가 아무리 길어도 일단 반환되는건 이터레이터 이므로 \n",
    "    이터레이터를 돌려야만 메모리를 먹게 되어 메모리 관리가 좋아진다.\n",
    "    데이터 사이즈가 매우 크면 한번에 메모리에 올릴 수 없지만\n",
    "    차례차례 나눠서 올리면 (lazy computation / lazy evaluation / lazy loading) \n",
    "    메모리 할당량이 적어져 부담을 줄일 수 있다."
   ]
  },
  {
   "cell_type": "markdown",
   "id": "87c5d817",
   "metadata": {},
   "source": [
    "따라서\n",
    "\n",
    "    항상 리스트 컴프리헨션 대신에 제너레이터 표현식을 사용해서   \n",
    "    min(), max(), sum() 같은 이터러블 연산함수에 전달하라   \n",
    "    이것이 파이써닉하고 더 효율적인 방식이다"
   ]
  },
  {
   "cell_type": "code",
   "execution_count": null,
   "id": "03c57385",
   "metadata": {},
   "outputs": [],
   "source": []
  },
  {
   "cell_type": "markdown",
   "id": "4b836e90",
   "metadata": {},
   "source": [
    "## 제너레이터를 사용할 때의 장점은 메모리 이슈 뿐만 아니라\n",
    "## 더 간결하고 직관적인 코딩이 된다는 점도 있다"
   ]
  },
  {
   "cell_type": "code",
   "execution_count": 67,
   "id": "e023727e",
   "metadata": {},
   "outputs": [
    {
     "name": "stdout",
     "output_type": "stream",
     "text": [
      "[0, 8, 18, 23, 28, 38]\n"
     ]
    }
   ],
   "source": [
    "text = '컴퓨터(영어: Computer, 문화어: 콤퓨터, 순화어:전산기)는 진공관'\n",
    "\n",
    "def index_words(text):\n",
    "    result = []\n",
    "    if text:\n",
    "        result.append(0)  # 맨 처음 단어의 시작 인덱스 0 추가 \n",
    "        \n",
    "    for index, letter in enumerate(text):\n",
    "        if letter == ' ':\n",
    "            result.append(index+1)   # 시퀀스에서 각 단어의 시작 인덱스를 모은다.\n",
    "    return result\n",
    "\n",
    "result = index_words(address)\n",
    "print(result)"
   ]
  },
  {
   "cell_type": "code",
   "execution_count": 68,
   "id": "ff740537",
   "metadata": {},
   "outputs": [
    {
     "name": "stdout",
     "output_type": "stream",
     "text": [
      "0\n",
      "8\n"
     ]
    }
   ],
   "source": [
    "def index_words_iter(text):\n",
    "    if text:\n",
    "        yield 0                 # 제너레이터는 yield식을 사용하는 함수에 의해 만들어진다.\n",
    "    for index, letter in enumerate(text):            \n",
    "        if letter == ' ':\n",
    "            yield index + 1      \n",
    "\n",
    "it = index_words_iter(address)  \n",
    "print(next(it))\n",
    "print(next(it))\n"
   ]
  },
  {
   "cell_type": "code",
   "execution_count": null,
   "id": "861eed67",
   "metadata": {},
   "outputs": [],
   "source": []
  },
  {
   "cell_type": "markdown",
   "id": "c8c567fd",
   "metadata": {},
   "source": [
    "## 제너레이터와 itertools 라이브러리를 같이 사용하면 매우 효과적인 코딩을 할 수 있다"
   ]
  },
  {
   "cell_type": "code",
   "execution_count": null,
   "id": "5998b660",
   "metadata": {},
   "outputs": [],
   "source": [
    "상기\n",
    "\"\"\"\n",
    "이터레이터의 종류는 굉장히 많으며\n",
    "예컨대 itertools에 있는 모든 함수는 이터레이터를 반환한다\n",
    "참고 https://docs.python.org/ko/3/library/itertools.html\n",
    "\"\"\" \n"
   ]
  },
  {
   "cell_type": "markdown",
   "id": "cea20ca1",
   "metadata": {},
   "source": [
    "### 여러 이터레이터 연결하기"
   ]
  },
  {
   "cell_type": "code",
   "execution_count": 225,
   "id": "d11c66cb",
   "metadata": {},
   "outputs": [],
   "source": [
    "import itertools"
   ]
  },
  {
   "cell_type": "code",
   "execution_count": 226,
   "id": "6a05aa97",
   "metadata": {},
   "outputs": [
    {
     "name": "stdout",
     "output_type": "stream",
     "text": [
      "[1, 2, 3, 4, 5, 6]\n"
     ]
    }
   ],
   "source": [
    "# chain\n",
    "\n",
    "it = itertools.chain([1, 2, 3], [4,5,6])\n",
    "print(list(it))"
   ]
  },
  {
   "cell_type": "code",
   "execution_count": 227,
   "id": "78ef459b",
   "metadata": {},
   "outputs": [
    {
     "name": "stdout",
     "output_type": "stream",
     "text": [
      "['안녕', '안녕', '안녕']\n"
     ]
    }
   ],
   "source": [
    "# repeat\n",
    "\n",
    "it = itertools.repeat('안녕', 3)\n",
    "print(list(it))"
   ]
  },
  {
   "cell_type": "code",
   "execution_count": 228,
   "id": "1d20c393",
   "metadata": {},
   "outputs": [
    {
     "name": "stdout",
     "output_type": "stream",
     "text": [
      "[1, 2, 1, 2, 1, 2, 1, 2, 1, 2]\n"
     ]
    }
   ],
   "source": [
    "# cycle\n",
    "\n",
    "it = itertools.cycle([1, 2])\n",
    "result = [next(it) for _ in range (10)]\n",
    "print(result)"
   ]
  },
  {
   "cell_type": "code",
   "execution_count": 229,
   "id": "db2f2bf2",
   "metadata": {},
   "outputs": [
    {
     "name": "stdout",
     "output_type": "stream",
     "text": [
      "['하나', '둘']\n",
      "['하나', '둘']\n",
      "['하나', '둘']\n"
     ]
    }
   ],
   "source": [
    "\"\"\"\n",
    "tee : 한 이터레이터를 병렬적으로 두 번째 인자로 지정된 개수의 이터레이터로 만들고 싶을 때\n",
    "이 함수로 만들어진 각 이터레이터를 소비하는 속도가 같지 않으면, 처리가 덜 된 이터레이터의 원소를\n",
    "큐에 담아둬야 하므로 메모리 사용량이 늘어난다\n",
    "\"\"\"\n",
    "\n",
    "it1, it2, it3 = itertools.tee(['하나', '둘'], 3)\n",
    "print(list(it1))\n",
    "print(list(it2))\n",
    "print(list(it3))"
   ]
  },
  {
   "cell_type": "code",
   "execution_count": 230,
   "id": "8427f2b6",
   "metadata": {},
   "outputs": [
    {
     "name": "stdout",
     "output_type": "stream",
     "text": [
      "zip: [('하나', 1), ('둘', 2)]\n",
      "zip_longest: [('하나', 1), ('둘', 2), ('셋', '없음')]\n"
     ]
    }
   ],
   "source": [
    "# zip_longest\n",
    "\n",
    "keys = ['하나', '둘', '셋']\n",
    "values = [1, 2]\n",
    "\n",
    "normal = list(zip(keys, values)) # 그냥 zip은 짧은 쪽에 맞춰서 자른다 \n",
    "print('zip:', normal)\n",
    "\n",
    "it = itertools.zip_longest(keys, values, fillvalue='없음') # zip_longest는 긴쪽에 맞춰서 \n",
    "                                                          # fillvalue로 지정한 값을 채워 넣어준다\n",
    "longest = list(it)\n",
    "print('zip_longest:', longest)"
   ]
  },
  {
   "cell_type": "markdown",
   "id": "c46c5f69",
   "metadata": {},
   "source": [
    "### 이터레이터에서 원소 필터링하기"
   ]
  },
  {
   "cell_type": "code",
   "execution_count": 231,
   "id": "d5cd5d9b",
   "metadata": {},
   "outputs": [
    {
     "name": "stdout",
     "output_type": "stream",
     "text": [
      "앞에서 다섯 개: [1, 2, 3, 4, 5]\n",
      "중간의 홀수들: [3, 5, 7]\n"
     ]
    }
   ],
   "source": [
    "# islice : 이터레이터를 복사하지 않으면서 원소 인덱스를 이용해 슬라이싱 하고 싶을 때\n",
    "\n",
    "values = [1, 2, 3, 4, 5, 6, 7, 8, 9, 10]\n",
    "\n",
    "first_five = itertools.islice(values, 5) # 끝값만 지정 \n",
    "print('앞에서 다섯 개:', list(first_five))\n",
    "\n",
    "middle_odds = itertools.islice(values, 2, 8, 2) # 시작값, 끝값, 중간값 \n",
    "print('중간의 홀수들:', list(middle_odds))"
   ]
  },
  {
   "cell_type": "code",
   "execution_count": 232,
   "id": "c051b909",
   "metadata": {},
   "outputs": [
    {
     "name": "stdout",
     "output_type": "stream",
     "text": [
      "[1, 2, 3, 4, 5, 6]\n"
     ]
    }
   ],
   "source": [
    "# takewhile : 이터레이터에서 주어진 술어가 False를 반환하는 첫 원소가 나타날 때까지 원소를 돌려준다.\n",
    "\n",
    "values = [1, 2, 3, 4, 5, 6, 7, 8, 9, 10]\n",
    "less_than_seven = lambda x: x < 7\n",
    "it = itertools.takewhile(less_than_seven, values)\n",
    "print(list(it))"
   ]
  },
  {
   "cell_type": "code",
   "execution_count": 233,
   "id": "228fb203",
   "metadata": {},
   "outputs": [
    {
     "name": "stdout",
     "output_type": "stream",
     "text": [
      "[7, 8, 9, 10]\n"
     ]
    }
   ],
   "source": [
    "\"\"\"\n",
    "dropwhile\n",
    "이터레이터에서 술어가 False를 반환하는 첫 원소를 찾을 때까지 이터레이터의 원소를 건너뛰고\n",
    "즉 술어가 True를 반환하는 동안 원소를 건너뛰고 False를 반환한다.\n",
    "\"\"\"\n",
    "values = [1, 2, 3, 4, 5, 6, 7, 8, 9, 10]\n",
    "less_than_seven = lambda x: x < 7\n",
    "it = itertools.dropwhile(less_than_seven, values)\n",
    "print(list(it))"
   ]
  },
  {
   "cell_type": "code",
   "execution_count": 234,
   "id": "82cc834d",
   "metadata": {},
   "outputs": [
    {
     "name": "stdout",
     "output_type": "stream",
     "text": [
      "Filter: [2, 4, 6, 8, 10]\n",
      "Filter false: [1, 3, 5, 7, 9]\n"
     ]
    }
   ],
   "source": [
    "# filterfalse : 주어진 이터레이터에서 술어가 False를 반환하는 모든 원소를 돌려준다.\n",
    "\n",
    "values = [1, 2, 3, 4, 5, 6, 7, 8, 9, 10]\n",
    "evens = lambda x: x % 2 == 0\n",
    "\n",
    "filter_result = filter(evens, values)\n",
    "print('Filter:', list(filter_result))\n",
    "\n",
    "filter_false_result = itertools.filterfalse(evens, values)\n",
    "print('Filter false:', list(filter_false_result))"
   ]
  },
  {
   "cell_type": "markdown",
   "id": "46ab4982",
   "metadata": {},
   "source": [
    "### 이터레이터에서 특정한 조합 만들어내기"
   ]
  },
  {
   "cell_type": "code",
   "execution_count": 235,
   "id": "f552088b",
   "metadata": {},
   "outputs": [
    {
     "name": "stdout",
     "output_type": "stream",
     "text": [
      "합계: [1, 3, 6, 10, 15, 21, 28, 36, 45, 55]\n",
      "20으로 나눈 나머지의 합계: [1, 3, 6, 10, 15, 1, 8, 16, 5, 15]\n"
     ]
    }
   ],
   "source": [
    "\"\"\"\n",
    "accumulate\n",
    "파라미터를 두개 받는 함수(이항함수)를 반복적용하면서 이터레이터 원소를 값 하나로 줄여준다.\n",
    "이 함수가 돌려주는 이터레이터는 원본 이터레이터의 각 원소에 대해 누적된 결과를 내놓는다\n",
    "\"\"\"\n",
    "\n",
    "values = [1, 2, 3, 4, 5, 6, 7, 8, 9, 10]\n",
    "sum_reduce = itertools.accumulate(values) # 주어진 이터레이터 원소의 누적합\n",
    "print('합계:', list(sum_reduce))\n",
    "\n",
    "def sum_modulo_20(first, second):\n",
    "    output = first + second\n",
    "    return output % 20\n",
    "\n",
    "modulo_reduce = itertools.accumulate(values, sum_modulo_20)\n",
    "# 파라미터를 두개 받는 함수(이항함수)를 \n",
    "print('20으로 나눈 나머지의 합계:', list(modulo_reduce))"
   ]
  },
  {
   "cell_type": "code",
   "execution_count": 236,
   "id": "57fb85b3",
   "metadata": {},
   "outputs": [
    {
     "name": "stdout",
     "output_type": "stream",
     "text": [
      "리스트 한 개: [(1, 1), (1, 2), (2, 1), (2, 2)]\n",
      "리스트 두 개: [(1, 'a'), (1, 'b'), (2, 'a'), (2, 'b')]\n"
     ]
    }
   ],
   "source": [
    "\"\"\"\n",
    "product\n",
    "하나 이상의 이터레이터에 들어 있는 아이템들의 데카르트 곱을 반환한다.\n",
    "리스트 컴프리헨션을 깊이 내포시키는 대신 이 함수를 사용하면 편리하다 \n",
    "\"\"\"\n",
    "single = itertools.product([1, 2], repeat=2)\n",
    "print('리스트 한 개:', list(single))\n",
    "\n",
    "multiple = itertools.product([1, 2], ['a', 'b'])\n",
    "print('리스트 두 개:', list(multiple))"
   ]
  },
  {
   "cell_type": "code",
   "execution_count": 237,
   "id": "323dada4",
   "metadata": {},
   "outputs": [
    {
     "name": "stdout",
     "output_type": "stream",
     "text": [
      "[(1, 2), (1, 3), (1, 4), (2, 1), (2, 3), (2, 4), (3, 1), (3, 2), (3, 4), (4, 1), (4, 2), (4, 3)]\n"
     ]
    }
   ],
   "source": [
    "\"\"\"\n",
    "permutations\n",
    "원본 이터레이터의 원소가 모두 다 다르다고 가정하고 순열을 만들어낸다. \n",
    "만들어지는 원소의 순서는 원소의 실제 값에 의해 결정되지 않고 \n",
    "원래 이터레이터에서 원소 인덱스의 사전식 오름차순으로 결정된다\n",
    "즉 0번째 원소가 최초로 나열된 순열이 더 먼저 나오고, 그 후에 첫 번쨰 원소가 최초인 순열들이 나오는 식이다.\n",
    "따라서 혼란을 방비하려면 원본 이터레이터에서 값이 중복되는 일이 없게 하고 정럴해 사용하라 \n",
    "\"\"\"\n",
    "\n",
    "it = itertools.permutations([1, 2, 3, 4], 2)\n",
    "print(list(it))"
   ]
  },
  {
   "cell_type": "code",
   "execution_count": 238,
   "id": "c41e07af",
   "metadata": {},
   "outputs": [
    {
     "name": "stdout",
     "output_type": "stream",
     "text": [
      "[(1, 2), (1, 3), (1, 4), (2, 3), (2, 4), (3, 4)]\n"
     ]
    }
   ],
   "source": [
    "# combinations : 원본 이터레이터의 원소가 모두 다 다르다고 가정하고 조합을 만들어낸다. \n",
    "\n",
    "it = itertools.combinations([1, 2, 3, 4], 2)\n",
    "print(list(it))"
   ]
  },
  {
   "cell_type": "code",
   "execution_count": 239,
   "id": "420cebc6",
   "metadata": {},
   "outputs": [
    {
     "name": "stdout",
     "output_type": "stream",
     "text": [
      "[(1, 1), (1, 2), (1, 3), (1, 4), (2, 2), (2, 3), (2, 4), (3, 3), (3, 4), (4, 4)]\n"
     ]
    }
   ],
   "source": [
    "# combinations_with_replacement : 원본 이터레이터의 원소가 모두 다 다르다고 가정하고 중복조합을 돌려 준다. \n",
    "\n",
    "it = itertools.combinations_with_replacement([1, 2, 3, 4], 2)\n",
    "print(list(it))"
   ]
  },
  {
   "cell_type": "code",
   "execution_count": null,
   "id": "725de3ef",
   "metadata": {},
   "outputs": [],
   "source": []
  },
  {
   "cell_type": "code",
   "execution_count": null,
   "id": "fc1a264b",
   "metadata": {},
   "outputs": [],
   "source": []
  },
  {
   "cell_type": "markdown",
   "id": "f2a42700",
   "metadata": {},
   "source": [
    "## 마지막으로 제너레이터를 코루틴으로 활용할 수 있다"
   ]
  },
  {
   "cell_type": "code",
   "execution_count": null,
   "id": "9ce35e04",
   "metadata": {},
   "outputs": [],
   "source": [
    "파이썬에서 코루틴은 비동기 프로그래밍 ( 특정 시간에 프로그램을 일시중단하고 다시 시작) 을 목표로 한다   \n",
    "즉 여러 코루틴이 특정 순서로 동작하도록 스케듈링 할 수 있으며   \n",
    "일시 정지된 yield from 코루틴과 통신을 할 수 있다.\n",
    "\n",
    "제너레이터와 코루틴은 문법적으로(기술적으로) 동일하지만 의미적으로는 다르다   \n",
    "효율적인 반복을 원할 때는 제너레이터를 사용하고, 논블로킹 I/O 작업을 원할 때는 코루틴을 사용한다.   \n",
    "\n",
    "# 동기/비동기/블로킹/논블로킹 IO 참고자료 : https://baek-kim-dev.site/38\n",
    "\n",
    "좀더 명확한 분류를 위해   \n",
    "파이썬 3.5 이전에는 yield from 구문을 사용해 코루틴으로 활용했다면   \n",
    "3.5 이후버전 부터는 코루틴이라는 새로운 타입이 추가되었다.\n",
    "새로운 구문으로 await와 async def가 추가되었고   \n",
    "await는 yield from을 대신하기 위한 용도로 awaitable객체에 대해서만 동작한다. (코루틴은 awaitable이다)\n",
    "async def는 코루틴을 정의하는 새로운 방법이다. \n",
    "\n",
    "파이썬에서 비동기 프로그래밍을 한다는 것은 일련의 코루틴을 관리하는 이벤트 루프가 있다는 뜻이다   \n",
    "(이벤트 루프는 표준라이브러리의 asyncio를 뜻한다)   \n",
    "일련의 코루틴들은 이벤트 루프에 속하며, 이벤트 루프의 스케쥴링 메커니즘에 따라 호출된다 \n",
    "\n",
    "각각의 코루틴이 실행되면 사용자가 작성한 내부 코드가 실행되고   \n",
    "다시 이벤트 루프에 제어권을 반납하려면 await <coroutine>을 호출하면 된다   \n",
    "await <coroutine>은 yield처럼 호출자(이벤트 루프)에 제어권을 넘겨줌으로써   \n",
    "이벤트 루프가 작업을 비동기적으로 관리할 수 있게 해준다. "
   ]
  },
  {
   "cell_type": "code",
   "execution_count": null,
   "id": "995289c9",
   "metadata": {},
   "outputs": [],
   "source": []
  },
  {
   "cell_type": "code",
   "execution_count": null,
   "id": "1b66b646",
   "metadata": {},
   "outputs": [],
   "source": [
    "제너레이터를 코루틴으로 쓸 수 있다는게 무슨 말일까?"
   ]
  },
  {
   "cell_type": "code",
   "execution_count": 224,
   "id": "9379ad1b",
   "metadata": {},
   "outputs": [
    {
     "data": {
      "text/plain": [
       "1"
      ]
     },
     "execution_count": 224,
     "metadata": {},
     "output_type": "execute_result"
    }
   ],
   "source": [
    "def generator_func():\n",
    "    yield 1\n",
    "    yield 2\n",
    "    yield 3\n",
    "\n",
    "g = generator_func()\n",
    "\n",
    "next(g)"
   ]
  },
  {
   "cell_type": "code",
   "execution_count": null,
   "id": "bbed85fb",
   "metadata": {},
   "outputs": [],
   "source": [
    "위에서 제너레이터는 자신의 호출자인 next()의 통제를 받는다고 볼 수 있다. \n",
    "즉 제너레이터는 외부에서 실행을 관리할 수 있는 객체처럼 보인다."
   ]
  },
  {
   "cell_type": "code",
   "execution_count": null,
   "id": "9d425d58",
   "metadata": {},
   "outputs": [],
   "source": [
    "from itertools import islice\n",
    "\n",
    "def fib():\n",
    "     prev, curr = 0, 1\n",
    "     while True:\n",
    "         yield curr\n",
    "         prev, curr = curr, prev + curr\n",
    "\n",
    "f = fib() \n",
    "list(islice(f, 0, 10))  # 여기서도 f의 호출자인 islice(), list()는 f를 통제하고 있고 (바꿔말해 f는 리스트에 의해 실행이 관리되고 있고)"
   ]
  },
  {
   "cell_type": "code",
   "execution_count": null,
   "id": "1a346085",
   "metadata": {},
   "outputs": [],
   "source": [
    "import time\n",
    "\n",
    "def print_iter(iter):\n",
    "    for element in iter:\n",
    "        print(element)\n",
    "        \n",
    "def lazy_return(num):\n",
    "    print(\"sleep 1s\")\n",
    "    time.sleep(1)\n",
    "    return num\n",
    "\n",
    "\n",
    "print(\"제너레이터 :\")\n",
    "generator_expression = (lazy_return(i) for i in sample_list2) \n",
    "print_iter(generator_expression)     \n",
    "\n",
    "# 여기서도 generator_expression 은 print_iter에 의해 실행이 통제되고 있다"
   ]
  },
  {
   "cell_type": "code",
   "execution_count": null,
   "id": "9bfb80c4",
   "metadata": {},
   "outputs": [],
   "source": [
    "그렇다면 이런 제너레이터의 성질을 이용해서 \n",
    "어떤 두 함수를 서로 통신하게끔 만들어 볼 수 있지 않을까?\n",
    "\n",
    "더 나아가 복수의 함수들끼리 서로 통신가능하게 할 수 있지 않을까?\n",
    "\n",
    "이게 제너레이터를 활용해 코루틴을 형성할 수 있는 아이디어인것 같다."
   ]
  },
  {
   "cell_type": "code",
   "execution_count": null,
   "id": "d11a031d",
   "metadata": {},
   "outputs": [],
   "source": [
    "yield식을 사용한 제너레이터 함수가 만들어내는 데이터 채널은 단방향이다.\n",
    "다른 데이터를 받아들이게 하려면 어떻게 해야 할까?"
   ]
  },
  {
   "cell_type": "code",
   "execution_count": 35,
   "id": "b0a0e406",
   "metadata": {},
   "outputs": [
    {
     "name": "stdout",
     "output_type": "stream",
     "text": [
      "출력:   0.0\n",
      "출력:   2.1\n",
      "출력:   3.0\n",
      "출력:   2.1\n",
      "출력:   0.0\n",
      "출력:  -2.1\n",
      "출력:  -3.0\n",
      "출력:  -2.1\n"
     ]
    }
   ],
   "source": [
    "import math\n",
    "\n",
    "# 진폭이 3으로 고정된 라디오파를 생성하는 함수\n",
    "def wave1(amplitude, steps):   \n",
    "    step_size = 2 * math.pi / steps\n",
    "    for step in range(steps):\n",
    "        radians = step * step_size\n",
    "        fraction = math.sin(radians)\n",
    "        output = amplitude * fraction\n",
    "        yield output\n",
    "\n",
    "# 생성된 값을 출력하는 함수\n",
    "def transmit1(output):\n",
    "    print(f'출력: {output:>5.1f}')\n",
    "\n",
    "# 실행함수\n",
    "def run1(it):\n",
    "    for output in it:\n",
    "        transmit1(output)\n",
    "        \n",
    "run1(wave1(3.0, 8))"
   ]
  },
  {
   "cell_type": "code",
   "execution_count": null,
   "id": "993b0b2f",
   "metadata": {},
   "outputs": [],
   "source": [
    "여기서 진폭을 지속적으로 변경하면서 라디오파를 생성하도록 하려면 어떻게 해야할까?\n",
    "위의 wave 제너레이터는 출력값을 내보낼 수만 있다."
   ]
  },
  {
   "cell_type": "markdown",
   "id": "cd43ebf4",
   "metadata": {},
   "source": [
    "### 제너레이터의 yield 키워드를 대입문 형식으로 작성하고\n",
    "### send() 메서드를 사용해 제너레이터를 호출함으로써  \n",
    "### 해당 제너레이터를 양방향 채널로 격상시켜준다\n",
    "\n",
    "### 특히 send() 메서드는 제너레이터와 코루틴을 구분하는 기준이 된다\n",
    "   "
   ]
  },
  {
   "cell_type": "markdown",
   "id": "cb7c4db7",
   "metadata": {},
   "source": [
    "### case1 양방향 통신"
   ]
  },
  {
   "cell_type": "code",
   "execution_count": 1,
   "id": "d7665e4f",
   "metadata": {},
   "outputs": [
    {
     "data": {
      "text/plain": [
       "1"
      ]
     },
     "execution_count": 1,
     "metadata": {},
     "output_type": "execute_result"
    }
   ],
   "source": [
    "def number_coroutine1():\n",
    "    while True:      \n",
    "        x = yield 1\n",
    "        print(f'받은 값 = {x}')\n",
    "\n",
    "co1 = number_coroutine1()\n",
    "\n",
    "next(co1)  # yield 1 이 실행되어 제너레이터 바깥으로 1이 반환되고 유휴"
   ]
  },
  {
   "cell_type": "code",
   "execution_count": 2,
   "id": "31b96be1",
   "metadata": {},
   "outputs": [
    {
     "name": "stdout",
     "output_type": "stream",
     "text": [
      "받은 값 = None\n"
     ]
    },
    {
     "data": {
      "text/plain": [
       "1"
      ]
     },
     "execution_count": 2,
     "metadata": {},
     "output_type": "execute_result"
    }
   ],
   "source": [
    "next(co1) # while loop에 재진입해 send()로 받은게 없으므로 print()는 None을 출력하고\n",
    "         # 다시 yield 1 리턴하고 유휴 "
   ]
  },
  {
   "cell_type": "code",
   "execution_count": 3,
   "id": "52a5b998",
   "metadata": {},
   "outputs": [
    {
     "name": "stdout",
     "output_type": "stream",
     "text": [
      "받은 값 = 1\n"
     ]
    },
    {
     "data": {
      "text/plain": [
       "1"
      ]
     },
     "execution_count": 3,
     "metadata": {},
     "output_type": "execute_result"
    }
   ],
   "source": [
    "co1.send(1) # send()로 값을 보내면 유휴 풀리고 x에 호출자가 보낸 값이 print(x)로 출력되고 \n",
    "           # 다시 yield 1 리턴하고 유휴"
   ]
  },
  {
   "cell_type": "markdown",
   "id": "94ed76fc",
   "metadata": {},
   "source": [
    "### case2 제너레이터가 값을 받기만하고 내놓는 건 없는 단방향 통신"
   ]
  },
  {
   "cell_type": "code",
   "execution_count": 4,
   "id": "8a0ff3ba",
   "metadata": {},
   "outputs": [
    {
     "name": "stdout",
     "output_type": "stream",
     "text": [
      "None\n"
     ]
    }
   ],
   "source": [
    "def number_coroutine2():\n",
    "    while True:      \n",
    "        x = yield     # yield 에 아무것도 반환하지 않게 하면 \n",
    "        print(f'받은 값 = {x}')\n",
    "\n",
    "co2 = number_coroutine2()\n",
    "\n",
    "print(next(co2))      # 최초 제너레이터 호출시 None 반환후 유휴"
   ]
  },
  {
   "cell_type": "code",
   "execution_count": 5,
   "id": "dda1ec33",
   "metadata": {},
   "outputs": [
    {
     "name": "stdout",
     "output_type": "stream",
     "text": [
      "받은 값 = None\n"
     ]
    }
   ],
   "source": [
    "next(co2)             # 재호출시 역시 아직 받은 값이 없으므로  print(x)는 None 출력후\n",
    "                     # while문에 재진입해 None 반환후 유휴 "
   ]
  },
  {
   "cell_type": "code",
   "execution_count": 6,
   "id": "a246a1d9",
   "metadata": {},
   "outputs": [
    {
     "name": "stdout",
     "output_type": "stream",
     "text": [
      "받은 값 = 1\n",
      "받은 값 = 2\n",
      "받은 값 = 3\n"
     ]
    }
   ],
   "source": [
    "co2.send(1)\n",
    "co2.send(2)\n",
    "co2.send(3)"
   ]
  },
  {
   "cell_type": "markdown",
   "id": "6e164baf",
   "metadata": {},
   "source": [
    "### case3 같은코드?"
   ]
  },
  {
   "cell_type": "code",
   "execution_count": 7,
   "id": "553c357c",
   "metadata": {},
   "outputs": [
    {
     "name": "stdout",
     "output_type": "stream",
     "text": [
      "None\n"
     ]
    }
   ],
   "source": [
    "def number_coroutine3():\n",
    "    while True:      \n",
    "        x = (yield)   # 괄호를 씌워주면 결과는 case2와 같은데 그냥 뭔가 함수를 호출하는 느낌을 준다고\n",
    "        print(f'받은 값 = {x}')\n",
    "\n",
    "co3 = number_coroutine3()\n",
    "\n",
    "print(next(co3))  # 최초 제너레이터 호출시 None 반환후 유휴"
   ]
  },
  {
   "cell_type": "code",
   "execution_count": 8,
   "id": "c0283314",
   "metadata": {},
   "outputs": [
    {
     "name": "stdout",
     "output_type": "stream",
     "text": [
      "받은 값 = None\n"
     ]
    }
   ],
   "source": [
    "next(co3)       # 재호출시 역시 아직 받은 값이 없으므로  print(x)는 None 출력후\n",
    "                # while문에 재진입해 None 반환후 유휴 "
   ]
  },
  {
   "cell_type": "code",
   "execution_count": 9,
   "id": "00c87147",
   "metadata": {},
   "outputs": [
    {
     "name": "stdout",
     "output_type": "stream",
     "text": [
      "받은 값 = 1\n",
      "받은 값 = 2\n",
      "받은 값 = 3\n"
     ]
    }
   ],
   "source": [
    "co3.send(1)\n",
    "co3.send(2)\n",
    "co3.send(3)"
   ]
  },
  {
   "cell_type": "markdown",
   "id": "8ea7d636",
   "metadata": {},
   "source": [
    "    즉 yield 키워드는 두 가지 일을 할 수 있다.\n",
    "    함수 바깥으로 값을 내보내거나   (호출자인 next()의 호출에 의해서)\n",
    "    함수 바깥에서 값을 받아오거나   (send()메서드를 통해서)"
   ]
  },
  {
   "cell_type": "markdown",
   "id": "a0d1ea55",
   "metadata": {},
   "source": [
    "    코루틴(제너레이터)에 값을 전송하는 것은 제너레이터가 유휴 상태일 때만 가능하다.   \n",
    "    따라서 코루틴을 최초로 구동해 일단 유휴상태에 접어들게 해야한다.   "
   ]
  },
  {
   "cell_type": "markdown",
   "id": "490689b5",
   "metadata": {},
   "source": [
    "    코루틴을 유휴 상태로 진입하게하는 방법은 \n",
    "    위처럼 next()를 사용해 코루틴을 한번 호출하거나\n",
    "    send(None)을 보내는 방법이 있다. "
   ]
  },
  {
   "cell_type": "code",
   "execution_count": 10,
   "id": "cdde4f52",
   "metadata": {},
   "outputs": [
    {
     "data": {
      "text/plain": [
       "2"
      ]
     },
     "execution_count": 10,
     "metadata": {},
     "output_type": "execute_result"
    }
   ],
   "source": [
    "def number_coroutine4():\n",
    "    while True:      \n",
    "        x = yield 2\n",
    "        print(f'받은 값 = {x}')\n",
    "\n",
    "co4 = number_coroutine4()\n",
    "\n",
    "co4.send(None)"
   ]
  },
  {
   "cell_type": "markdown",
   "id": "144c4416",
   "metadata": {},
   "source": [
    "반면   \n",
    "yield 구문을 코루틴이 가능하게 위처럼 작성해도   \n",
    "   \n",
    "   \n",
    "send()를 쓰지 않고 next()만 쓴다면   \n",
    "    \n",
    "    (for loop등 반복을 수행하는 어떤 함수로든 래핑을 해서 이터레이션을 한다면)\n",
    "   \n",
    "   \n",
    "결과적으론 일반적인 제너레이터를 쓰는 것이 된다"
   ]
  },
  {
   "cell_type": "markdown",
   "id": "dbcc7cff",
   "metadata": {},
   "source": [
    "### 이제 라디오파 함수의 진폭을 변경할 수 있는 코루틴은 다음과 같이 만들 수 있다"
   ]
  },
  {
   "cell_type": "code",
   "execution_count": 28,
   "id": "f0a93d12",
   "metadata": {},
   "outputs": [],
   "source": [
    "import math\n",
    "\n",
    "# def wave(amplitude, steps):   \n",
    "def wave2(steps):   \n",
    "    step_size = 2 * math.pi / steps\n",
    "    amplitude = yield       # 초기 진폭을 받는 코드를 추가 \n",
    "    for step in range(steps):\n",
    "        radians = step * step_size\n",
    "        fraction = math.sin(radians)\n",
    "        output = amplitude * fraction\n",
    "#         yield output\n",
    "        amplitude = yield output # 외부에서 받은 진폭의 라디오파를 출력하고, 다음에 받게될 진폭값을 받는 코드를 추가 "
   ]
  },
  {
   "cell_type": "markdown",
   "id": "bb17098c",
   "metadata": {},
   "source": [
    "실행함수도 계속해서 진폭값이 달라지도록 제너레이터에 스트리밍되게 코드를 바꿔줘야 한다"
   ]
  },
  {
   "cell_type": "code",
   "execution_count": 29,
   "id": "52abe7c7",
   "metadata": {},
   "outputs": [
    {
     "name": "stdout",
     "output_type": "stream",
     "text": [
      "출력: None\n",
      "출력:   0.0\n",
      "출력:   3.5\n",
      "출력:   6.1\n",
      "출력:   2.0\n",
      "출력:   1.7\n",
      "출력:   1.0\n",
      "출력:   0.0\n",
      "출력:  -5.0\n",
      "출력:  -8.7\n",
      "출력: -10.0\n",
      "출력:  -8.7\n",
      "출력:  -5.0\n"
     ]
    }
   ],
   "source": [
    "# 생성된 값을 출력하는 함수\n",
    "def transmit2(output):\n",
    "    if type(output) == float:\n",
    "        print(f'출력: {output:>5.1f}')\n",
    "    else:\n",
    "        print(f'출력: {output}')\n",
    "\n",
    "# 실행함수도 수정\n",
    "def run2(it):\n",
    "#     for output in it:\n",
    "#         transmit(output)\n",
    "\n",
    "#코루틴을 유휴상태로 진입시켜 값을 받을 수 있게 하기위해 처음 값 None으로 설정\n",
    "    amplitudes = [None, 7, 7, 7, 2, 2, 2, 2, 10, 10, 10, 10, 10]  \n",
    "                 \n",
    "    for amplitude in amplitudes:\n",
    "        try:\n",
    "            output = it.send(amplitude)\n",
    "        except StopIteration:\n",
    "            pass\n",
    "        transmit2(output)\n",
    "        \n",
    "run2(wave2(12))"
   ]
  },
  {
   "cell_type": "code",
   "execution_count": null,
   "id": "bf6a968e",
   "metadata": {},
   "outputs": [],
   "source": []
  },
  {
   "cell_type": "markdown",
   "id": "af9270d3",
   "metadata": {},
   "source": [
    "### 복수의 제너레이터들을 모아서 하나로 합성하고 싶을 수도 있다\n",
    "### 이럴 때 yield from을 쓸 수 있다"
   ]
  },
  {
   "cell_type": "code",
   "execution_count": 36,
   "id": "0da079ec",
   "metadata": {},
   "outputs": [
    {
     "name": "stdout",
     "output_type": "stream",
     "text": [
      "출력:   0.0\n",
      "출력:   6.1\n",
      "출력:  -6.1\n",
      "출력:   0.0\n",
      "출력:   2.0\n",
      "출력:   0.0\n",
      "출력:  -2.0\n",
      "출력:   0.0\n",
      "출력:   4.8\n",
      "출력:   2.9\n",
      "출력:  -2.9\n",
      "출력:  -4.8\n"
     ]
    }
   ],
   "source": [
    "import math\n",
    "\n",
    "# 진폭이 3으로 고정된 라디오파를 생성하는 함수\n",
    "def wave1(amplitude, steps):   \n",
    "    step_size = 2 * math.pi / steps\n",
    "    for step in range(steps):\n",
    "        radians = step * step_size\n",
    "        fraction = math.sin(radians)\n",
    "        output = amplitude * fraction\n",
    "        yield output\n",
    "\n",
    "# 생성된 값을 출력하는 함수\n",
    "def transmit1(output):\n",
    "    print(f'출력: {output:>5.1f}')\n",
    "\n",
    "# 실행함수\n",
    "def run1(it):\n",
    "    for output in it:\n",
    "        transmit1(output)\n",
    "\n",
    "\n",
    "def complex_wave1():\n",
    "    yield from wave1(7.0, 3)\n",
    "    yield from wave1(2.0, 4)\n",
    "    yield from wave1(5.0, 5)\n",
    "\n",
    "run1(complex_wave1())"
   ]
  },
  {
   "cell_type": "code",
   "execution_count": null,
   "id": "4ec0b71d",
   "metadata": {},
   "outputs": [],
   "source": []
  },
  {
   "cell_type": "markdown",
   "id": "0615511e",
   "metadata": {},
   "source": [
    "### 그렇다면 코루틴들도 합성할 수 있을 것이다"
   ]
  },
  {
   "cell_type": "code",
   "execution_count": 31,
   "id": "635d8cdc",
   "metadata": {},
   "outputs": [
    {
     "name": "stdout",
     "output_type": "stream",
     "text": [
      "출력: None\n",
      "출력:   0.0\n",
      "출력:   6.1\n",
      "출력:  -6.1\n",
      "출력: None\n",
      "출력:   0.0\n",
      "출력:   2.0\n",
      "출력:   0.0\n",
      "출력: -10.0\n",
      "출력: None\n",
      "출력:   0.0\n",
      "출력:   9.5\n",
      "출력:   5.9\n"
     ]
    }
   ],
   "source": [
    "def complex_wave2():\n",
    "    yield from wave2(3)\n",
    "    yield from wave2(4)\n",
    "    yield from wave2(5)\n",
    "\n",
    "run2(complex_wave2())"
   ]
  },
  {
   "cell_type": "markdown",
   "id": "cb7191e4",
   "metadata": {},
   "source": [
    "    위에서 보다시피 중간중간 None이 나와 보기에 좋지가 않다   \n",
    "    이렇게 코루틴을 합성할 때는 send()를 쓰지 않고\n",
    "    서브루틴 함수에 이터레이터를 전달하는 게 좋은 방법이다"
   ]
  },
  {
   "cell_type": "code",
   "execution_count": 42,
   "id": "1e94d480",
   "metadata": {},
   "outputs": [
    {
     "name": "stdout",
     "output_type": "stream",
     "text": [
      "출력:   0.0\n",
      "출력:   6.1\n",
      "출력:  -6.1\n",
      "출력:   0.0\n",
      "출력:   2.0\n",
      "출력:   0.0\n",
      "출력:  -2.0\n",
      "출력:   0.0\n",
      "출력:   9.5\n",
      "출력:   5.9\n",
      "출력:  -5.9\n",
      "출력:  -9.5\n"
     ]
    }
   ],
   "source": [
    "import math\n",
    "\n",
    "# def wave(amplitude, steps):   \n",
    "# def wave2(steps):   \n",
    "def wave3(amplitude_it, steps):\n",
    "    step_size = 2 * math.pi / steps\n",
    "#     amplitude = yield        초기 진폭을 받는 코드를 삭제\n",
    "    for step in range(steps):\n",
    "        radians = step * step_size\n",
    "        fraction = math.sin(radians)\n",
    "        amplitude = next(amplitude_it) # 다음 입력 받기 \n",
    "        output = amplitude * fraction\n",
    "        yield output  \n",
    "#         amplitude = yield output # 외부에서 받은 진폭의 라디오파를 출력하고, 다음에 받게될 진폭값을 받는 코드도 삭제\n",
    "\n",
    "\n",
    "def complex_wave3(amplitude_it):\n",
    "    yield from wave3(amplitude_it, 3)\n",
    "    yield from wave3(amplitude_it, 4)\n",
    "    yield from wave3(amplitude_it, 5)\n",
    "    \n",
    "    \n",
    "# 실행함수\n",
    "def run3():\n",
    "#     for output in it:\n",
    "#         transmit(output)\n",
    "\n",
    "#     amplitudes = [None, 7, 7, 7, 2, 2, 2, 2, 10, 10, 10, 10, 10]  \n",
    "    amplitudes = [7, 7, 7, 2, 2, 2, 2, 10, 10, 10, 10, 10]\n",
    "    \n",
    "    it = complex_wave3(iter(amplitudes)) # 서브루틴들에 이터레이터를 줌으로써 \n",
    "                 \n",
    "    for _ in range(len(amplitudes)):\n",
    "        try:\n",
    "#             output = it.send(amplitude)\n",
    "            output = next(it)            # next()로 서브루틴에서 반환하길 원하는 값을 차례로 요청한다 \n",
    "        except StopIteration:                  # >>> 이게 코루틴을 합성한건진 모르겠다\n",
    "            pass\n",
    "        transmit2(output)\n",
    "        \n",
    "run3()\n",
    "\n",
    "\"\"\"\n",
    "어쨌든 저게 가능한 이유는, 이터레이터는 상태가 있기 때문에 \n",
    "complex_wave3에 내포된 제너레이터들은 \n",
    "앞에 있는 제너레이터가 처리를 끝낸시점부터 데이터를 가져와 처리할 수 있다\n",
    "이런 식으로 제너레이터들을 연쇄시켜 입출력이 차례로 처리되게 만들 수도 있다\n",
    "\"\"\""
   ]
  },
  {
   "cell_type": "markdown",
   "id": "f48c79cf",
   "metadata": {},
   "source": [
    "이 코드의 문제는 입력 제너레이터가 완전히 스레드 안전(thread-safe) 하다고 가정한다는 것이다.   \n",
    "제너레이터가 항상 스레드 안전하지는 않다   \n",
    "따라서 스레드 경계를 넘나들며 제너레이터를 사용해야 한다면 async함수가 더 나은 해법일 수도 있다   "
   ]
  },
  {
   "cell_type": "code",
   "execution_count": null,
   "id": "ac4c1bc3",
   "metadata": {},
   "outputs": [],
   "source": [
    "제너레이터와 코루틴은 문법적으로(기술적으로) 동일하지만 의미적으로는 다르다   \n",
    "효율적인 반복을 원할 때는 제너레이터를 사용하고, 논블로킹 I/O 작업을 원할 때는 코루틴을 사용한다.   \n",
    "\n",
    "# 동기/비동기/블로킹/논블로킹 IO 참고자료 : https://baek-kim-dev.site/38\n",
    "\n",
    "좀더 명확한 분류를 위해   \n",
    "파이썬 3.5 이전에는 yield from 구문을 사용해 코루틴으로 활용했다면   \n",
    "3.5 이후버전 부터는 코루틴이라는 새로운 타입이 추가되었다.\n",
    "새로운 구문으로 await와 async def가 추가되었고   \n",
    "await는 yield from을 대신하기 위한 용도로 awaitable객체에 대해서만 동작한다. (코루틴은 awaitable이다)\n",
    "async def는 코루틴을 정의하는 새로운 방법이다. \n",
    "\n",
    "파이썬에서 비동기 프로그래밍을 한다는 것은 일련의 코루틴을 관리하는 이벤트 루프가 있다는 뜻이다   \n",
    "(이벤트 루프는 표준라이브러리의 asyncio를 뜻한다)   \n",
    "일련의 코루틴들은 이벤트 루프에 속하며, 이벤트 루프의 스케쥴링 메커니즘에 따라 호출된다 \n",
    "\n",
    "각각의 코루틴이 실행되면 사용자가 작성한 내부 코드가 실행되고   \n",
    "다시 이벤트 루프에 제어권을 반납하려면 await <coroutine>을 호출하면 된다   \n",
    "await <coroutine>은 yield처럼 호출자(이벤트 루프)에 제어권을 넘겨줌으로써   \n",
    "이벤트 루프가 작업을 비동기적으로 관리할 수 있게 해준다. "
   ]
  }
 ],
 "metadata": {
  "kernelspec": {
   "display_name": "Python 3",
   "language": "python",
   "name": "python3"
  },
  "language_info": {
   "codemirror_mode": {
    "name": "ipython",
    "version": 3
   },
   "file_extension": ".py",
   "mimetype": "text/x-python",
   "name": "python",
   "nbconvert_exporter": "python",
   "pygments_lexer": "ipython3",
   "version": "3.9.6"
  }
 },
 "nbformat": 4,
 "nbformat_minor": 5
}
