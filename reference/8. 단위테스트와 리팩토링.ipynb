{
 "cells": [
  {
   "cell_type": "markdown",
   "metadata": {},
   "source": [
    "# 8. 단위테스트와 리팩토링"
   ]
  },
  {
   "cell_type": "markdown",
   "metadata": {},
   "source": [
    "1. 애자일 소프트웨어 개발 방법론에서 자동화된 테스트가 중요한 이유\n",
    "2. 단위테스트가 코드 품질에 대한 거울이 되는 이유\n",
    "3. 자동화된 테스트와 품질 게이트를 설정하기 위한 프레임워크와 도구\n",
    "4. 단위 테스트가 문서화와 도메인 문제의 깊은 이해에 도움을 주는 이유\n",
    "5. 테스트 주도 개발(TDD)의 개념"
   ]
  },
  {
   "cell_type": "markdown",
   "metadata": {},
   "source": [
    "## 디자인 원칙과 단위테스트"
   ]
  },
  {
   "cell_type": "markdown",
   "metadata": {},
   "source": [
    "- 단위테스트: 다른코드의 일부분이 유효한지 검사하는 것\n",
    "  - 격리: 다른 외부 에이전트와 완전히 독립적이어야 하며 비즈니스 로직에 집중해야 함.(DB, http 요청 없어야 함.) 임의의 순서로 실행할 수 있어야 함.\n",
    "  - 성능: 신속하게 실행해야 함. 반복적으로 여러 번 실행할 수 있도록 설계\n",
    "  - 자체 검증: 단위테스트 실행 만으로 결과를 결정할 수 있어야 함.\n",
    "- .py 파일을 만들고 도구에서 호출, "
   ]
  },
  {
   "cell_type": "markdown",
   "metadata": {},
   "source": [
    "### 자동화된 테스트의 다른 형태"
   ]
  },
  {
   "cell_type": "markdown",
   "metadata": {},
   "source": [
    "- 테스트 스위트를 구성하고 코드를 수정할 때마다 반복적으로 단위테스트와 리팩토링 수행\n",
    "- 통합테스트와 인수테스트: 시간이 걸림\n",
    "- 실용성이 이상보다 우선"
   ]
  },
  {
   "cell_type": "markdown",
   "metadata": {},
   "source": [
    "### 단위 테스트와 애자일 소프트웨어 개발"
   ]
  },
  {
   "cell_type": "markdown",
   "metadata": {},
   "source": [
    "- 버그없이 기능이 구현되었다는 공식적인 증거가 필요함."
   ]
  },
  {
   "cell_type": "markdown",
   "metadata": {},
   "source": [
    "### 단위 테스트와 소프트웨어 디자인"
   ]
  },
  {
   "cell_type": "markdown",
   "metadata": {},
   "source": [
    "- 단위테스트를 통한 코드 개선\n",
    "- ut_design_1.py\n",
    "- 특정 작업에서 얻은 지표를 외부 시스템에 보내는 프로세스\n",
    "- 파라미터가 문자열이어야 함.\n",
    "- ut_design_2.py: main 메서드는 그대로 두고 wrapper 클래스를 사용함.\n",
    "- test_ut_design_2.py: Mock은 어떤 종류의 타입에도 사용할 수 있는 객체"
   ]
  },
  {
   "cell_type": "markdown",
   "metadata": {},
   "source": [
    "### 테스트의 경계 정하기"
   ]
  },
  {
   "cell_type": "markdown",
   "metadata": {},
   "source": [
    "- 테스트의 범위는 작성한 코드의 범위로 한정\n",
    "- 핵심 기능에 초점"
   ]
  },
  {
   "cell_type": "markdown",
   "metadata": {},
   "source": [
    "## 테스트를 위한 프레임워크와 도구"
   ]
  },
  {
   "cell_type": "markdown",
   "metadata": {},
   "source": [
    "### 단위 테스트 프레임워크와 라이브러리"
   ]
  },
  {
   "cell_type": "markdown",
   "metadata": {},
   "source": [
    "- merge request에 대해 코드 리뷰를 도와주는 간단한 버전 제어도구"
   ]
  },
  {
   "cell_type": "markdown",
   "metadata": {},
   "source": [
    "- ut_frameworks_1.py\n",
    "- 머지 리퀘스트에 대해 코드리뷰를 도와주는 간단한 버전제어 도구\n",
    "    - 한 명 이상의 사용자가 변경 내용에 동의하지 않는 경우 머지 리퀘스트가 거절(reject)됨\n",
    "    - 아무도 반대하지 않고 두 명 이상의 개발자가 동의하면 승인(approved)됨\n",
    "    - 이외의 상태는 보류(pending)"
   ]
  },
  {
   "cell_type": "markdown",
   "metadata": {},
   "source": [
    "#### unittest"
   ]
  },
  {
   "cell_type": "markdown",
   "metadata": {},
   "source": [
    "- 파이썬 표준 라이브러리\n",
    "- JUnit 기반\n",
    "- unittest.TestCase를 상속하여 테스트 클래스 작성\n"
   ]
  },
  {
   "cell_type": "markdown",
   "metadata": {},
   "source": [
    "- test_ut_frameworks.py\n",
    "- assertEquals(actual, expected[, Message]): 실행값 예상값 비교\n",
    "- ut_frameworks_2.py: 머지 리퀘스트 종료를 위해 두 개의 새로운 상태(OPEN,CLOSE)와 한 개의 메서드 close()추가\n",
    "- assertRaises: 제공한 예외가 실제로 발생하는 지 확인\n",
    "- assertRaisesRegex: 발생된 예외의 메세지가 제공된 정규식과 일치하는 지 확인"
   ]
  },
  {
   "cell_type": "markdown",
   "metadata": {},
   "source": [
    "##### 테스트 파라미터화\n",
    "- 임계값을 변경하며 test\n",
    "- 해당 컴포넌트를 다른 클래스로 분리하고 컴포지션을 사용하여 다시 가져오는 것\n",
    "- ut_frameworks_3.py\n",
    "- AcceptanceThreshold 클래스로 분리\n",
    "- setUp() 메서드는 데이터 픽스처 정의\n",
    "- subTest 헬퍼: 호출되는 테스트 조건을 표시"
   ]
  },
  {
   "cell_type": "markdown",
   "metadata": {},
   "source": [
    "#### pytest"
   ]
  },
  {
   "cell_type": "markdown",
   "metadata": {},
   "source": [
    "- assert 구문 만으로 검사 가능\n",
    "- assert 비교 만으로 단위테스트 식별하고 결과 보고 가능\n",
    "- 모든 테스트를 한번에 실행할 수 있다.\n",
    "- unittest 구문도 가능"
   ]
  },
  {
   "cell_type": "markdown",
   "metadata": {},
   "source": [
    "##### 기초적인 pytest 사용예"
   ]
  },
  {
   "cell_type": "markdown",
   "metadata": {},
   "source": [
    "- test_ut_frameworks_4.py\n",
    "- 간단한 assert만 사용\n",
    "- 예외 발생 유무는 일부 함수를 사용해야 함.\n",
    "- pytest.raises는 unittest.TestCase.assertRaises와 동일하며 예외 메시지 검색은 match 파라미터에 표현식을 전달하면 됨"
   ]
  },
  {
   "cell_type": "markdown",
   "metadata": {},
   "source": [
    "##### 테스트 파라미터화"
   ]
  },
  {
   "cell_type": "markdown",
   "metadata": {},
   "source": [
    "- pytest.mark.parametrize 데코레이터 사용\n",
    "- 데코레이터의 첫번째 파라미터는 파라미터 이름, 두번째는 각각의 값, 반복 가능해야 함."
   ]
  },
  {
   "cell_type": "markdown",
   "metadata": {},
   "source": [
    "##### 픽스처(fixture)"
   ]
  },
  {
   "cell_type": "markdown",
   "metadata": {},
   "source": [
    "- ut_frameworks_5.py\n",
    "- @pytest.fixture 데코레이터 작용\n",
    "- 직접호출되지 않는 함수를 수정하거나 사용될 객체를 미리 설정하는 등의 사전조건 설정에도 사용"
   ]
  },
  {
   "cell_type": "markdown",
   "metadata": {},
   "source": [
    "### 코드커버리지"
   ]
  },
  {
   "cell_type": "markdown",
   "metadata": {},
   "source": [
    "- 코드의 어떤 부분이 실행되고 있는지 알려줌"
   ]
  },
  {
   "cell_type": "markdown",
   "metadata": {},
   "source": [
    "#### 코드커버리지 도구 설정"
   ]
  },
  {
   "cell_type": "markdown",
   "metadata": {},
   "source": [
    "- pytest: pytest-cov\n",
    "- 출력 결과에 단위테스트 하지 않은 라인이 표시\n",
    "- 높은 커버리지를 신뢰할 수 있는가? "
   ]
  },
  {
   "cell_type": "code",
   "execution_count": 1,
   "metadata": {},
   "outputs": [
    {
     "name": "stdout",
     "output_type": "stream",
     "text": [
      "\u001b[1m============================= test session starts ==============================\u001b[0m\n",
      "platform darwin -- Python 3.8.8, pytest-6.2.3, py-1.10.0, pluggy-0.13.1\n",
      "rootdir: /Users/fourmodern/Clean-Code-in-Python-master/Chapter08\n",
      "plugins: anyio-2.2.0, hypothesis-6.29.0, cov-3.0.0\n",
      "collected 16 items                                                             \u001b[0m\n",
      "\n",
      "test_coverage_1.py \u001b[32m.\u001b[0m\u001b[32m.\u001b[0m\u001b[32m.\u001b[0m\u001b[32m.\u001b[0m\u001b[32m.\u001b[0m\u001b[32m.\u001b[0m\u001b[32m.\u001b[0m\u001b[32m.\u001b[0m\u001b[32m.\u001b[0m\u001b[32m.\u001b[0m\u001b[32m.\u001b[0m\u001b[32m.\u001b[0m\u001b[32m.\u001b[0m\u001b[32m.\u001b[0m\u001b[32m.\u001b[0m\u001b[32m.\u001b[0m\u001b[32m                                      [100%]\u001b[0m\n",
      "\n",
      "---------- coverage: platform darwin, python 3.8.8-final-0 -----------\n",
      "Name            Stmts   Miss  Cover   Missing\n",
      "---------------------------------------------\n",
      "coverage_1.py      39      1    97%   44\n",
      "---------------------------------------------\n",
      "TOTAL              39      1    97%\n",
      "\n",
      "\n",
      "\u001b[32m============================== \u001b[32m\u001b[1m16 passed\u001b[0m\u001b[32m in 0.12s\u001b[0m\u001b[32m ==============================\u001b[0m\n"
     ]
    }
   ],
   "source": [
    "!pytest \\\n",
    "   --cov-report term-missing \\\n",
    "   --cov=coverage_1 \\\n",
    "   test_coverage_1.py"
   ]
  },
  {
   "cell_type": "markdown",
   "metadata": {},
   "source": [
    "#### 코드커버리지 사용 시 주의사항"
   ]
  },
  {
   "cell_type": "markdown",
   "metadata": {},
   "source": [
    "- 라인이 인터프리트 되었다고 해서 적절히 테스트 되었다는 것을 의미하지는 않는다."
   ]
  },
  {
   "cell_type": "markdown",
   "metadata": {},
   "source": [
    "### 모의(mock) 객체"
   ]
  },
  {
   "cell_type": "markdown",
   "metadata": {},
   "source": [
    "- 원하지 않는 부작용으로 부터 테스트 코드를 보호하는 방법"
   ]
  },
  {
   "cell_type": "markdown",
   "metadata": {},
   "source": [
    "#### 패치와 모의에 대한 주의사항"
   ]
  },
  {
   "cell_type": "markdown",
   "metadata": {},
   "source": [
    "- 패치: 원본코드를 모의 객체 같은 다른 것으로 대체하는 것\n",
    "- unittest.mock.patch에서 객체를 패치하기 위한 도구 제공\n",
    "- 몽키 패치나 모의를 사용하는 것은 문제가 없으나 남용한다면 원본 코드를 개선할 여지가 있다는 것"
   ]
  },
  {
   "cell_type": "markdown",
   "metadata": {},
   "source": [
    "#### Mock 객체 사용하기"
   ]
  },
  {
   "cell_type": "markdown",
   "metadata": {},
   "source": [
    "- 테스트 더블: \n",
    "  - 테스트 스위트에서 실제 코드처럼 작동하는 코드\n",
    "  - 더미(dummy), 스텁(stub), 스파이(spy), 모의(mock)등\n",
    "- 모의(Mock)\n",
    "  - 스펙을 따르는 객체 타입으로 응답 값을 수정할 수 있음.\n",
    "  - unittest.mock.Mock"
   ]
  },
  {
   "cell_type": "markdown",
   "metadata": {},
   "source": [
    "#### mock 객체의 종류\n",
    "- unittest.mock\n",
    "  - Mock: 모든 값을 반환, 모든 호출 추적\n",
    "  - MagicMock: 매직 메서드 지원\n",
    "  - mock_1.py, test_mock_1.py"
   ]
  },
  {
   "cell_type": "markdown",
   "metadata": {},
   "source": [
    "#### 테스트 더블의 사용 예\n",
    "- mock_2.py, test_mock_2.py\n",
    "- 애플리케이션에 머지 리퀘스트의 빌드 상태를 알리는 컴포넌트\n",
    "- 빌드가 끝나면 머지 리퀘스트 아이디와 빌드 상태를 파라미터로 하여 객체를 호출-> 특정 엔드포인트에 POST 요청을 보내 업데이트\n",
    "- 외부 모듈에 대한 의존성이 큼\n",
    "- 그대로 실행하면 http 연결 시도 중 바로 실패\n",
    "- 실제 API를 호출할 필요는 없음\n",
    "- 또한 시간값이 고정되어야 하는데 datetime을 직접 패치할 수 없음그래서 build_date 정적 메소드 래핑\n",
    "- @mock.patch 데코레이터를 사용하여 테스트안에서 mock_2.request를 호출하면 mock_requests라는 mock 객체가 대신할 것이라고 알려줌\n",
    "- mock.patch 함수를 컨텍스트 매니저로 활용하여 build_date() 호출 시 assertion에 사용할 build_date 날짜 반환\n",
    "- BuildStatus.notify @classmethod를 호출을 통해 mock 객체의 post 메서드에 파라미터가 전달될 경우 http가 200이 될 것이라 지정"
   ]
  },
  {
   "cell_type": "markdown",
   "metadata": {},
   "source": [
    "## 리팩토링"
   ]
  },
  {
   "cell_type": "markdown",
   "metadata": {},
   "source": [
    "- 구조를 개선하여 나은 코드를 만들거나 좀 더 일반적인 코드로 수정하여 가독성을 높임\n",
    "- 컴포넌트의 고객 관점에서는 아무 일도 없는 것처럼 느껴져야 함.\n",
    "- 수정된 코드에 대한 회귀 테스트를 실행해야 하며 이는 테스트의 자동화와 단위테스트가 필요한 이유임"
   ]
  },
  {
   "cell_type": "markdown",
   "metadata": {},
   "source": [
    "### 코드의 진화"
   ]
  },
  {
   "cell_type": "markdown",
   "metadata": {},
   "source": [
    "- refactoring_1.py\n",
    "- mock.patch는 지시한 객체 대신 Mock 객체를 돌려주어 편리하지만 객체의 경로를 문자열로 제공하여야 하는 단점이 있음\n",
    "- notify()가 requests에 직접 의존하는 것은 문제이므로 더 작은 메서드로 나누고 의존성을 주입.\n",
    "- notify()를 compose와 deliver로 나누고 compose_payload()를 만들고 transport라는 의존성을 주입\n",
    "- test_refactoring_1.py"
   ]
  },
  {
   "cell_type": "markdown",
   "metadata": {},
   "source": [
    "### 상용코드만 진화하는 것이 아니다"
   ]
  },
  {
   "cell_type": "markdown",
   "metadata": {},
   "source": [
    "- 단위테스트 코드도 확장성을 염두해 두고, 유지보수 가능하도록 디자인해야 한다.\n",
    "- test_refacotring_2.py\n",
    "- mergerequest에서 다양한 조합으로 상태를 확인하였으나 더 나은 추상화도 가능\n",
    "- MergeRequest 클래스를 대상으로 하는 테스트 스위트 객체가 있는 경우 테스트는 이 클래스의 역할에만 초점을 맞출 수 있다."
   ]
  },
  {
   "cell_type": "markdown",
   "metadata": {},
   "source": [
    "## 단위테스트에 대한 추가 논의"
   ]
  },
  {
   "cell_type": "markdown",
   "metadata": {},
   "source": [
    "- 작성한 테스트의 완벽성 (그것으로 충분한지 어떻게 확신할 수 있는가?)->속성기반 테스트\n",
    "- 테스트가 정말 정확한지 확인(시나리오 검증과 누락된 것이 없다는 것을 확신할 수 있을까?) ->돌연변이 변형 테스트 "
   ]
  },
  {
   "cell_type": "markdown",
   "metadata": {},
   "source": [
    "### 속성 기반 테스트"
   ]
  },
  {
   "cell_type": "markdown",
   "metadata": {},
   "source": [
    "- property-based test: 테스트를 실패하게 만드는 데이터를 찾는 것\n",
    "- hypothesis 라이브러리 사용"
   ]
  },
  {
   "cell_type": "markdown",
   "metadata": {},
   "source": [
    "### 변형 테스트"
   ]
  },
  {
   "cell_type": "markdown",
   "metadata": {},
   "source": [
    "- 테스트는 작성된 코드가 정확하다는 증거, 그럼 테스트가 정확한지는? -> 상용코드가 확인\n",
    "- 변형 테스트 도구를 사용하면 원래 코드를 변경한 새로운 버전으로 코드가 수정됨\n",
    "- 돌연변이가 생존하면 나쁜 징후\n",
    "- mutation_testing_1.py, test_mutation_testing_1.py"
   ]
  },
  {
   "cell_type": "code",
   "execution_count": 4,
   "metadata": {},
   "outputs": [
    {
     "name": "stdout",
     "output_type": "stream",
     "text": [
      "[*] Start mutation process:\n",
      "   - targets: mutation_testing_1\n",
      "   - tests: test_mutation_testing_1\n",
      "[*] 1 tests passed:\n",
      "   - test_mutation_testing_1 [0.00016 s]\n",
      "[*] Start mutants generation and execution:\n",
      "   - [#   1] ROR mutation_testing_1: \n",
      "--------------------------------------------------------------------------------\n",
      "   5: from mrstatus import MergeRequestStatus as Status\n",
      "   6: \n",
      "   7: \n",
      "   8: def evaluate_merge_request(upvote_count, downvotes_count):\n",
      "-  9:     if downvotes_count > 0:\n",
      "+  9:     if downvotes_count < 0:\n",
      "  10:         return Status.REJECTED\n",
      "  11:     if upvote_count >= 2:\n",
      "  12:         return Status.APPROVED\n",
      "  13:     return Status.PENDING\n",
      "--------------------------------------------------------------------------------\n",
      "[0.27509 s] survived\n",
      "   - [#   2] ROR mutation_testing_1: \n",
      "--------------------------------------------------------------------------------\n",
      "   5: from mrstatus import MergeRequestStatus as Status\n",
      "   6: \n",
      "   7: \n",
      "   8: def evaluate_merge_request(upvote_count, downvotes_count):\n",
      "-  9:     if downvotes_count > 0:\n",
      "+  9:     if downvotes_count >= 0:\n",
      "  10:         return Status.REJECTED\n",
      "  11:     if upvote_count >= 2:\n",
      "  12:         return Status.APPROVED\n",
      "  13:     return Status.PENDING\n",
      "--------------------------------------------------------------------------------\n",
      "[0.26168 s] survived\n",
      "   - [#   3] ROR mutation_testing_1: \n",
      "--------------------------------------------------------------------------------\n",
      "   7: \n",
      "   8: def evaluate_merge_request(upvote_count, downvotes_count):\n",
      "   9:     if downvotes_count > 0:\n",
      "  10:         return Status.REJECTED\n",
      "- 11:     if upvote_count >= 2:\n",
      "+ 11:     if upvote_count <= 2:\n",
      "  12:         return Status.APPROVED\n",
      "  13:     return Status.PENDING\n",
      "--------------------------------------------------------------------------------\n",
      "[0.26360 s] survived\n",
      "   - [#   4] ROR mutation_testing_1: \n",
      "--------------------------------------------------------------------------------\n",
      "   7: \n",
      "   8: def evaluate_merge_request(upvote_count, downvotes_count):\n",
      "   9:     if downvotes_count > 0:\n",
      "  10:         return Status.REJECTED\n",
      "- 11:     if upvote_count >= 2:\n",
      "+ 11:     if upvote_count > 2:\n",
      "  12:         return Status.APPROVED\n",
      "  13:     return Status.PENDING\n",
      "--------------------------------------------------------------------------------\n",
      "[0.26239 s] survived\n",
      "[*] Mutation score [1.09335 s]: 0.0%\n",
      "   - all: 4\n",
      "   - killed: 0 (0.0%)\n",
      "   - survived: 4 (100.0%)\n",
      "   - incompetent: 0 (0.0%)\n",
      "   - timeout: 0 (0.0%)\n"
     ]
    }
   ],
   "source": [
    "!mut.py \\\n",
    "    --target mutation_testing_1 \\\n",
    "    --unit-test test_mutation_testing_1 \\\n",
    "    --operator AOD  `# delete arithmetic operator` \\\n",
    "    --operator AOR  `# replace arithmetic operator` \\\n",
    "    --operator COD  `# delete conditional operator` \\\n",
    "    --operator COI  `# insert conditional operator` \\\n",
    "    --operator CRP  `# replace constant` \\\n",
    "    --operator ROR  `# replace relational operator` \\\n",
    "    --show-mutants"
   ]
  },
  {
   "cell_type": "markdown",
   "metadata": {},
   "source": [
    "## 테스트 주도 개발 간략 소개"
   ]
  },
  {
   "cell_type": "markdown",
   "metadata": {},
   "source": [
    "- TDD의 요점은 기능의 결함으로 실패하게 될 테스트를 상용화 전에 미리 작성해야 한다는 것이다.\n",
    "- 테스트를 먼저 작성하면 코드를 아주 정밀하게 다룰 수 있고, 기본적인 기능테스트를 누락할 가능성이 매우 낮아짐.\n",
    "- 3단계로 구성 \n",
    "    - 구현내용을 기술하는 단위 테스트 작성 (red)\n",
    "    - 해당 조건을 충족시키는 퇴소한의 필수코드를 구현 후 테스트 재실행(green)\n",
    "    - 리팩토링(refactor)"
   ]
  },
  {
   "cell_type": "markdown",
   "metadata": {},
   "source": [
    "## 요약"
   ]
  },
  {
   "cell_type": "markdown",
   "metadata": {},
   "source": [
    "- 궁극적으로 단위테스트는 코드의 품질을 결정\n",
    "- 단위 테스트 코드는 상용 코드 만큼이나 중요\n",
    "- 단위테스트를 다양한 방식으로 확장하는 것은 좋은 투자임"
   ]
  },
  {
   "cell_type": "code",
   "execution_count": null,
   "metadata": {},
   "outputs": [],
   "source": []
  }
 ],
 "metadata": {
  "kernelspec": {
   "display_name": "Python 3",
   "language": "python",
   "name": "python3"
  },
  "language_info": {
   "codemirror_mode": {
    "name": "ipython",
    "version": 3
   },
   "file_extension": ".py",
   "mimetype": "text/x-python",
   "name": "python",
   "nbconvert_exporter": "python",
   "pygments_lexer": "ipython3",
   "version": "3.8.8"
  }
 },
 "nbformat": 4,
 "nbformat_minor": 4
}
